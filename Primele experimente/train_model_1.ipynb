{
 "cells": [
  {
   "cell_type": "code",
   "execution_count": 2,
   "id": "8d708d15-b938-4c22-b664-dffe6a58bf85",
   "metadata": {
    "tags": []
   },
   "outputs": [
    {
     "name": "stdout",
     "output_type": "stream",
     "text": [
      "\u001b[31mERROR: Cannot install tflite-model-maker==0.1.2, tflite-model-maker==0.2.0, tflite-model-maker==0.2.1, tflite-model-maker==0.2.2, tflite-model-maker==0.2.3, tflite-model-maker==0.2.4, tflite-model-maker==0.2.5, tflite-model-maker==0.3.3, tflite-model-maker==0.3.4, tflite-model-maker==0.4.0, tflite-model-maker==0.4.1, tflite-model-maker==0.4.2 and tflite-model-maker==0.4.3 because these package versions have conflicting dependencies.\u001b[0m\u001b[31m\n",
      "\u001b[0m\u001b[31mERROR: ResolutionImpossible: for help visit https://pip.pypa.io/en/latest/topics/dependency-resolution/#dealing-with-dependency-conflicts\u001b[0m\u001b[31m\n",
      "\u001b[0m"
     ]
    }
   ],
   "source": [
    "!pip install -q tflite-model-maker"
   ]
  },
  {
   "cell_type": "code",
   "execution_count": null,
   "id": "d7207a5e-7f88-40e6-bb99-8b8aa9de9284",
   "metadata": {},
   "outputs": [],
   "source": [
    "import os\n",
    "\n",
    "import numpy as np\n",
    "\n",
    "import tensorflow as tf\n",
    "assert tf.__version__.startswith('2')\n",
    "\n",
    "from tflite_model_maker import model_spec\n",
    "from tflite_model_maker import image_classifier\n",
    "from tflite_model_maker.config import ExportFormat\n",
    "from tflite_model_maker.config import QuantizationConfig\n",
    "from tflite_model_maker.image_classifier import DataLoader\n",
    "\n",
    "import matplotlib.pyplot as plt"
   ]
  },
  {
   "cell_type": "code",
   "execution_count": null,
   "id": "a24fe846-9147-487c-8d8e-31c15b902230",
   "metadata": {},
   "outputs": [],
   "source": [
    "print(\"load start...\")\n",
    "\n",
    "train_data = DataLoader.from_folder(image_path)\n",
    "\n",
    "val_data= DataLoader.from_folder(image_path)\n",
    "\n",
    "print(\"load end\")"
   ]
  },
  {
   "cell_type": "code",
   "execution_count": null,
   "id": "d6f21f8e-350b-4159-a782-3c5e543f9451",
   "metadata": {},
   "outputs": [],
   "source": [
    "print(\"split start...\")\n",
    "\n",
    "validation_data, test_data = val_data.split(0.5)\n",
    "\n",
    "print(\"split end\")"
   ]
  },
  {
   "cell_type": "code",
   "execution_count": null,
   "id": "395c4697-ed4b-4999-9dad-9bdf3034ef54",
   "metadata": {},
   "outputs": [],
   "source": [
    "print(\"train start...\")\n",
    "model = image_classifier.create(train_data, validation_data=validation_data)\n",
    "print(\"train end\")"
   ]
  },
  {
   "cell_type": "code",
   "execution_count": null,
   "id": "f047eb46-04ca-406a-90d4-1eec3c39bcc7",
   "metadata": {},
   "outputs": [],
   "source": [
    "model.summary()"
   ]
  },
  {
   "cell_type": "code",
   "execution_count": null,
   "id": "9eef2c6e-0dbf-41b6-8383-76c608c7ab2f",
   "metadata": {},
   "outputs": [],
   "source": [
    "print(\"eval start...\")\n",
    "loss, accuracy = model.evaluate(test_data)\n",
    "print(\"eval end\")"
   ]
  },
  {
   "cell_type": "code",
   "execution_count": null,
   "id": "e65c5cf0-f551-4e2f-90a5-f7f5d36e7dc4",
   "metadata": {},
   "outputs": [],
   "source": [
    "print(\"export start...\")\n",
    "model.export(export_dir='.')\n",
    "print(\"export end\")"
   ]
  },
  {
   "cell_type": "code",
   "execution_count": null,
   "id": "012222b5-823b-4f54-be11-22dc9bfb76c9",
   "metadata": {},
   "outputs": [],
   "source": [
    "# A helper function that returns 'red'/'black' depending on if its two input\n",
    "# parameter matches or not.\n",
    "def get_label_color(val1, val2):\n",
    "  if val1 == val2:\n",
    "    return 'black'\n",
    "  else:\n",
    "    return 'red'\n",
    "\n",
    "# Then plot 100 test images and their predicted labels.\n",
    "# If a prediction result is different from the label provided label in \"test\"\n",
    "# dataset, we will highlight it in red color.\n",
    "plt.figure(figsize=(20, 20))\n",
    "predicts = model.predict_top_k(test_data)\n",
    "for i, (image, label) in enumerate(test_data.gen_dataset().unbatch().take(100)):\n",
    "  ax = plt.subplot(10, 10, i+1)\n",
    "  plt.xticks([])\n",
    "  plt.yticks([])\n",
    "  plt.grid(False)\n",
    "  plt.imshow(image.numpy(), cmap=plt.cm.gray)\n",
    "\n",
    "  predict_label = predicts[i][0][0]\n",
    "  color = get_label_color(predict_label,\n",
    "                          test_data.index_to_label[label.numpy()])\n",
    "  ax.xaxis.label.set_color(color)\n",
    "  plt.xlabel('Predicted: %s' % predict_label)\n",
    "plt.show()"
   ]
  }
 ],
 "metadata": {
  "kernelspec": {
   "display_name": "TensorFlow 2.12 (Local)",
   "language": "python",
   "name": "tf2-2-12"
  },
  "language_info": {
   "codemirror_mode": {
    "name": "ipython",
    "version": 3
   },
   "file_extension": ".py",
   "mimetype": "text/x-python",
   "name": "python",
   "nbconvert_exporter": "python",
   "pygments_lexer": "ipython3",
   "version": "3.10.13"
  }
 },
 "nbformat": 4,
 "nbformat_minor": 5
}
