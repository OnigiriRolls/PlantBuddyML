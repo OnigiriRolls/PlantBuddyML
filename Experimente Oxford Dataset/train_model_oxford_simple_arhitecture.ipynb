{
 "cells": [
  {
   "cell_type": "code",
   "execution_count": 1,
   "id": "1a9f0e78-4069-470e-8db8-d831b7545148",
   "metadata": {
    "tags": []
   },
   "outputs": [
    {
     "name": "stderr",
     "output_type": "stream",
     "text": [
      "2024-03-13 15:12:38.547053: I tensorflow/core/platform/cpu_feature_guard.cc:193] This TensorFlow binary is optimized with oneAPI Deep Neural Network Library (oneDNN) to use the following CPU instructions in performance-critical operations:  AVX2 FMA\n",
      "To enable them in other operations, rebuild TensorFlow with the appropriate compiler flags.\n",
      "2024-03-13 15:12:38.807572: E tensorflow/stream_executor/cuda/cuda_blas.cc:2981] Unable to register cuBLAS factory: Attempting to register factory for plugin cuBLAS when one has already been registered\n",
      "2024-03-13 15:12:40.142366: W tensorflow/stream_executor/platform/default/dso_loader.cc:64] Could not load dynamic library 'libnvinfer.so.7'; dlerror: libnvinfer.so.7: cannot open shared object file: No such file or directory; LD_LIBRARY_PATH: /usr/local/cuda/lib64:/usr/local/cuda/lib:/usr/local/lib/x86_64-linux-gnu:/usr/local/nvidia/lib:/usr/local/nvidia/lib64:/usr/local/nvidia/lib:/usr/local/nvidia/lib64\n",
      "2024-03-13 15:12:40.142546: W tensorflow/stream_executor/platform/default/dso_loader.cc:64] Could not load dynamic library 'libnvinfer_plugin.so.7'; dlerror: libnvinfer_plugin.so.7: cannot open shared object file: No such file or directory; LD_LIBRARY_PATH: /usr/local/cuda/lib64:/usr/local/cuda/lib:/usr/local/lib/x86_64-linux-gnu:/usr/local/nvidia/lib:/usr/local/nvidia/lib64:/usr/local/nvidia/lib:/usr/local/nvidia/lib64\n",
      "2024-03-13 15:12:40.142563: W tensorflow/compiler/tf2tensorrt/utils/py_utils.cc:38] TF-TRT Warning: Cannot dlopen some TensorRT libraries. If you would like to use Nvidia GPU with TensorRT, please make sure the missing libraries mentioned above are installed properly.\n",
      "/opt/conda/lib/python3.10/site-packages/tensorflow_io/python/ops/__init__.py:98: UserWarning: unable to load libtensorflow_io_plugins.so: unable to open file: libtensorflow_io_plugins.so, from paths: ['/opt/conda/lib/python3.10/site-packages/tensorflow_io/python/ops/libtensorflow_io_plugins.so']\n",
      "caused by: ['/opt/conda/lib/python3.10/site-packages/tensorflow_io/python/ops/libtensorflow_io_plugins.so: undefined symbol: _ZN3tsl5mutexC1Ev']\n",
      "  warnings.warn(f\"unable to load libtensorflow_io_plugins.so: {e}\")\n",
      "/opt/conda/lib/python3.10/site-packages/tensorflow_io/python/ops/__init__.py:104: UserWarning: file system plugins are not loaded: unable to open file: libtensorflow_io.so, from paths: ['/opt/conda/lib/python3.10/site-packages/tensorflow_io/python/ops/libtensorflow_io.so']\n",
      "caused by: ['/opt/conda/lib/python3.10/site-packages/tensorflow_io/python/ops/libtensorflow_io.so: undefined symbol: _ZNK10tensorflow4data11DatasetBase8FinalizeEPNS_15OpKernelContextESt8functionIFN3tsl8StatusOrISt10unique_ptrIS1_NS5_4core15RefCountDeleterEEEEvEE']\n",
      "  warnings.warn(f\"file system plugins are not loaded: {e}\")\n"
     ]
    }
   ],
   "source": [
    "import time\n",
    "import numpy as np\n",
    "import matplotlib.pyplot as plt\n",
    "\n",
    "import tensorflow as tf\n",
    "import tensorflow_hub as hub\n",
    "import tensorflow_datasets as tfds"
   ]
  },
  {
   "cell_type": "code",
   "execution_count": 2,
   "id": "a50ac81a-8555-4b0a-a00b-e44f1ac366f5",
   "metadata": {
    "tags": []
   },
   "outputs": [
    {
     "name": "stderr",
     "output_type": "stream",
     "text": [
      "2024-03-13 15:13:37.642308: W tensorflow/stream_executor/platform/default/dso_loader.cc:64] Could not load dynamic library 'libcuda.so.1'; dlerror: libcuda.so.1: cannot open shared object file: No such file or directory; LD_LIBRARY_PATH: /usr/local/cuda/lib64:/usr/local/cuda/lib:/usr/local/lib/x86_64-linux-gnu:/usr/local/nvidia/lib:/usr/local/nvidia/lib64:/usr/local/nvidia/lib:/usr/local/nvidia/lib64\n",
      "2024-03-13 15:13:37.642368: W tensorflow/stream_executor/cuda/cuda_driver.cc:263] failed call to cuInit: UNKNOWN ERROR (303)\n",
      "2024-03-13 15:13:37.642415: I tensorflow/stream_executor/cuda/cuda_diagnostics.cc:156] kernel driver does not appear to be running on this host (2abfc3aae244): /proc/driver/nvidia/version does not exist\n",
      "2024-03-13 15:13:37.642774: I tensorflow/core/platform/cpu_feature_guard.cc:193] This TensorFlow binary is optimized with oneAPI Deep Neural Network Library (oneDNN) to use the following CPU instructions in performance-critical operations:  AVX2 FMA\n",
      "To enable them in other operations, rebuild TensorFlow with the appropriate compiler flags.\n"
     ]
    }
   ],
   "source": [
    "dataset, dataset_info = tfds.load('oxford_flowers102', with_info=True, as_supervised=True)\n",
    "dataset_info\n",
    "\n",
    "test_set, training_set, validation_set = dataset['test'], dataset['train'], dataset['validation']"
   ]
  },
  {
   "cell_type": "code",
   "execution_count": 3,
   "id": "27d08600-3873-4aab-8ff8-53823fc64aee",
   "metadata": {
    "tags": []
   },
   "outputs": [],
   "source": [
    "import json"
   ]
  },
  {
   "cell_type": "code",
   "execution_count": 4,
   "id": "638aaf42-4dfc-4b9d-871f-ea76f9495eed",
   "metadata": {
    "tags": []
   },
   "outputs": [
    {
     "name": "stdout",
     "output_type": "stream",
     "text": [
      "Class Labels: ['pink primrose', 'hard-leaved pocket orchid', 'canterbury bells', 'sweet pea', 'english marigold', 'tiger lily', 'moon orchid', 'bird of paradise', 'monkshood', 'globe thistle', 'snapdragon', \"colt's foot\", 'king protea', 'spear thistle', 'yellow iris', 'globe-flower', 'purple coneflower', 'peruvian lily', 'balloon flower', 'giant white arum lily', 'fire lily', 'pincushion flower', 'fritillary', 'red ginger', 'grape hyacinth', 'corn poppy', 'prince of wales feathers', 'stemless gentian', 'artichoke', 'sweet william', 'carnation', 'garden phlox', 'love in the mist', 'mexican aster', 'alpine sea holly', 'ruby-lipped cattleya', 'cape flower', 'great masterwort', 'siam tulip', 'lenten rose', 'barbeton daisy', 'daffodil', 'sword lily', 'poinsettia', 'bolero deep blue', 'wallflower', 'marigold', 'buttercup', 'oxeye daisy', 'common dandelion', 'petunia', 'wild pansy', 'primula', 'sunflower', 'pelargonium', 'bishop of llandaff', 'gaura', 'geranium', 'orange dahlia', 'pink-yellow dahlia?', 'cautleya spicata', 'japanese anemone', 'black-eyed susan', 'silverbush', 'californian poppy', 'osteospermum', 'spring crocus', 'bearded iris', 'windflower', 'tree poppy', 'gazania', 'azalea', 'water lily', 'rose', 'thorn apple', 'morning glory', 'passion flower', 'lotus', 'toad lily', 'anthurium', 'frangipani', 'clematis', 'hibiscus', 'columbine', 'desert-rose', 'tree mallow', 'magnolia', 'cyclamen', 'watercress', 'canna lily', 'hippeastrum', 'bee balm', 'ball moss', 'foxglove', 'bougainvillea', 'camellia', 'mallow', 'mexican petunia', 'bromelia', 'blanket flower', 'trumpet creeper', 'blackberry lily']\n"
     ]
    }
   ],
   "source": [
    "class_labels = dataset_info.features['label'].names\n",
    "\n",
    "print(\"Class Labels:\", class_labels)"
   ]
  },
  {
   "cell_type": "code",
   "execution_count": 5,
   "id": "002885d3-1c1d-4b2f-88cb-94f4d35e2bd5",
   "metadata": {
    "tags": []
   },
   "outputs": [
    {
     "name": "stdout",
     "output_type": "stream",
     "text": [
      "{\n",
      "  \"pink primrose\": 0,\n",
      "  \"hard-leaved pocket orchid\": 1,\n",
      "  \"canterbury bells\": 2,\n",
      "  \"sweet pea\": 3,\n",
      "  \"english marigold\": 4,\n",
      "  \"tiger lily\": 5,\n",
      "  \"moon orchid\": 6,\n",
      "  \"bird of paradise\": 7,\n",
      "  \"monkshood\": 8,\n",
      "  \"globe thistle\": 9,\n",
      "  \"snapdragon\": 10,\n",
      "  \"colt's foot\": 11,\n",
      "  \"king protea\": 12,\n",
      "  \"spear thistle\": 13,\n",
      "  \"yellow iris\": 14,\n",
      "  \"globe-flower\": 15,\n",
      "  \"purple coneflower\": 16,\n",
      "  \"peruvian lily\": 17,\n",
      "  \"balloon flower\": 18,\n",
      "  \"giant white arum lily\": 19,\n",
      "  \"fire lily\": 20,\n",
      "  \"pincushion flower\": 21,\n",
      "  \"fritillary\": 22,\n",
      "  \"red ginger\": 23,\n",
      "  \"grape hyacinth\": 24,\n",
      "  \"corn poppy\": 25,\n",
      "  \"prince of wales feathers\": 26,\n",
      "  \"stemless gentian\": 27,\n",
      "  \"artichoke\": 28,\n",
      "  \"sweet william\": 29,\n",
      "  \"carnation\": 30,\n",
      "  \"garden phlox\": 31,\n",
      "  \"love in the mist\": 32,\n",
      "  \"mexican aster\": 33,\n",
      "  \"alpine sea holly\": 34,\n",
      "  \"ruby-lipped cattleya\": 35,\n",
      "  \"cape flower\": 36,\n",
      "  \"great masterwort\": 37,\n",
      "  \"siam tulip\": 38,\n",
      "  \"lenten rose\": 39,\n",
      "  \"barbeton daisy\": 40,\n",
      "  \"daffodil\": 41,\n",
      "  \"sword lily\": 42,\n",
      "  \"poinsettia\": 43,\n",
      "  \"bolero deep blue\": 44,\n",
      "  \"wallflower\": 45,\n",
      "  \"marigold\": 46,\n",
      "  \"buttercup\": 47,\n",
      "  \"oxeye daisy\": 48,\n",
      "  \"common dandelion\": 49,\n",
      "  \"petunia\": 50,\n",
      "  \"wild pansy\": 51,\n",
      "  \"primula\": 52,\n",
      "  \"sunflower\": 53,\n",
      "  \"pelargonium\": 54,\n",
      "  \"bishop of llandaff\": 55,\n",
      "  \"gaura\": 56,\n",
      "  \"geranium\": 57,\n",
      "  \"orange dahlia\": 58,\n",
      "  \"pink-yellow dahlia?\": 59,\n",
      "  \"cautleya spicata\": 60,\n",
      "  \"japanese anemone\": 61,\n",
      "  \"black-eyed susan\": 62,\n",
      "  \"silverbush\": 63,\n",
      "  \"californian poppy\": 64,\n",
      "  \"osteospermum\": 65,\n",
      "  \"spring crocus\": 66,\n",
      "  \"bearded iris\": 67,\n",
      "  \"windflower\": 68,\n",
      "  \"tree poppy\": 69,\n",
      "  \"gazania\": 70,\n",
      "  \"azalea\": 71,\n",
      "  \"water lily\": 72,\n",
      "  \"rose\": 73,\n",
      "  \"thorn apple\": 74,\n",
      "  \"morning glory\": 75,\n",
      "  \"passion flower\": 76,\n",
      "  \"lotus\": 77,\n",
      "  \"toad lily\": 78,\n",
      "  \"anthurium\": 79,\n",
      "  \"frangipani\": 80,\n",
      "  \"clematis\": 81,\n",
      "  \"hibiscus\": 82,\n",
      "  \"columbine\": 83,\n",
      "  \"desert-rose\": 84,\n",
      "  \"tree mallow\": 85,\n",
      "  \"magnolia\": 86,\n",
      "  \"cyclamen\": 87,\n",
      "  \"watercress\": 88,\n",
      "  \"canna lily\": 89,\n",
      "  \"hippeastrum\": 90,\n",
      "  \"bee balm\": 91,\n",
      "  \"ball moss\": 92,\n",
      "  \"foxglove\": 93,\n",
      "  \"bougainvillea\": 94,\n",
      "  \"camellia\": 95,\n",
      "  \"mallow\": 96,\n",
      "  \"mexican petunia\": 97,\n",
      "  \"bromelia\": 98,\n",
      "  \"blanket flower\": 99,\n",
      "  \"trumpet creeper\": 100,\n",
      "  \"blackberry lily\": 101\n",
      "}\n"
     ]
    }
   ],
   "source": [
    "\n",
    "label_to_number = {label: i for i, label in enumerate(class_labels)}\n",
    "\n",
    "json_object = json.dumps(label_to_number, indent=2)\n",
    "\n",
    "print(json_object)"
   ]
  },
  {
   "cell_type": "code",
   "execution_count": 6,
   "id": "a609f10a-71d2-4e5f-931f-b4ea645e1057",
   "metadata": {
    "tags": []
   },
   "outputs": [
    {
     "name": "stdout",
     "output_type": "stream",
     "text": [
      "Total Number of Training Images: 1020\n",
      "Total Number of Validation Images: 1020\n",
      "Total Number of Test Images: 6149 \n",
      "\n",
      "Total Number of Classes: 102\n"
     ]
    }
   ],
   "source": [
    "num_training_examples = 0\n",
    "num_validation_examples = 0\n",
    "num_test_examples = 0\n",
    "\n",
    "for example in training_set:\n",
    "  num_training_examples += 1\n",
    "\n",
    "for example in validation_set:\n",
    "  num_validation_examples += 1\n",
    "\n",
    "for example in test_set:\n",
    "  num_test_examples += 1\n",
    "\n",
    "print('Total Number of Training Images: {}'.format(num_training_examples))\n",
    "print('Total Number of Validation Images: {}'.format(num_validation_examples))\n",
    "print('Total Number of Test Images: {} \\n'.format(num_test_examples))\n",
    "\n",
    "num_classes = dataset_info.features['label'].num_classes\n",
    "print('Total Number of Classes: {}'.format(num_classes))"
   ]
  },
  {
   "cell_type": "code",
   "execution_count": 144,
   "id": "85f4888a-0fde-4062-a4fd-d51d12386bd4",
   "metadata": {
    "tags": []
   },
   "outputs": [],
   "source": [
    "import numpy\n",
    "\n",
    "IMAGE_RES = 224\n",
    "\n",
    "def format_image(image, label):\n",
    "  image = tf.image.resize(image, (IMAGE_RES, IMAGE_RES))/255.0\n",
    "  return image, label\n",
    "\n",
    "BATCH_SIZE = 32\n",
    "\n",
    "train_batches = training_set.cache().map(format_image).batch(BATCH_SIZE).prefetch(1)\n",
    "\n",
    "validation_batches = validation_set.cache().map(format_image).batch(BATCH_SIZE).prefetch(1)\n",
    "\n",
    "test_batches = test_set.cache().map(format_image).batch(BATCH_SIZE).prefetch(1)"
   ]
  },
  {
   "cell_type": "code",
   "execution_count": 134,
   "id": "e465feb4-41ba-4b30-8ffb-abd598e1b3f8",
   "metadata": {
    "tags": []
   },
   "outputs": [
    {
     "name": "stdout",
     "output_type": "stream",
     "text": [
      "Image size: (224, 3)\n"
     ]
    },
    {
     "name": "stderr",
     "output_type": "stream",
     "text": [
      "2024-03-13 17:15:07.348399: W tensorflow/core/kernels/data/cache_dataset_ops.cc:856] The calling iterator did not fully read the dataset being cached. In order to avoid unexpected truncation of the dataset, the partially cached contents of the dataset  will be discarded. This can happen if you have an input pipeline similar to `dataset.cache().take(k).repeat()`. You should use `dataset.take(k).cache().repeat()` instead.\n"
     ]
    }
   ],
   "source": [
    "for images, labels in train_batches.take(1):\n",
    "    sample_image = images[0]\n",
    "    print(\"Image size:\", sample_image.shape)"
   ]
  },
  {
   "cell_type": "code",
   "execution_count": 145,
   "id": "f09df605-e928-4e1f-8e3b-25de1900828c",
   "metadata": {
    "tags": []
   },
   "outputs": [],
   "source": [
    "input_shape = (224, 224, 3)\n",
    "\n",
    "data_augmentation = tf.keras.Sequential([\n",
    "    tf.keras.layers.RandomFlip('horizontal'),\n",
    "    tf.keras.layers.RandomRotation(0.2),\n",
    "])"
   ]
  },
  {
   "cell_type": "code",
   "execution_count": 159,
   "id": "0f3d6094-428e-4e98-81af-0b49f54dd5fc",
   "metadata": {
    "tags": []
   },
   "outputs": [],
   "source": [
    "from tensorflow.keras.layers import Conv2D,MaxPooling2D\n",
    "from tensorflow.keras.layers import Activation, Dense, Flatten, Dropout, Reshape\n",
    "from tensorflow.keras import layers, Sequential\n",
    "\n",
    "def tensorflow_based_model():\n",
    "    model = Sequential()  \n",
    "    \n",
    "    model.add(data_augmentation) \n",
    "    \n",
    "    model.add(Conv2D(filters=16, kernel_size=2, input_shape=(224,224,3), padding='same')) \n",
    "    model.add(Activation('relu')) \n",
    "    model.add(MaxPooling2D(pool_size=2)) \n",
    "\n",
    "    model.add(Conv2D(filters=32, kernel_size=2, activation='relu', padding='same'))  \n",
    "    model.add(MaxPooling2D(pool_size=2)) \n",
    "\n",
    "    model.add(Dropout(0.3))  \n",
    "    model.add(Flatten())  \n",
    "    model.add(Dense(150)) \n",
    "    model.add(Activation('relu'))  \n",
    "    model.add(Dropout(0.4))  \n",
    "    model.add(Dense(102, activation='softmax'))  \n",
    "\n",
    "    return model"
   ]
  },
  {
   "cell_type": "code",
   "execution_count": 160,
   "id": "ec8f9a77-e42f-4880-924e-fc8843948a90",
   "metadata": {
    "tags": []
   },
   "outputs": [],
   "source": [
    "model = tensorflow_based_model() \n",
    "model.compile(loss='sparse_categorical_crossentropy', optimizer='Adam', metrics=['accuracy']) "
   ]
  },
  {
   "cell_type": "code",
   "execution_count": 161,
   "id": "8c9578b1-4ccf-4ee4-989d-ce698456a555",
   "metadata": {
    "tags": []
   },
   "outputs": [
    {
     "name": "stdout",
     "output_type": "stream",
     "text": [
      "Epoch 1/30\n",
      "WARNING:tensorflow:Using a while_loop for converting RngReadAndSkip cause there is no registered converter for this op.\n"
     ]
    },
    {
     "name": "stderr",
     "output_type": "stream",
     "text": [
      "WARNING:tensorflow:Using a while_loop for converting RngReadAndSkip cause there is no registered converter for this op.\n"
     ]
    },
    {
     "name": "stdout",
     "output_type": "stream",
     "text": [
      "WARNING:tensorflow:Using a while_loop for converting Bitcast cause there is no registered converter for this op.\n"
     ]
    },
    {
     "name": "stderr",
     "output_type": "stream",
     "text": [
      "WARNING:tensorflow:Using a while_loop for converting Bitcast cause there is no registered converter for this op.\n"
     ]
    },
    {
     "name": "stdout",
     "output_type": "stream",
     "text": [
      "WARNING:tensorflow:Using a while_loop for converting Bitcast cause there is no registered converter for this op.\n"
     ]
    },
    {
     "name": "stderr",
     "output_type": "stream",
     "text": [
      "WARNING:tensorflow:Using a while_loop for converting Bitcast cause there is no registered converter for this op.\n"
     ]
    },
    {
     "name": "stdout",
     "output_type": "stream",
     "text": [
      "WARNING:tensorflow:Using a while_loop for converting StatelessRandomUniformV2 cause there is no registered converter for this op.\n"
     ]
    },
    {
     "name": "stderr",
     "output_type": "stream",
     "text": [
      "WARNING:tensorflow:Using a while_loop for converting StatelessRandomUniformV2 cause there is no registered converter for this op.\n"
     ]
    },
    {
     "name": "stdout",
     "output_type": "stream",
     "text": [
      "WARNING:tensorflow:Using a while_loop for converting ImageProjectiveTransformV3 cause there is no registered converter for this op.\n"
     ]
    },
    {
     "name": "stderr",
     "output_type": "stream",
     "text": [
      "WARNING:tensorflow:Using a while_loop for converting ImageProjectiveTransformV3 cause there is no registered converter for this op.\n"
     ]
    },
    {
     "name": "stdout",
     "output_type": "stream",
     "text": [
      "WARNING:tensorflow:Using a while_loop for converting RngReadAndSkip cause there is no registered converter for this op.\n"
     ]
    },
    {
     "name": "stderr",
     "output_type": "stream",
     "text": [
      "WARNING:tensorflow:Using a while_loop for converting RngReadAndSkip cause there is no registered converter for this op.\n"
     ]
    },
    {
     "name": "stdout",
     "output_type": "stream",
     "text": [
      "WARNING:tensorflow:Using a while_loop for converting Bitcast cause there is no registered converter for this op.\n"
     ]
    },
    {
     "name": "stderr",
     "output_type": "stream",
     "text": [
      "WARNING:tensorflow:Using a while_loop for converting Bitcast cause there is no registered converter for this op.\n"
     ]
    },
    {
     "name": "stdout",
     "output_type": "stream",
     "text": [
      "WARNING:tensorflow:Using a while_loop for converting Bitcast cause there is no registered converter for this op.\n"
     ]
    },
    {
     "name": "stderr",
     "output_type": "stream",
     "text": [
      "WARNING:tensorflow:Using a while_loop for converting Bitcast cause there is no registered converter for this op.\n"
     ]
    },
    {
     "name": "stdout",
     "output_type": "stream",
     "text": [
      "WARNING:tensorflow:Using a while_loop for converting StatelessRandomUniformV2 cause there is no registered converter for this op.\n"
     ]
    },
    {
     "name": "stderr",
     "output_type": "stream",
     "text": [
      "WARNING:tensorflow:Using a while_loop for converting StatelessRandomUniformV2 cause there is no registered converter for this op.\n"
     ]
    },
    {
     "name": "stdout",
     "output_type": "stream",
     "text": [
      "WARNING:tensorflow:Using a while_loop for converting ImageProjectiveTransformV3 cause there is no registered converter for this op.\n"
     ]
    },
    {
     "name": "stderr",
     "output_type": "stream",
     "text": [
      "WARNING:tensorflow:Using a while_loop for converting ImageProjectiveTransformV3 cause there is no registered converter for this op.\n"
     ]
    },
    {
     "name": "stdout",
     "output_type": "stream",
     "text": [
      "WARNING:tensorflow:Using a while_loop for converting RngReadAndSkip cause there is no registered converter for this op.\n"
     ]
    },
    {
     "name": "stderr",
     "output_type": "stream",
     "text": [
      "WARNING:tensorflow:Using a while_loop for converting RngReadAndSkip cause there is no registered converter for this op.\n"
     ]
    },
    {
     "name": "stdout",
     "output_type": "stream",
     "text": [
      "WARNING:tensorflow:Using a while_loop for converting Bitcast cause there is no registered converter for this op.\n"
     ]
    },
    {
     "name": "stderr",
     "output_type": "stream",
     "text": [
      "WARNING:tensorflow:Using a while_loop for converting Bitcast cause there is no registered converter for this op.\n"
     ]
    },
    {
     "name": "stdout",
     "output_type": "stream",
     "text": [
      "WARNING:tensorflow:Using a while_loop for converting Bitcast cause there is no registered converter for this op.\n"
     ]
    },
    {
     "name": "stderr",
     "output_type": "stream",
     "text": [
      "WARNING:tensorflow:Using a while_loop for converting Bitcast cause there is no registered converter for this op.\n"
     ]
    },
    {
     "name": "stdout",
     "output_type": "stream",
     "text": [
      "WARNING:tensorflow:Using a while_loop for converting StatelessRandomUniformV2 cause there is no registered converter for this op.\n"
     ]
    },
    {
     "name": "stderr",
     "output_type": "stream",
     "text": [
      "WARNING:tensorflow:Using a while_loop for converting StatelessRandomUniformV2 cause there is no registered converter for this op.\n"
     ]
    },
    {
     "name": "stdout",
     "output_type": "stream",
     "text": [
      "WARNING:tensorflow:Using a while_loop for converting ImageProjectiveTransformV3 cause there is no registered converter for this op.\n"
     ]
    },
    {
     "name": "stderr",
     "output_type": "stream",
     "text": [
      "WARNING:tensorflow:Using a while_loop for converting ImageProjectiveTransformV3 cause there is no registered converter for this op.\n"
     ]
    },
    {
     "name": "stdout",
     "output_type": "stream",
     "text": [
      "32/32 [==============================] - 33s 947ms/step - loss: 4.9605 - accuracy: 0.0039 - val_loss: 4.6247 - val_accuracy: 0.0098\n",
      "Epoch 2/30\n",
      "32/32 [==============================] - 29s 901ms/step - loss: 4.6267 - accuracy: 0.0069 - val_loss: 4.6218 - val_accuracy: 0.0186\n",
      "Epoch 3/30\n",
      "32/32 [==============================] - 30s 947ms/step - loss: 4.6245 - accuracy: 0.0059 - val_loss: 4.6196 - val_accuracy: 0.0147\n",
      "Epoch 4/30\n",
      "32/32 [==============================] - 29s 898ms/step - loss: 4.6177 - accuracy: 0.0176 - val_loss: 4.6120 - val_accuracy: 0.0176\n",
      "Epoch 5/30\n",
      "32/32 [==============================] - 30s 958ms/step - loss: 4.6089 - accuracy: 0.0186 - val_loss: 4.5935 - val_accuracy: 0.0167\n",
      "Epoch 6/30\n",
      "32/32 [==============================] - 29s 898ms/step - loss: 4.5929 - accuracy: 0.0176 - val_loss: 4.5647 - val_accuracy: 0.0196\n",
      "Epoch 7/30\n",
      "32/32 [==============================] - 30s 937ms/step - loss: 4.5621 - accuracy: 0.0167 - val_loss: 4.5366 - val_accuracy: 0.0186\n",
      "Epoch 8/30\n",
      "32/32 [==============================] - 29s 903ms/step - loss: 4.5425 - accuracy: 0.0157 - val_loss: 4.5284 - val_accuracy: 0.0343\n",
      "Epoch 9/30\n",
      "32/32 [==============================] - 30s 934ms/step - loss: 4.5110 - accuracy: 0.0206 - val_loss: 4.4295 - val_accuracy: 0.0304\n",
      "Epoch 10/30\n",
      "32/32 [==============================] - 29s 909ms/step - loss: 4.4453 - accuracy: 0.0265 - val_loss: 4.3163 - val_accuracy: 0.0314\n",
      "Epoch 11/30\n",
      "32/32 [==============================] - 29s 925ms/step - loss: 4.3801 - accuracy: 0.0324 - val_loss: 4.2424 - val_accuracy: 0.0402\n",
      "Epoch 12/30\n",
      "32/32 [==============================] - 29s 908ms/step - loss: 4.3345 - accuracy: 0.0431 - val_loss: 4.1880 - val_accuracy: 0.0412\n",
      "Epoch 13/30\n",
      "32/32 [==============================] - 31s 964ms/step - loss: 4.2619 - accuracy: 0.0324 - val_loss: 4.0827 - val_accuracy: 0.0647\n",
      "Epoch 14/30\n",
      "32/32 [==============================] - 30s 929ms/step - loss: 4.2075 - accuracy: 0.0382 - val_loss: 4.0386 - val_accuracy: 0.0549\n",
      "Epoch 15/30\n",
      "32/32 [==============================] - 31s 984ms/step - loss: 4.1303 - accuracy: 0.0382 - val_loss: 4.0045 - val_accuracy: 0.0637\n",
      "Epoch 16/30\n",
      "32/32 [==============================] - 29s 914ms/step - loss: 4.0790 - accuracy: 0.0569 - val_loss: 3.9110 - val_accuracy: 0.0725\n",
      "Epoch 17/30\n",
      "32/32 [==============================] - 31s 966ms/step - loss: 4.0218 - accuracy: 0.0461 - val_loss: 3.8546 - val_accuracy: 0.0735\n",
      "Epoch 18/30\n",
      "32/32 [==============================] - 29s 908ms/step - loss: 3.9802 - accuracy: 0.0500 - val_loss: 3.7732 - val_accuracy: 0.0941\n",
      "Epoch 19/30\n",
      "32/32 [==============================] - 31s 967ms/step - loss: 3.9283 - accuracy: 0.0520 - val_loss: 3.7287 - val_accuracy: 0.0912\n",
      "Epoch 20/30\n",
      "32/32 [==============================] - 29s 901ms/step - loss: 3.8614 - accuracy: 0.0627 - val_loss: 3.7369 - val_accuracy: 0.1069\n",
      "Epoch 21/30\n",
      "32/32 [==============================] - 30s 938ms/step - loss: 3.8152 - accuracy: 0.0765 - val_loss: 3.6379 - val_accuracy: 0.1098\n",
      "Epoch 22/30\n",
      "32/32 [==============================] - 29s 909ms/step - loss: 3.7822 - accuracy: 0.0755 - val_loss: 3.6957 - val_accuracy: 0.1049\n",
      "Epoch 23/30\n",
      "32/32 [==============================] - 29s 918ms/step - loss: 3.7168 - accuracy: 0.0824 - val_loss: 3.5856 - val_accuracy: 0.1216\n",
      "Epoch 24/30\n",
      "32/32 [==============================] - 28s 890ms/step - loss: 3.6791 - accuracy: 0.0824 - val_loss: 3.6165 - val_accuracy: 0.1167\n",
      "Epoch 25/30\n",
      "32/32 [==============================] - 30s 934ms/step - loss: 3.5611 - accuracy: 0.1059 - val_loss: 3.5676 - val_accuracy: 0.1294\n",
      "Epoch 26/30\n",
      "32/32 [==============================] - 29s 899ms/step - loss: 3.5948 - accuracy: 0.0971 - val_loss: 3.5225 - val_accuracy: 0.1402\n",
      "Epoch 27/30\n",
      "32/32 [==============================] - 30s 936ms/step - loss: 3.5337 - accuracy: 0.1118 - val_loss: 3.5574 - val_accuracy: 0.1304\n",
      "Epoch 28/30\n",
      "32/32 [==============================] - 28s 875ms/step - loss: 3.5016 - accuracy: 0.1157 - val_loss: 3.5355 - val_accuracy: 0.1392\n",
      "Epoch 29/30\n",
      "32/32 [==============================] - 31s 962ms/step - loss: 3.4565 - accuracy: 0.1206 - val_loss: 3.5203 - val_accuracy: 0.1363\n",
      "Epoch 30/30\n",
      "32/32 [==============================] - 28s 873ms/step - loss: 3.4632 - accuracy: 0.1275 - val_loss: 3.5205 - val_accuracy: 0.1294\n"
     ]
    }
   ],
   "source": [
    "from tensorflow.keras.utils import to_categorical\n",
    "\n",
    "early_stopping = tf.keras.callbacks.EarlyStopping(monitor='val_loss', patience=5)\n",
    "\n",
    "history = model.fit(train_batches,\n",
    "        batch_size = 32,\n",
    "        epochs=30,\n",
    "        validation_data=validation_batches, \n",
    "        callbacks=[early_stopping])"
   ]
  },
  {
   "cell_type": "code",
   "execution_count": 150,
   "id": "1236eae3-928c-493f-892b-ed50b76654e9",
   "metadata": {
    "tags": []
   },
   "outputs": [
    {
     "data": {
      "image/png": "[encoded data removed]",
      "text/plain": [
       "<Figure size 800x800 with 2 Axes>"
      ]
     },
     "metadata": {},
     "output_type": "display_data"
    }
   ],
   "source": [
    "acc = history.history['accuracy']\n",
    "val_acc = history.history['val_accuracy']\n",
    "\n",
    "loss = history.history['loss']\n",
    "val_loss = history.history['val_loss']\n",
    "\n",
    "epochs_range = range(30)\n",
    "\n",
    "plt.figure(figsize=(8, 8))\n",
    "plt.subplot(1, 2, 1)\n",
    "plt.plot(epochs_range, acc, label='Training Accuracy')\n",
    "plt.plot(epochs_range, val_acc, label='Validation Accuracy')\n",
    "plt.legend(loc='lower right')\n",
    "plt.title('Training and Validation Accuracy')\n",
    "\n",
    "plt.subplot(1, 2, 2)\n",
    "plt.plot(epochs_range, loss, label='Training Loss')\n",
    "plt.plot(epochs_range, val_loss, label='Validation Loss')\n",
    "plt.legend(loc='upper right')\n",
    "plt.title('Training and Validation Loss')\n",
    "plt.show()"
   ]
  },
  {
   "cell_type": "code",
   "execution_count": 151,
   "id": "88b2d881-cf47-415f-a462-d552c7d9477a",
   "metadata": {
    "tags": []
   },
   "outputs": [
    {
     "name": "stdout",
     "output_type": "stream",
     "text": [
      "WARNING:tensorflow:Using a while_loop for converting RngReadAndSkip cause there is no registered converter for this op.\n"
     ]
    },
    {
     "name": "stderr",
     "output_type": "stream",
     "text": [
      "WARNING:tensorflow:Using a while_loop for converting RngReadAndSkip cause there is no registered converter for this op.\n"
     ]
    },
    {
     "name": "stdout",
     "output_type": "stream",
     "text": [
      "WARNING:tensorflow:Using a while_loop for converting Bitcast cause there is no registered converter for this op.\n"
     ]
    },
    {
     "name": "stderr",
     "output_type": "stream",
     "text": [
      "WARNING:tensorflow:Using a while_loop for converting Bitcast cause there is no registered converter for this op.\n"
     ]
    },
    {
     "name": "stdout",
     "output_type": "stream",
     "text": [
      "WARNING:tensorflow:Using a while_loop for converting Bitcast cause there is no registered converter for this op.\n"
     ]
    },
    {
     "name": "stderr",
     "output_type": "stream",
     "text": [
      "WARNING:tensorflow:Using a while_loop for converting Bitcast cause there is no registered converter for this op.\n"
     ]
    },
    {
     "name": "stdout",
     "output_type": "stream",
     "text": [
      "WARNING:tensorflow:Using a while_loop for converting StatelessRandomUniformV2 cause there is no registered converter for this op.\n"
     ]
    },
    {
     "name": "stderr",
     "output_type": "stream",
     "text": [
      "WARNING:tensorflow:Using a while_loop for converting StatelessRandomUniformV2 cause there is no registered converter for this op.\n"
     ]
    },
    {
     "name": "stdout",
     "output_type": "stream",
     "text": [
      "WARNING:tensorflow:Using a while_loop for converting ImageProjectiveTransformV3 cause there is no registered converter for this op.\n"
     ]
    },
    {
     "name": "stderr",
     "output_type": "stream",
     "text": [
      "WARNING:tensorflow:Using a while_loop for converting ImageProjectiveTransformV3 cause there is no registered converter for this op.\n"
     ]
    },
    {
     "name": "stdout",
     "output_type": "stream",
     "text": [
      "WARNING:tensorflow:Using a while_loop for converting RngReadAndSkip cause there is no registered converter for this op.\n"
     ]
    },
    {
     "name": "stderr",
     "output_type": "stream",
     "text": [
      "WARNING:tensorflow:Using a while_loop for converting RngReadAndSkip cause there is no registered converter for this op.\n"
     ]
    },
    {
     "name": "stdout",
     "output_type": "stream",
     "text": [
      "WARNING:tensorflow:Using a while_loop for converting Bitcast cause there is no registered converter for this op.\n"
     ]
    },
    {
     "name": "stderr",
     "output_type": "stream",
     "text": [
      "WARNING:tensorflow:Using a while_loop for converting Bitcast cause there is no registered converter for this op.\n"
     ]
    },
    {
     "name": "stdout",
     "output_type": "stream",
     "text": [
      "WARNING:tensorflow:Using a while_loop for converting Bitcast cause there is no registered converter for this op.\n"
     ]
    },
    {
     "name": "stderr",
     "output_type": "stream",
     "text": [
      "WARNING:tensorflow:Using a while_loop for converting Bitcast cause there is no registered converter for this op.\n"
     ]
    },
    {
     "name": "stdout",
     "output_type": "stream",
     "text": [
      "WARNING:tensorflow:Using a while_loop for converting StatelessRandomUniformV2 cause there is no registered converter for this op.\n"
     ]
    },
    {
     "name": "stderr",
     "output_type": "stream",
     "text": [
      "WARNING:tensorflow:Using a while_loop for converting StatelessRandomUniformV2 cause there is no registered converter for this op.\n"
     ]
    },
    {
     "name": "stdout",
     "output_type": "stream",
     "text": [
      "WARNING:tensorflow:Using a while_loop for converting ImageProjectiveTransformV3 cause there is no registered converter for this op.\n"
     ]
    },
    {
     "name": "stderr",
     "output_type": "stream",
     "text": [
      "WARNING:tensorflow:Using a while_loop for converting ImageProjectiveTransformV3 cause there is no registered converter for this op.\n"
     ]
    },
    {
     "name": "stdout",
     "output_type": "stream",
     "text": [
      "WARNING:tensorflow:Using a while_loop for converting RngReadAndSkip cause there is no registered converter for this op.\n"
     ]
    },
    {
     "name": "stderr",
     "output_type": "stream",
     "text": [
      "WARNING:tensorflow:Using a while_loop for converting RngReadAndSkip cause there is no registered converter for this op.\n"
     ]
    },
    {
     "name": "stdout",
     "output_type": "stream",
     "text": [
      "WARNING:tensorflow:Using a while_loop for converting Bitcast cause there is no registered converter for this op.\n"
     ]
    },
    {
     "name": "stderr",
     "output_type": "stream",
     "text": [
      "WARNING:tensorflow:Using a while_loop for converting Bitcast cause there is no registered converter for this op.\n"
     ]
    },
    {
     "name": "stdout",
     "output_type": "stream",
     "text": [
      "WARNING:tensorflow:Using a while_loop for converting Bitcast cause there is no registered converter for this op.\n"
     ]
    },
    {
     "name": "stderr",
     "output_type": "stream",
     "text": [
      "WARNING:tensorflow:Using a while_loop for converting Bitcast cause there is no registered converter for this op.\n"
     ]
    },
    {
     "name": "stdout",
     "output_type": "stream",
     "text": [
      "WARNING:tensorflow:Using a while_loop for converting StatelessRandomUniformV2 cause there is no registered converter for this op.\n"
     ]
    },
    {
     "name": "stderr",
     "output_type": "stream",
     "text": [
      "WARNING:tensorflow:Using a while_loop for converting StatelessRandomUniformV2 cause there is no registered converter for this op.\n"
     ]
    },
    {
     "name": "stdout",
     "output_type": "stream",
     "text": [
      "WARNING:tensorflow:Using a while_loop for converting ImageProjectiveTransformV3 cause there is no registered converter for this op.\n"
     ]
    },
    {
     "name": "stderr",
     "output_type": "stream",
     "text": [
      "WARNING:tensorflow:Using a while_loop for converting ImageProjectiveTransformV3 cause there is no registered converter for this op.\n"
     ]
    },
    {
     "name": "stdout",
     "output_type": "stream",
     "text": [
      "WARNING:tensorflow:Using a while_loop for converting RngReadAndSkip cause there is no registered converter for this op.\n"
     ]
    },
    {
     "name": "stderr",
     "output_type": "stream",
     "text": [
      "WARNING:tensorflow:Using a while_loop for converting RngReadAndSkip cause there is no registered converter for this op.\n"
     ]
    },
    {
     "name": "stdout",
     "output_type": "stream",
     "text": [
      "WARNING:tensorflow:Using a while_loop for converting Bitcast cause there is no registered converter for this op.\n"
     ]
    },
    {
     "name": "stderr",
     "output_type": "stream",
     "text": [
      "WARNING:tensorflow:Using a while_loop for converting Bitcast cause there is no registered converter for this op.\n"
     ]
    },
    {
     "name": "stdout",
     "output_type": "stream",
     "text": [
      "WARNING:tensorflow:Using a while_loop for converting Bitcast cause there is no registered converter for this op.\n"
     ]
    },
    {
     "name": "stderr",
     "output_type": "stream",
     "text": [
      "WARNING:tensorflow:Using a while_loop for converting Bitcast cause there is no registered converter for this op.\n"
     ]
    },
    {
     "name": "stdout",
     "output_type": "stream",
     "text": [
      "WARNING:tensorflow:Using a while_loop for converting StatelessRandomUniformV2 cause there is no registered converter for this op.\n"
     ]
    },
    {
     "name": "stderr",
     "output_type": "stream",
     "text": [
      "WARNING:tensorflow:Using a while_loop for converting StatelessRandomUniformV2 cause there is no registered converter for this op.\n"
     ]
    },
    {
     "name": "stdout",
     "output_type": "stream",
     "text": [
      "WARNING:tensorflow:Using a while_loop for converting ImageProjectiveTransformV3 cause there is no registered converter for this op.\n"
     ]
    },
    {
     "name": "stderr",
     "output_type": "stream",
     "text": [
      "WARNING:tensorflow:Using a while_loop for converting ImageProjectiveTransformV3 cause there is no registered converter for this op.\n",
      "WARNING:absl:Found untraced functions such as _jit_compiled_convolution_op, _jit_compiled_convolution_op, _jit_compiled_convolution_op, _jit_compiled_convolution_op while saving (showing 4 of 4). These functions will not be directly callable after loading.\n"
     ]
    },
    {
     "name": "stdout",
     "output_type": "stream",
     "text": [
      "INFO:tensorflow:Assets written to: model_oxford/model_trained_valid5/assets\n"
     ]
    },
    {
     "name": "stderr",
     "output_type": "stream",
     "text": [
      "INFO:tensorflow:Assets written to: model_oxford/model_trained_valid5/assets\n"
     ]
    }
   ],
   "source": [
    "model.save('model_oxford/model_trained_valid5')"
   ]
  },
  {
   "cell_type": "code",
   "execution_count": 152,
   "id": "cdd15605-c7ef-4332-895d-0955b1f9e0f3",
   "metadata": {
    "tags": []
   },
   "outputs": [],
   "source": [
    "import pandas as pd\n",
    "pd.DataFrame.from_dict(history.history).to_csv('model_oxford/history5.csv',index=False)"
   ]
  },
  {
   "cell_type": "code",
   "execution_count": null,
   "id": "f0bf4c4e-98e0-45e6-8f86-7ce92ea53ef0",
   "metadata": {},
   "outputs": [],
   "source": []
  }
 ],
 "metadata": {
  "kernelspec": {
   "display_name": "TensorFlow 2.12 (Local)",
   "language": "python",
   "name": "tf2-2-12"
  },
  "language_info": {
   "codemirror_mode": {
    "name": "ipython",
    "version": 3
   },
   "file_extension": ".py",
   "mimetype": "text/x-python",
   "name": "python",
   "nbconvert_exporter": "python",
   "pygments_lexer": "ipython3",
   "version": "3.10.13"
  }
 },
 "nbformat": 4,
 "nbformat_minor": 5
}
