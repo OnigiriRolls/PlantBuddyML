{
 "cells": [
  {
   "cell_type": "code",
   "execution_count": 1,
   "id": "f1d6ac57-32f8-4efd-8240-ce6dfd635e15",
   "metadata": {
    "tags": []
   },
   "outputs": [
    {
     "name": "stderr",
     "output_type": "stream",
     "text": [
      "2024-05-03 19:50:10.226439: I tensorflow/core/platform/cpu_feature_guard.cc:182] This TensorFlow binary is optimized to use available CPU instructions in performance-critical operations.\n",
      "To enable the following instructions: AVX2 FMA, in other operations, rebuild TensorFlow with the appropriate compiler flags.\n",
      "2024-05-03 19:50:13.931726: W tensorflow/compiler/tf2tensorrt/utils/py_utils.cc:38] TF-TRT Warning: Could not find TensorRT\n",
      "/opt/conda/lib/python3.10/site-packages/tensorflow_io/python/ops/__init__.py:98: UserWarning: unable to load libtensorflow_io_plugins.so: unable to open file: libtensorflow_io_plugins.so, from paths: ['/opt/conda/lib/python3.10/site-packages/tensorflow_io/python/ops/libtensorflow_io_plugins.so']\n",
      "caused by: ['/opt/conda/lib/python3.10/site-packages/tensorflow_io/python/ops/libtensorflow_io_plugins.so: undefined symbol: _ZN3tsl6StatusC1EN10tensorflow5error4CodeESt17basic_string_viewIcSt11char_traitsIcEENS_14SourceLocationE']\n",
      "  warnings.warn(f\"unable to load libtensorflow_io_plugins.so: {e}\")\n",
      "/opt/conda/lib/python3.10/site-packages/tensorflow_io/python/ops/__init__.py:104: UserWarning: file system plugins are not loaded: unable to open file: libtensorflow_io.so, from paths: ['/opt/conda/lib/python3.10/site-packages/tensorflow_io/python/ops/libtensorflow_io.so']\n",
      "caused by: ['/opt/conda/lib/python3.10/site-packages/tensorflow_io/python/ops/libtensorflow_io.so: undefined symbol: _ZTVN10tensorflow13GcsFileSystemE']\n",
      "  warnings.warn(f\"file system plugins are not loaded: {e}\")\n"
     ]
    }
   ],
   "source": [
    "import tensorflow as tf"
   ]
  },
  {
   "cell_type": "code",
   "execution_count": 44,
   "id": "fb365114-7c75-4e7f-a5e7-f2e489040bc8",
   "metadata": {
    "tags": []
   },
   "outputs": [
    {
     "name": "stdout",
     "output_type": "stream",
     "text": [
      "Copying file://oxoford_dataset_original/test_set_original/dataset_spec.pb [Content-Type=application/octet-stream]...\n",
      "Copying file://oxoford_dataset_original/test_set_original/snapshot.metadata [Content-Type=application/octet-stream]...\n",
      "Copying file://oxoford_dataset_original/test_set_original/4733451936394834620/00000000.shard/00000000.snapshot [Content-Type=application/octet-stream]...\n",
      "==> NOTE: You are uploading one or more large file(s), which would run          \n",
      "significantly faster if you enable parallel composite uploads. This\n",
      "feature can be enabled by editing the\n",
      "\"parallel_composite_upload_threshold\" value in your .boto\n",
      "configuration file. However, note that if you do this large files will\n",
      "be uploaded as `composite objects\n",
      "<https://cloud.google.com/storage/docs/composite-objects>`_,which\n",
      "means that any user who downloads such objects will need to have a\n",
      "compiled crcmod installed (see \"gsutil help crcmod\"). This is because\n",
      "without a compiled crcmod, computing checksums on composite objects is\n",
      "so slow that gsutil disables downloads of composite objects.\n",
      "\n",
      "Copying file://oxoford_dataset_original/validation_set_original/dataset_spec.pb [Content-Type=application/octet-stream]...\n",
      "Copying file://oxoford_dataset_original/validation_set_original/snapshot.metadata [Content-Type=application/octet-stream]...\n",
      "Copying file://oxoford_dataset_original/validation_set_original/12204133879412600678/00000000.shard/00000000.snapshot [Content-Type=application/octet-stream]...\n",
      "Copying file://oxoford_dataset_original/training_set_original/10431423928770019448/00000000.shard/00000000.snapshot [Content-Type=application/octet-stream]...\n",
      "Copying file://oxoford_dataset_original/training_set_original/dataset_spec.pb [Content-Type=application/octet-stream]...\n",
      "Copying file://oxoford_dataset_original/training_set_original/snapshot.metadata [Content-Type=application/octet-stream]...\n",
      "- [9/9 files][  4.6 GiB/  4.6 GiB] 100% Done  66.1 MiB/s ETA 00:00:00           \n",
      "Operation completed over 9 objects/4.6 GiB.                                      \n"
     ]
    }
   ],
   "source": [
    "!gsutil -m cp -r oxoford_dataset_original gs://plant_buddy2"
   ]
  },
  {
   "cell_type": "code",
   "execution_count": 2,
   "id": "df1eac60-c75c-49d7-b2db-e3933fd47445",
   "metadata": {},
   "outputs": [
    {
     "name": "stdout",
     "output_type": "stream",
     "text": [
      "Model: \"sequential_1\"\n",
      "_________________________________________________________________\n",
      " Layer (type)                Output Shape              Param #   \n",
      "=================================================================\n",
      " sequential (Sequential)     (None, 224, 224, 3)       0         \n",
      "                                                                 \n",
      " conv2d (Conv2D)             (None, 224, 224, 16)      208       \n",
      "                                                                 \n",
      " activation (Activation)     (None, 224, 224, 16)      0         \n",
      "                                                                 \n",
      " max_pooling2d (MaxPooling2D  (None, 112, 112, 16)     0         \n",
      " )                                                               \n",
      "                                                                 \n",
      " conv2d_1 (Conv2D)           (None, 112, 112, 32)      2080      \n",
      "                                                                 \n",
      " max_pooling2d_1 (MaxPooling  (None, 56, 56, 32)       0         \n",
      " 2D)                                                             \n",
      "                                                                 \n",
      " conv2d_2 (Conv2D)           (None, 56, 56, 64)        8256      \n",
      "                                                                 \n",
      " max_pooling2d_2 (MaxPooling  (None, 28, 28, 64)       0         \n",
      " 2D)                                                             \n",
      "                                                                 \n",
      " conv2d_3 (Conv2D)           (None, 28, 28, 128)       32896     \n",
      "                                                                 \n",
      " max_pooling2d_3 (MaxPooling  (None, 14, 14, 128)      0         \n",
      " 2D)                                                             \n",
      "                                                                 \n",
      " conv2d_4 (Conv2D)           (None, 14, 14, 256)       131328    \n",
      "                                                                 \n",
      " max_pooling2d_4 (MaxPooling  (None, 7, 7, 256)        0         \n",
      " 2D)                                                             \n",
      "                                                                 \n",
      " conv2d_5 (Conv2D)           (None, 7, 7, 256)         262400    \n",
      "                                                                 \n",
      " max_pooling2d_5 (MaxPooling  (None, 3, 3, 256)        0         \n",
      " 2D)                                                             \n",
      "                                                                 \n",
      " conv2d_6 (Conv2D)           (None, 3, 3, 256)         262400    \n",
      "                                                                 \n",
      " max_pooling2d_6 (MaxPooling  (None, 1, 1, 256)        0         \n",
      " 2D)                                                             \n",
      "                                                                 \n",
      " flatten (Flatten)           (None, 256)               0         \n",
      "                                                                 \n",
      " dense (Dense)               (None, 150)               38550     \n",
      "                                                                 \n",
      " activation_1 (Activation)   (None, 150)               0         \n",
      "                                                                 \n",
      " dropout (Dropout)           (None, 150)               0         \n",
      "                                                                 \n",
      " dense_1 (Dense)             (None, 102)               15402     \n",
      "                                                                 \n",
      "=================================================================\n",
      "Total params: 753,520\n",
      "Trainable params: 753,520\n",
      "Non-trainable params: 0\n",
      "_________________________________________________________________\n"
     ]
    }
   ],
   "source": [
    "saved_model = tf.keras.models.load_model('gs://plant-buddy-bucket/model_oxford/model_trained_valid12_4', compile=False)\n",
    "\n",
    "saved_model.summary()"
   ]
  },
  {
   "cell_type": "code",
   "execution_count": 3,
   "id": "20dafc86-c604-403a-a9a6-7bfdcae550b7",
   "metadata": {
    "tags": []
   },
   "outputs": [
    {
     "name": "stderr",
     "output_type": "stream",
     "text": [
      "2024-03-19 11:12:32.561387: W tensorflow/stream_executor/platform/default/dso_loader.cc:64] Could not load dynamic library 'libcuda.so.1'; dlerror: libcuda.so.1: cannot open shared object file: No such file or directory; LD_LIBRARY_PATH: /usr/local/cuda/lib64:/usr/local/cuda/lib:/usr/local/lib/x86_64-linux-gnu:/usr/local/nvidia/lib:/usr/local/nvidia/lib64:/usr/local/nvidia/lib:/usr/local/nvidia/lib64\n",
      "2024-03-19 11:12:32.592499: W tensorflow/stream_executor/cuda/cuda_driver.cc:263] failed call to cuInit: UNKNOWN ERROR (303)\n",
      "2024-03-19 11:12:32.592589: I tensorflow/stream_executor/cuda/cuda_diagnostics.cc:156] kernel driver does not appear to be running on this host (0d94207cbf33): /proc/driver/nvidia/version does not exist\n",
      "2024-03-19 11:12:32.618468: I tensorflow/core/platform/cpu_feature_guard.cc:193] This TensorFlow binary is optimized with oneAPI Deep Neural Network Library (oneDNN) to use the following CPU instructions in performance-critical operations:  AVX2 FMA\n",
      "To enable them in other operations, rebuild TensorFlow with the appropriate compiler flags.\n"
     ]
    },
    {
     "name": "stdout",
     "output_type": "stream",
     "text": [
      "Downloading data from https://storage.googleapis.com/keras-applications/efficientnetb7_notop.h5\n",
      "258076736/258076736 [==============================] - 6s 0us/step\n",
      "Number of layers in the base model:  814\n"
     ]
    }
   ],
   "source": [
    "base_model = tf.keras.applications.EfficientNetB7(input_shape=(224, 224, 3),\n",
    "                                               include_top=False,\n",
    "                                               weights='imagenet')\n",
    "\n",
    "print(\"Number of layers in the base model: \", len(base_model.layers))"
   ]
  },
  {
   "cell_type": "code",
   "execution_count": 4,
   "id": "bfeaa43c-5138-4c9e-9177-334443c5c629",
   "metadata": {},
   "outputs": [
    {
     "name": "stdout",
     "output_type": "stream",
     "text": [
      "weights: 264\n",
      "non-trainable weights: 260\n"
     ]
    }
   ],
   "source": [
    "print(\"weights:\", len(saved_model.weights))\n",
    "print(\"non-trainable weights:\", len(saved_model.non_trainable_weights))"
   ]
  },
  {
   "cell_type": "code",
   "execution_count": 6,
   "id": "9316429d-2160-47d0-a6f2-b07f197ec17b",
   "metadata": {
    "tags": []
   },
   "outputs": [
    {
     "data": {
      "text/plain": [
       "260"
      ]
     },
     "execution_count": 6,
     "metadata": {},
     "output_type": "execute_result"
    }
   ],
   "source": [
    "len(saved_model.get_layer(name='keras_layer').non_trainable_weights)"
   ]
  },
  {
   "cell_type": "code",
   "execution_count": 1,
   "id": "56f30381-ea7b-4d28-8ed7-5376083514e4",
   "metadata": {
    "tags": []
   },
   "outputs": [
    {
     "name": "stderr",
     "output_type": "stream",
     "text": [
      "2024-05-04 10:37:34.635953: I tensorflow/core/platform/cpu_feature_guard.cc:182] This TensorFlow binary is optimized to use available CPU instructions in performance-critical operations.\n",
      "To enable the following instructions: AVX2 FMA, in other operations, rebuild TensorFlow with the appropriate compiler flags.\n",
      "2024-05-04 10:37:51.276107: W tensorflow/compiler/tf2tensorrt/utils/py_utils.cc:38] TF-TRT Warning: Could not find TensorRT\n",
      "/opt/conda/lib/python3.10/site-packages/tensorflow_io/python/ops/__init__.py:98: UserWarning: unable to load libtensorflow_io_plugins.so: unable to open file: libtensorflow_io_plugins.so, from paths: ['/opt/conda/lib/python3.10/site-packages/tensorflow_io/python/ops/libtensorflow_io_plugins.so']\n",
      "caused by: ['/opt/conda/lib/python3.10/site-packages/tensorflow_io/python/ops/libtensorflow_io_plugins.so: undefined symbol: _ZN3tsl6StatusC1EN10tensorflow5error4CodeESt17basic_string_viewIcSt11char_traitsIcEENS_14SourceLocationE']\n",
      "  warnings.warn(f\"unable to load libtensorflow_io_plugins.so: {e}\")\n",
      "/opt/conda/lib/python3.10/site-packages/tensorflow_io/python/ops/__init__.py:104: UserWarning: file system plugins are not loaded: unable to open file: libtensorflow_io.so, from paths: ['/opt/conda/lib/python3.10/site-packages/tensorflow_io/python/ops/libtensorflow_io.so']\n",
      "caused by: ['/opt/conda/lib/python3.10/site-packages/tensorflow_io/python/ops/libtensorflow_io.so: undefined symbol: _ZTVN10tensorflow13GcsFileSystemE']\n",
      "  warnings.warn(f\"file system plugins are not loaded: {e}\")\n"
     ]
    }
   ],
   "source": [
    "import tensorflow_hub as hub\n",
    "import time\n",
    "import numpy as np\n",
    "import matplotlib.pyplot as plt\n",
    "\n",
    "import tensorflow as tf\n",
    "import tensorflow_hub as hub\n",
    "import tensorflow_datasets as tfds"
   ]
  },
  {
   "cell_type": "code",
   "execution_count": 14,
   "id": "163388a6-0955-4963-b430-ab14f25c89fe",
   "metadata": {
    "tags": []
   },
   "outputs": [
    {
     "name": "stderr",
     "output_type": "stream",
     "text": [
      "2024-05-03 20:12:27.446546: I tensorflow/core/common_runtime/executor.cc:1197] [/device:CPU:0] (DEBUG INFO) Executor start aborting (this does not indicate an error and you can ignore this message): INVALID_ARGUMENT: You must feed a value for placeholder tensor 'Placeholder/_2' with dtype string and shape [1]\n",
      "\t [[{{node Placeholder/_2}}]]\n",
      "2024-05-03 20:12:27.447089: I tensorflow/core/common_runtime/executor.cc:1197] [/device:CPU:0] (DEBUG INFO) Executor start aborting (this does not indicate an error and you can ignore this message): INVALID_ARGUMENT: You must feed a value for placeholder tensor 'Placeholder/_0' with dtype string and shape [1]\n",
      "\t [[{{node Placeholder/_0}}]]\n",
      "2024-05-03 20:12:27.993023: I tensorflow/core/common_runtime/executor.cc:1197] [/device:CPU:0] (DEBUG INFO) Executor start aborting (this does not indicate an error and you can ignore this message): INVALID_ARGUMENT: You must feed a value for placeholder tensor 'Placeholder/_0' with dtype string and shape [1]\n",
      "\t [[{{node Placeholder/_0}}]]\n",
      "2024-05-03 20:12:27.993593: I tensorflow/core/common_runtime/executor.cc:1197] [/device:CPU:0] (DEBUG INFO) Executor start aborting (this does not indicate an error and you can ignore this message): INVALID_ARGUMENT: You must feed a value for placeholder tensor 'Placeholder/_0' with dtype string and shape [1]\n",
      "\t [[{{node Placeholder/_0}}]]\n",
      "2024-05-03 20:12:28.483649: I tensorflow/core/common_runtime/executor.cc:1197] [/device:CPU:0] (DEBUG INFO) Executor start aborting (this does not indicate an error and you can ignore this message): INVALID_ARGUMENT: You must feed a value for placeholder tensor 'Placeholder/_4' with dtype int64 and shape [2]\n",
      "\t [[{{node Placeholder/_4}}]]\n",
      "2024-05-03 20:12:28.484305: I tensorflow/core/common_runtime/executor.cc:1197] [/device:CPU:0] (DEBUG INFO) Executor start aborting (this does not indicate an error and you can ignore this message): INVALID_ARGUMENT: You must feed a value for placeholder tensor 'Placeholder/_4' with dtype int64 and shape [2]\n",
      "\t [[{{node Placeholder/_4}}]]\n"
     ]
    },
    {
     "name": "stdout",
     "output_type": "stream",
     "text": [
      "Total Number of Training Images: 1020\n",
      "Total Number of Validation Images: 1020\n",
      "Total Number of Test Images: 6149 \n",
      "\n",
      "Total Number of Classes: 102\n"
     ]
    },
    {
     "name": "stderr",
     "output_type": "stream",
     "text": [
      "2024-05-03 20:12:30.895792: I tensorflow/core/common_runtime/executor.cc:1197] [/device:CPU:0] (DEBUG INFO) Executor start aborting (this does not indicate an error and you can ignore this message): INVALID_ARGUMENT: You must feed a value for placeholder tensor 'Placeholder/_3' with dtype int64 and shape [1]\n",
      "\t [[{{node Placeholder/_3}}]]\n",
      "2024-05-03 20:12:30.896834: I tensorflow/core/common_runtime/executor.cc:1197] [/device:CPU:0] (DEBUG INFO) Executor start aborting (this does not indicate an error and you can ignore this message): INVALID_ARGUMENT: You must feed a value for placeholder tensor 'Placeholder/_24' with dtype int64 and shape [2]\n",
      "\t [[{{node Placeholder/_24}}]]\n",
      "2024-05-03 20:12:35.902038: I tensorflow/core/common_runtime/executor.cc:1197] [/device:CPU:0] (DEBUG INFO) Executor start aborting (this does not indicate an error and you can ignore this message): INVALID_ARGUMENT: You must feed a value for placeholder tensor 'Placeholder/_4' with dtype int64 and shape [1]\n",
      "\t [[{{node Placeholder/_4}}]]\n",
      "2024-05-03 20:12:35.902957: I tensorflow/core/common_runtime/executor.cc:1197] [/device:CPU:0] (DEBUG INFO) Executor start aborting (this does not indicate an error and you can ignore this message): INVALID_ARGUMENT: You must feed a value for placeholder tensor 'Placeholder/_4' with dtype int64 and shape [1]\n",
      "\t [[{{node Placeholder/_4}}]]\n",
      "2024-05-03 20:12:36.543980: I tensorflow/core/common_runtime/executor.cc:1197] [/device:CPU:0] (DEBUG INFO) Executor start aborting (this does not indicate an error and you can ignore this message): INVALID_ARGUMENT: You must feed a value for placeholder tensor 'Placeholder/_1' with dtype string and shape [2]\n",
      "\t [[{{node Placeholder/_1}}]]\n",
      "2024-05-03 20:12:36.545086: I tensorflow/core/common_runtime/executor.cc:1197] [/device:CPU:0] (DEBUG INFO) Executor start aborting (this does not indicate an error and you can ignore this message): INVALID_ARGUMENT: You must feed a value for placeholder tensor 'Placeholder/_3' with dtype int64 and shape [2]\n",
      "\t [[{{node Placeholder/_3}}]]\n"
     ]
    },
    {
     "name": "stdout",
     "output_type": "stream",
     "text": [
      "Total Number of Training Images: 6552\n",
      "Total Number of Validation Images: 819\n",
      "Total Number of Test Images: 818 \n",
      "\n",
      "Total Number of Classes: 102\n"
     ]
    }
   ],
   "source": [
    "dataset, dataset_info = tfds.load('oxford_flowers102', with_info=True, as_supervised=True)\n",
    "dataset_info\n",
    "\n",
    "test_set, training_set, validation_set = dataset['test'], dataset['train'], dataset['validation']\n",
    "\n",
    "num_training_examples = 0\n",
    "num_validation_examples = 0\n",
    "num_test_examples = 0\n",
    "\n",
    "for example in training_set:\n",
    "  num_training_examples += 1\n",
    "\n",
    "for example in validation_set:\n",
    "  num_validation_examples += 1\n",
    "\n",
    "for example in test_set:\n",
    "  num_test_examples += 1\n",
    "\n",
    "print('Total Number of Training Images: {}'.format(num_training_examples))\n",
    "print('Total Number of Validation Images: {}'.format(num_validation_examples))\n",
    "print('Total Number of Test Images: {} \\n'.format(num_test_examples))\n",
    "\n",
    "num_classes = dataset_info.features['label'].num_classes\n",
    "print('Total Number of Classes: {}'.format(num_classes))\n",
    "\n",
    "# IMAGE_RES = 224\n",
    "# BATCH_SIZE = 32\n",
    "\n",
    "# def format_image(image, label):\n",
    "#   image = tf.image.resize(image, (IMAGE_RES, IMAGE_RES))/255.0\n",
    "#   return image, label\n",
    "\n",
    "# training_set = training_set.map(format_image).batch(BATCH_SIZE).prefetch(1)\n",
    "# validation_set = validation_set.map(format_image).batch(BATCH_SIZE).prefetch(1)\n",
    "# test_set = test_set.map(format_image).batch(BATCH_SIZE).prefetch(1)\n",
    "\n",
    "# num_training_batches = tf.data.experimental.cardinality(training_set).numpy()\n",
    "# num_validation_batches = tf.data.experimental.cardinality(validation_set).numpy()\n",
    "# num_test_batches = tf.data.experimental.cardinality(test_set).numpy()\n",
    "\n",
    "# print(\"Number of batches in the training set:\", num_training_batches)\n",
    "# print(\"Number of batches in the validation set:\", num_validation_batches)\n",
    "# print(\"Number of batches in the test set:\", num_test_batches)\n",
    "\n",
    "# %%\n",
    "\n",
    "desired_training_size = 6552\n",
    "desired_validation_size = 819\n",
    "desired_test_size = 818\n",
    "\n",
    "test_set = test_set.shuffle(buffer_size=6149)\n",
    "remaining_test_instances = test_set.skip(5532).take(617)\n",
    "instances_for_training = test_set.take(5532)\n",
    "\n",
    "training_set = training_set.concatenate(instances_for_training)\n",
    "training_set = training_set.shuffle(buffer_size=desired_training_size)\n",
    "\n",
    "validation_set = validation_set.shuffle(buffer_size=1020)\n",
    "instances_for_test = validation_set.skip(819).take(201)\n",
    "\n",
    "validation_set = validation_set.take(819)\n",
    "\n",
    "test_set = remaining_test_instances.concatenate(instances_for_test)\n",
    "test_set = test_set.shuffle(818)\n",
    "\n",
    "num_training_examples = 0\n",
    "num_validation_examples = 0\n",
    "num_test_examples = 0\n",
    "\n",
    "for example in training_set:\n",
    "  num_training_examples += 1\n",
    "\n",
    "for example in validation_set:\n",
    "  num_validation_examples += 1\n",
    "\n",
    "for example in test_set:\n",
    "  num_test_examples += 1\n",
    "\n",
    "print('Total Number of Training Images: {}'.format(num_training_examples))\n",
    "print('Total Number of Validation Images: {}'.format(num_validation_examples))\n",
    "print('Total Number of Test Images: {} \\n'.format(num_test_examples))\n",
    "\n",
    "num_classes = dataset_info.features['label'].num_classes\n",
    "print('Total Number of Classes: {}'.format(num_classes))\n",
    "# test_set.save('oxford_dataset_above/test_set_above')\n",
    "# training_set.save('oxford_dataset_above/training_set_above')\n",
    "# validation_set.save('oxford_dataset_above/validation_set_above')"
   ]
  },
  {
   "cell_type": "code",
   "execution_count": 32,
   "id": "bff20cb1-9651-4f72-a384-e270f1fb549e",
   "metadata": {
    "tags": []
   },
   "outputs": [],
   "source": [
    "training_set_above.save('oxford_dataset_above/training_set_above')\n",
    "validation_set_above.save('oxford_dataset_above/validation_set_above')\n",
    "test_set_above.save('oxford_dataset_above/test_set_above')"
   ]
  },
  {
   "cell_type": "code",
   "execution_count": 45,
   "id": "7fa93548-d890-4016-aec1-6c5b54a479cc",
   "metadata": {
    "tags": []
   },
   "outputs": [],
   "source": [
    "# training_set_original=tf.data.Dataset.load('oxoford_dataset_original/training_set_original')\n",
    "# validation_set_original=tf.data.Dataset.load('oxoford_dataset_original/validation_set_original')\n",
    "# test_set_original=tf.data.Dataset.load('oxoford_dataset_original/test_set_original')\n",
    "\n",
    "training_set_above=tf.data.Dataset.load('oxoford_dataset_original/training_set_original')\n",
    "validation_set_above=tf.data.Dataset.load('oxoford_dataset_original/validation_set_original')\n",
    "test_set_above=tf.data.Dataset.load('oxoford_dataset_original/test_set_original')"
   ]
  },
  {
   "cell_type": "code",
   "execution_count": 46,
   "id": "66a9dc86-9925-4341-bd5e-ff2ac43f572c",
   "metadata": {
    "tags": []
   },
   "outputs": [],
   "source": [
    "# training_set_above=tf.data.Dataset.load('oxford_dataset_above/training_set_above')\n",
    "# validation_set_above=tf.data.Dataset.load('oxford_dataset_above/validation_set_above')\n",
    "# test_set_above=tf.data.Dataset.load('oxford_dataset_above/test_set_above')\n",
    "\n",
    "training_class_counts = {}\n",
    "validation_class_counts = {}\n",
    "test_class_counts = {}\n",
    "\n",
    "for images, labels in training_set_above:\n",
    "    for label in labels.numpy():\n",
    "        label = label.item()\n",
    "        if label in training_class_counts:\n",
    "            training_class_counts[label] += 1\n",
    "        else:\n",
    "            training_class_counts[label] = 1\n",
    "\n",
    "for images, labels in validation_set_above:\n",
    "    for label in labels.numpy():\n",
    "        label = label.item()  \n",
    "        if label in validation_class_counts:\n",
    "            validation_class_counts[label] += 1\n",
    "        else:\n",
    "            validation_class_counts[label] = 1\n",
    "\n",
    "\n",
    "for images, labels in test_set_above:\n",
    "    for label in labels.numpy():\n",
    "        label = label.item() \n",
    "        if label in test_class_counts:\n",
    "            test_class_counts[label] += 1\n",
    "        else:\n",
    "            test_class_counts[label] = 1"
   ]
  },
  {
   "cell_type": "code",
   "execution_count": 18,
   "id": "245f47fd-d0e2-415c-bd87-6151dc95691d",
   "metadata": {
    "tags": []
   },
   "outputs": [],
   "source": [
    "for i, (images, labels) in enumerate(training_set_above):\n",
    "    if i >= 5: \n",
    "        break\n",
    "    print('Training batch', i+1, '- Images shape:', images.shape, '- Labels shape:', labels.shape)\n",
    "    if images.shape[0] == 0 or labels.shape[0] == 0:\n",
    "        print('Warning: Empty batch')\n",
    "\n",
    "for i, (images, labels) in enumerate(validation_set_above):\n",
    "    if i >= 5: \n",
    "        break\n",
    "    print('Validation batch', i+1, '- Images shape:', images.shape, '- Labels shape:', labels.shape)\n",
    "    if images.shape[0] == 0 or labels.shape[0] == 0:\n",
    "        print('Warning: Empty batch')\n",
    "\n",
    "for i, (images, labels) in enumerate(test_set_above):\n",
    "    if i >= 5: \n",
    "        break\n",
    "    print('Test batch', i+1, '- Images shape:', images.shape, '- Labels shape:', labels.shape)\n",
    "    if images.shape[0] == 0 or labels.shape[0] == 0:\n",
    "        print('Warning: Empty batch')"
   ]
  },
  {
   "cell_type": "code",
   "execution_count": 35,
   "id": "b9d8d467-91fe-477d-b875-3ca34ce2047e",
   "metadata": {
    "tags": []
   },
   "outputs": [
    {
     "name": "stdout",
     "output_type": "stream",
     "text": [
      "Number of unique labels in training set: 36\n",
      "Number of unique labels in validation set: 36\n",
      "Number of unique labels in test set: 36\n",
      "All datasets have the same unique labels.\n"
     ]
    }
   ],
   "source": [
    "training_labels = set(training_class_counts.keys())\n",
    "validation_labels = set(validation_class_counts.keys())\n",
    "test_labels = set(test_class_counts.keys())\n",
    "\n",
    "print('Number of unique labels in training set:', len(training_labels))\n",
    "print('Number of unique labels in validation set:', len(validation_labels))\n",
    "print('Number of unique labels in test set:', len(test_labels))\n",
    "\n",
    "if training_labels == validation_labels == test_labels:\n",
    "    print('All datasets have the same unique labels.')\n",
    "else:\n",
    "    print('Datasets have different unique labels.')"
   ]
  },
  {
   "cell_type": "code",
   "execution_count": 12,
   "id": "32af76b5-bc93-4fa1-b317-49031cde3b3a",
   "metadata": {
    "tags": []
   },
   "outputs": [
    {
     "name": "stdout",
     "output_type": "stream",
     "text": [
      "Number of batches in the training set: 225\n",
      "Number of batches in the validation set: 32\n",
      "Number of batches in the test set: 0\n"
     ]
    }
   ],
   "source": [
    "num_training_batches = tf.data.experimental.cardinality(training_set).numpy()\n",
    "num_validation_batches = tf.data.experimental.cardinality(validation_set).numpy()\n",
    "num_test_batches = tf.data.experimental.cardinality(test_set).numpy()\n",
    "\n",
    "print(\"Number of batches in the training set:\", num_training_batches)\n",
    "print(\"Number of batches in the validation set:\", num_validation_batches)\n",
    "print(\"Number of batches in the test set:\", num_test_batches)"
   ]
  },
  {
   "cell_type": "code",
   "execution_count": 36,
   "id": "cbc5d5d4-b587-4a3b-8595-28887aa37a87",
   "metadata": {
    "tags": []
   },
   "outputs": [
    {
     "name": "stdout",
     "output_type": "stream",
     "text": [
      "Training set labels:\n",
      "76\n",
      "71\n",
      "57\n",
      "93\n",
      "50\n",
      "7\n",
      "87\n",
      "45\n",
      "72\n",
      "43\n",
      "88\n",
      "82\n",
      "42\n",
      "73\n",
      "59\n",
      "51\n",
      "22\n",
      "75\n",
      "77\n",
      "81\n",
      "94\n",
      "80\n",
      "64\n",
      "49\n",
      "83\n",
      "79\n",
      "55\n",
      "11\n",
      "52\n",
      "36\n",
      "40\n",
      "95\n",
      "74\n",
      "17\n",
      "29\n",
      "10\n",
      "Training set:\n",
      "211\n",
      "76\n",
      "85\n",
      "136\n",
      "217\n",
      "63\n",
      "124\n",
      "156\n",
      "164\n",
      "75\n",
      "148\n",
      "115\n",
      "95\n",
      "134\n",
      "87\n",
      "59\n",
      "70\n",
      "88\n",
      "108\n",
      "88\n",
      "101\n",
      "128\n",
      "75\n",
      "67\n",
      "68\n",
      "87\n",
      "86\n",
      "71\n",
      "77\n",
      "87\n",
      "96\n",
      "70\n",
      "96\n",
      "60\n",
      "59\n",
      "69\n",
      "\n",
      "Validation set labels:\n",
      "94\n",
      "29\n",
      "88\n",
      "64\n",
      "71\n",
      "93\n",
      "43\n",
      "79\n",
      "59\n",
      "17\n",
      "95\n",
      "51\n",
      "57\n",
      "80\n",
      "10\n",
      "82\n",
      "83\n",
      "49\n",
      "7\n",
      "11\n",
      "55\n",
      "40\n",
      "36\n",
      "72\n",
      "52\n",
      "22\n",
      "73\n",
      "75\n",
      "45\n",
      "77\n",
      "81\n",
      "42\n",
      "50\n",
      "74\n",
      "87\n",
      "76\n",
      "\n",
      "Validation set:\n",
      "12\n",
      "11\n",
      "15\n",
      "14\n",
      "12\n",
      "15\n",
      "12\n",
      "12\n",
      "17\n",
      "15\n",
      "13\n",
      "10\n",
      "11\n",
      "16\n",
      "13\n",
      "10\n",
      "13\n",
      "11\n",
      "12\n",
      "13\n",
      "19\n",
      "19\n",
      "9\n",
      "12\n",
      "8\n",
      "14\n",
      "11\n",
      "13\n",
      "18\n",
      "13\n",
      "13\n",
      "8\n",
      "23\n",
      "17\n",
      "14\n",
      "22\n",
      "\n",
      "Test set labels:\n",
      "88\n",
      "42\n",
      "79\n",
      "45\n",
      "74\n",
      "75\n",
      "51\n",
      "95\n",
      "82\n",
      "57\n",
      "17\n",
      "22\n",
      "11\n",
      "49\n",
      "77\n",
      "87\n",
      "72\n",
      "36\n",
      "80\n",
      "71\n",
      "55\n",
      "76\n",
      "93\n",
      "43\n",
      "29\n",
      "10\n",
      "73\n",
      "50\n",
      "81\n",
      "7\n",
      "40\n",
      "94\n",
      "83\n",
      "52\n",
      "64\n",
      "59\n",
      "\n",
      "Test set:\n",
      "23\n",
      "14\n",
      "13\n",
      "21\n",
      "9\n",
      "8\n",
      "11\n",
      "14\n",
      "17\n",
      "15\n",
      "7\n",
      "14\n",
      "12\n",
      "8\n",
      "23\n",
      "9\n",
      "21\n",
      "10\n",
      "12\n",
      "7\n",
      "11\n",
      "26\n",
      "20\n",
      "15\n",
      "8\n",
      "7\n",
      "16\n",
      "18\n",
      "8\n",
      "8\n",
      "11\n",
      "11\n",
      "7\n",
      "8\n",
      "7\n",
      "8\n"
     ]
    }
   ],
   "source": [
    "print(\"Training set labels:\")\n",
    "for label, count in training_class_counts.items():\n",
    "    print(\"{}\".format(label))\n",
    "\n",
    "print(\"Training set:\")\n",
    "for label, count in training_class_counts.items():\n",
    "    print(\"{}\".format(count))\n",
    "\n",
    "print(\"\\nValidation set labels:\")\n",
    "for label, count in validation_class_counts.items():\n",
    "    print(\"{}\".format(label))\n",
    "\n",
    "print(\"\\nValidation set:\")\n",
    "for label, count in validation_class_counts.items():\n",
    "    print(\"{}\".format(count))\n",
    "\n",
    "print(\"\\nTest set labels:\")\n",
    "for label, count in test_class_counts.items():\n",
    "    print(\"{}\".format(label))\n",
    "\n",
    "print(\"\\nTest set:\")\n",
    "for label, count in test_class_counts.items():\n",
    "    print(\"{}\".format(count))"
   ]
  },
  {
   "cell_type": "code",
   "execution_count": 49,
   "id": "b8b95896-0bfe-43e8-8c3f-4b66914c6961",
   "metadata": {
    "tags": []
   },
   "outputs": [
    {
     "data": {
      "image/png": "[encoded data removed]",
      "text/plain": [
       "<Figure size 2000x600 with 1 Axes>"
      ]
     },
     "metadata": {},
     "output_type": "display_data"
    }
   ],
   "source": [
    "sorted_classes = sorted(validation_class_counts.keys())\n",
    "\n",
    "plt.figure(figsize=(20, 6))\n",
    "plt.bar(range(len(sorted_classes)), [training_class_counts[label] for label in sorted_classes], align='center')\n",
    "plt.xticks(range(len(sorted_classes)), [str(label) for label in sorted_classes], rotation='vertical')\n",
    "plt.ylabel('Number of Examples')\n",
    "plt.xlabel('Class Label')\n",
    "plt.title('Number of Examples per Class in Test Set')\n",
    "plt.show()"
   ]
  },
  {
   "cell_type": "code",
   "execution_count": 27,
   "id": "0d44e597-5c8d-42d9-9447-7c2c67429e70",
   "metadata": {
    "tags": []
   },
   "outputs": [
    {
     "name": "stdout",
     "output_type": "stream",
     "text": [
      "Average number of examples per class in the training set: 99.88888888888889\n"
     ]
    }
   ],
   "source": [
    "total_training_examples = sum(training_class_counts.values())\n",
    "\n",
    "average_examples_per_class = total_training_examples / len(training_class_counts)\n",
    "\n",
    "print(\"Average number of examples per class in the training set:\", average_examples_per_class)\n"
   ]
  },
  {
   "cell_type": "code",
   "execution_count": 29,
   "id": "257b4f37-35e0-495a-bc5c-df985b58063f",
   "metadata": {
    "tags": []
   },
   "outputs": [
    {
     "data": {
      "text/plain": [
       "36"
      ]
     },
     "execution_count": 29,
     "metadata": {},
     "output_type": "execute_result"
    }
   ],
   "source": [
    " len(validation_class_counts)"
   ]
  },
  {
   "cell_type": "code",
   "execution_count": 27,
   "id": "b0ecb139-3bbe-4caf-bc18-bfe2a232e56c",
   "metadata": {
    "tags": []
   },
   "outputs": [
    {
     "name": "stdout",
     "output_type": "stream",
     "text": [
      "Number of classes with examples above average: 36\n",
      "Number of classes with examples under average: 66\n"
     ]
    }
   ],
   "source": [
    "above_average_count = 0\n",
    "under_average_count = 0\n",
    "\n",
    "for count in training_class_counts.values():\n",
    "    if count >= average_examples_per_class:\n",
    "        above_average_count += 1\n",
    "    elif count < average_examples_per_class:\n",
    "        under_average_count += 1\n",
    "\n",
    "print(\"Number of classes with examples above average:\", above_average_count)\n",
    "print(\"Number of classes with examples under average:\", under_average_count)"
   ]
  },
  {
   "cell_type": "code",
   "execution_count": 28,
   "id": "2070731b-b620-46e2-8a11-0001130394c1",
   "metadata": {
    "tags": []
   },
   "outputs": [],
   "source": [
    "classes_above_average = [label for label, count in training_class_counts.items() if count > average_examples_per_class]\n",
    "\n",
    "above_average_training_set = training_set.filter(lambda images, labels: tf.reduce_any(tf.equal(labels, classes_above_average)))\n",
    "above_average_validation_set = validation_set.filter(lambda images, labels: tf.reduce_any(tf.equal(labels, classes_above_average)))\n",
    "above_average_test_set = test_set.filter(lambda images, labels: tf.reduce_any(tf.equal(labels, classes_above_average)))"
   ]
  },
  {
   "cell_type": "code",
   "execution_count": 30,
   "id": "77e27369-abe1-41e1-b56c-a8cc61830261",
   "metadata": {
    "tags": []
   },
   "outputs": [],
   "source": [
    "examples_to_move = above_average_training_set.take(200)\n",
    "above_average_validation_set = above_average_validation_set.concatenate(examples_to_move)\n",
    "above_average_training_set = above_average_training_set.skip(200)"
   ]
  },
  {
   "cell_type": "code",
   "execution_count": 47,
   "id": "26eec92b-3726-4c55-a6ac-17de1ede4daa",
   "metadata": {
    "tags": []
   },
   "outputs": [
    {
     "name": "stdout",
     "output_type": "stream",
     "text": [
      "Total Number of Training Images: 32\n",
      "Total Number of Validation Images: 32\n",
      "Total Number of Test Images: 193\n"
     ]
    }
   ],
   "source": [
    "# num_training_examples = 0\n",
    "# num_validation_examples = 0\n",
    "# num_test_examples = 0\n",
    "\n",
    "# for example in above_average_training_set:\n",
    "#   num_training_examples += 1\n",
    "\n",
    "# for example in above_average_validation_set:\n",
    "#   num_validation_examples += 1\n",
    "\n",
    "# for example in above_average_test_set:\n",
    "#   num_test_examples += 1\n",
    "\n",
    "# print('Total Number of Training Images: {}'.format(num_training_examples))\n",
    "# print('Total Number of Validation Images: {}'.format(num_validation_examples))\n",
    "# print('Total Number of Test Images: {} \\n'.format(num_test_examples))\n",
    "\n",
    "num_training_examples = tf.data.experimental.cardinality(training_set_above).numpy()\n",
    "num_validation_examples = tf.data.experimental.cardinality(validation_set_above).numpy()\n",
    "num_test_examples = tf.data.experimental.cardinality(test_set_above).numpy()\n",
    "\n",
    "print('Total Number of Training Images: {}'.format(num_training_examples))\n",
    "print('Total Number of Validation Images: {}'.format(num_validation_examples))\n",
    "print('Total Number of Test Images: {}'.format(num_test_examples))\n",
    "\n",
    "# num_training_examples = len(list(above_average_training_set))\n",
    "# num_validation_examples = len(list(above_average_validation_set))\n",
    "# num_test_examples = len(list(above_average_test_set))\n",
    "\n",
    "# print('Total Number of Training Images: {}'.format(num_training_examples))\n",
    "# print('Total Number of Validation Images: {}'.format(num_validation_examples))\n",
    "# print('Total Number of Test Images: {}'.format(num_test_examples))"
   ]
  },
  {
   "cell_type": "code",
   "execution_count": 22,
   "id": "7457010e-4bf3-41e7-a3bd-f7d4fe5ea8dc",
   "metadata": {
    "tags": []
   },
   "outputs": [
    {
     "name": "stdout",
     "output_type": "stream",
     "text": [
      "Number of batches in the training set: 113\n",
      "Number of batches in the validation set: 16\n",
      "Number of batches in the test set: 15\n"
     ]
    }
   ],
   "source": [
    "IMAGE_RES = 224\n",
    "BATCH_SIZE = 32\n",
    "\n",
    "def format_image(image, label):\n",
    "  image = tf.image.resize(image, (IMAGE_RES, IMAGE_RES))/255.0\n",
    "  return image, label\n",
    "\n",
    "training_set_above = training_set_above.map(format_image).batch(BATCH_SIZE).prefetch(1)\n",
    "validation_set_above = validation_set_above.map(format_image).batch(BATCH_SIZE).prefetch(1)\n",
    "test_set_above = test_set_above.map(format_image).batch(BATCH_SIZE).prefetch(1)\n",
    "\n",
    "num_training_batches = tf.data.experimental.cardinality(training_set_above).numpy()\n",
    "num_validation_batches = tf.data.experimental.cardinality(validation_set_above).numpy()\n",
    "num_test_batches = tf.data.experimental.cardinality(test_set_above).numpy()\n",
    "\n",
    "print(\"Number of batches in the training set:\", num_training_batches)\n",
    "print(\"Number of batches in the validation set:\", num_validation_batches)\n",
    "print(\"Number of batches in the test set:\", num_test_batches)"
   ]
  },
  {
   "cell_type": "code",
   "execution_count": 40,
   "id": "fb8d4683-d39c-4c6a-af75-1dbd9a40a632",
   "metadata": {
    "tags": []
   },
   "outputs": [
    {
     "ename": "ValueError",
     "evalue": "Parsing builder name string tensorflow_datasets/oxford_flowers102/2.1.1 failed.\nThe builder name string must be of the following format:\n  dataset_name[/config_name][:version][/kwargs]\n\n  Where:\n\n    * dataset_name and config_name are string following python variable naming.\n    * version is of the form x.y.z where {x,y,z} can be any digit or *.\n    * kwargs is a comma list separated of arguments and values to pass to\n      builder.\n\n  Examples:\n    my_dataset\n    my_dataset:1.2.*\n    my_dataset/config1\n    my_dataset/config1:1.*.*\n    my_dataset/config1/arg1=val1,arg2=val2\n    my_dataset/config1:1.2.3/right=True,foo=bar,rate=1.2\n",
     "output_type": "error",
     "traceback": [
      "\u001b[0;31m---------------------------------------------------------------------------\u001b[0m",
      "\u001b[0;31mValueError\u001b[0m                                Traceback (most recent call last)",
      "Cell \u001b[0;32mIn[40], line 1\u001b[0m\n\u001b[0;32m----> 1\u001b[0m dataset, dataset_info \u001b[38;5;241m=\u001b[39m \u001b[43mtfds\u001b[49m\u001b[38;5;241;43m.\u001b[39;49m\u001b[43mload\u001b[49m\u001b[43m(\u001b[49m\u001b[38;5;124;43m'\u001b[39;49m\u001b[38;5;124;43mtensorflow_datasets/oxford_flowers102/2.1.1\u001b[39;49m\u001b[38;5;124;43m'\u001b[39;49m\u001b[43m,\u001b[49m\u001b[43m \u001b[49m\u001b[43mwith_info\u001b[49m\u001b[38;5;241;43m=\u001b[39;49m\u001b[38;5;28;43;01mTrue\u001b[39;49;00m\u001b[43m,\u001b[49m\u001b[43m \u001b[49m\u001b[43mas_supervised\u001b[49m\u001b[38;5;241;43m=\u001b[39;49m\u001b[38;5;28;43;01mTrue\u001b[39;49;00m\u001b[43m)\u001b[49m\n\u001b[1;32m      2\u001b[0m dataset_info\n\u001b[1;32m      4\u001b[0m test_set, training_set, validation_set \u001b[38;5;241m=\u001b[39m dataset[\u001b[38;5;124m'\u001b[39m\u001b[38;5;124mtest\u001b[39m\u001b[38;5;124m'\u001b[39m], dataset[\u001b[38;5;124m'\u001b[39m\u001b[38;5;124mtrain\u001b[39m\u001b[38;5;124m'\u001b[39m], dataset[\u001b[38;5;124m'\u001b[39m\u001b[38;5;124mvalidation\u001b[39m\u001b[38;5;124m'\u001b[39m]\n",
      "File \u001b[0;32m/opt/conda/lib/python3.10/site-packages/tensorflow_datasets/core/logging/__init__.py:168\u001b[0m, in \u001b[0;36m_FunctionDecorator.__call__\u001b[0;34m(self, function, instance, args, kwargs)\u001b[0m\n\u001b[1;32m    166\u001b[0m metadata \u001b[38;5;241m=\u001b[39m \u001b[38;5;28mself\u001b[39m\u001b[38;5;241m.\u001b[39m_start_call()\n\u001b[1;32m    167\u001b[0m \u001b[38;5;28;01mtry\u001b[39;00m:\n\u001b[0;32m--> 168\u001b[0m   \u001b[38;5;28;01mreturn\u001b[39;00m \u001b[43mfunction\u001b[49m\u001b[43m(\u001b[49m\u001b[38;5;241;43m*\u001b[39;49m\u001b[43margs\u001b[49m\u001b[43m,\u001b[49m\u001b[43m \u001b[49m\u001b[38;5;241;43m*\u001b[39;49m\u001b[38;5;241;43m*\u001b[39;49m\u001b[43mkwargs\u001b[49m\u001b[43m)\u001b[49m\n\u001b[1;32m    169\u001b[0m \u001b[38;5;28;01mexcept\u001b[39;00m \u001b[38;5;167;01mException\u001b[39;00m:\n\u001b[1;32m    170\u001b[0m   metadata\u001b[38;5;241m.\u001b[39mmark_error()\n",
      "File \u001b[0;32m/opt/conda/lib/python3.10/site-packages/tensorflow_datasets/core/load.py:643\u001b[0m, in \u001b[0;36mload\u001b[0;34m(name, split, data_dir, batch_size, shuffle_files, download, as_supervised, decoders, read_config, with_info, builder_kwargs, download_and_prepare_kwargs, as_dataset_kwargs, try_gcs)\u001b[0m\n\u001b[1;32m    511\u001b[0m \u001b[38;5;129m@tfds_logging\u001b[39m\u001b[38;5;241m.\u001b[39mload()\n\u001b[1;32m    512\u001b[0m \u001b[38;5;28;01mdef\u001b[39;00m \u001b[38;5;21mload\u001b[39m(\n\u001b[1;32m    513\u001b[0m     name: \u001b[38;5;28mstr\u001b[39m,\n\u001b[0;32m   (...)\u001b[0m\n\u001b[1;32m    528\u001b[0m ):\n\u001b[1;32m    529\u001b[0m   \u001b[38;5;66;03m# pylint: disable=line-too-long\u001b[39;00m\n\u001b[1;32m    530\u001b[0m \u001b[38;5;250m  \u001b[39m\u001b[38;5;124;03m\"\"\"Loads the named dataset into a `tf.data.Dataset`.\u001b[39;00m\n\u001b[1;32m    531\u001b[0m \n\u001b[1;32m    532\u001b[0m \u001b[38;5;124;03m  `tfds.load` is a convenience method that:\u001b[39;00m\n\u001b[0;32m   (...)\u001b[0m\n\u001b[1;32m    641\u001b[0m \u001b[38;5;124;03m      Split-specific information is available in `ds_info.splits`.\u001b[39;00m\n\u001b[1;32m    642\u001b[0m \u001b[38;5;124;03m  \"\"\"\u001b[39;00m\n\u001b[0;32m--> 643\u001b[0m   dbuilder \u001b[38;5;241m=\u001b[39m \u001b[43m_fetch_builder\u001b[49m\u001b[43m(\u001b[49m\n\u001b[1;32m    644\u001b[0m \u001b[43m      \u001b[49m\u001b[43mname\u001b[49m\u001b[43m,\u001b[49m\n\u001b[1;32m    645\u001b[0m \u001b[43m      \u001b[49m\u001b[43mdata_dir\u001b[49m\u001b[43m,\u001b[49m\n\u001b[1;32m    646\u001b[0m \u001b[43m      \u001b[49m\u001b[43mbuilder_kwargs\u001b[49m\u001b[43m,\u001b[49m\n\u001b[1;32m    647\u001b[0m \u001b[43m      \u001b[49m\u001b[43mtry_gcs\u001b[49m\u001b[43m,\u001b[49m\n\u001b[1;32m    648\u001b[0m \u001b[43m  \u001b[49m\u001b[43m)\u001b[49m\n\u001b[1;32m    649\u001b[0m   _download_and_prepare_builder(dbuilder, download, download_and_prepare_kwargs)\n\u001b[1;32m    651\u001b[0m   \u001b[38;5;28;01mif\u001b[39;00m as_dataset_kwargs \u001b[38;5;129;01mis\u001b[39;00m \u001b[38;5;28;01mNone\u001b[39;00m:\n",
      "File \u001b[0;32m/opt/conda/lib/python3.10/site-packages/tensorflow_datasets/core/load.py:498\u001b[0m, in \u001b[0;36m_fetch_builder\u001b[0;34m(name, data_dir, builder_kwargs, try_gcs)\u001b[0m\n\u001b[1;32m    496\u001b[0m \u001b[38;5;28;01mif\u001b[39;00m builder_kwargs \u001b[38;5;129;01mis\u001b[39;00m \u001b[38;5;28;01mNone\u001b[39;00m:\n\u001b[1;32m    497\u001b[0m   builder_kwargs \u001b[38;5;241m=\u001b[39m {}\n\u001b[0;32m--> 498\u001b[0m \u001b[38;5;28;01mreturn\u001b[39;00m \u001b[43mbuilder\u001b[49m\u001b[43m(\u001b[49m\u001b[43mname\u001b[49m\u001b[43m,\u001b[49m\u001b[43m \u001b[49m\u001b[43mdata_dir\u001b[49m\u001b[38;5;241;43m=\u001b[39;49m\u001b[43mdata_dir\u001b[49m\u001b[43m,\u001b[49m\u001b[43m \u001b[49m\u001b[43mtry_gcs\u001b[49m\u001b[38;5;241;43m=\u001b[39;49m\u001b[43mtry_gcs\u001b[49m\u001b[43m,\u001b[49m\u001b[43m \u001b[49m\u001b[38;5;241;43m*\u001b[39;49m\u001b[38;5;241;43m*\u001b[39;49m\u001b[43mbuilder_kwargs\u001b[49m\u001b[43m)\u001b[49m\n",
      "File \u001b[0;32m/opt/conda/lib/python3.10/contextlib.py:79\u001b[0m, in \u001b[0;36mContextDecorator.__call__.<locals>.inner\u001b[0;34m(*args, **kwds)\u001b[0m\n\u001b[1;32m     76\u001b[0m \u001b[38;5;129m@wraps\u001b[39m(func)\n\u001b[1;32m     77\u001b[0m \u001b[38;5;28;01mdef\u001b[39;00m \u001b[38;5;21minner\u001b[39m(\u001b[38;5;241m*\u001b[39margs, \u001b[38;5;241m*\u001b[39m\u001b[38;5;241m*\u001b[39mkwds):\n\u001b[1;32m     78\u001b[0m     \u001b[38;5;28;01mwith\u001b[39;00m \u001b[38;5;28mself\u001b[39m\u001b[38;5;241m.\u001b[39m_recreate_cm():\n\u001b[0;32m---> 79\u001b[0m         \u001b[38;5;28;01mreturn\u001b[39;00m \u001b[43mfunc\u001b[49m\u001b[43m(\u001b[49m\u001b[38;5;241;43m*\u001b[39;49m\u001b[43margs\u001b[49m\u001b[43m,\u001b[49m\u001b[43m \u001b[49m\u001b[38;5;241;43m*\u001b[39;49m\u001b[38;5;241;43m*\u001b[39;49m\u001b[43mkwds\u001b[49m\u001b[43m)\u001b[49m\n",
      "File \u001b[0;32m/opt/conda/lib/python3.10/site-packages/tensorflow_datasets/core/logging/__init__.py:168\u001b[0m, in \u001b[0;36m_FunctionDecorator.__call__\u001b[0;34m(self, function, instance, args, kwargs)\u001b[0m\n\u001b[1;32m    166\u001b[0m metadata \u001b[38;5;241m=\u001b[39m \u001b[38;5;28mself\u001b[39m\u001b[38;5;241m.\u001b[39m_start_call()\n\u001b[1;32m    167\u001b[0m \u001b[38;5;28;01mtry\u001b[39;00m:\n\u001b[0;32m--> 168\u001b[0m   \u001b[38;5;28;01mreturn\u001b[39;00m \u001b[43mfunction\u001b[49m\u001b[43m(\u001b[49m\u001b[38;5;241;43m*\u001b[39;49m\u001b[43margs\u001b[49m\u001b[43m,\u001b[49m\u001b[43m \u001b[49m\u001b[38;5;241;43m*\u001b[39;49m\u001b[38;5;241;43m*\u001b[39;49m\u001b[43mkwargs\u001b[49m\u001b[43m)\u001b[49m\n\u001b[1;32m    169\u001b[0m \u001b[38;5;28;01mexcept\u001b[39;00m \u001b[38;5;167;01mException\u001b[39;00m:\n\u001b[1;32m    170\u001b[0m   metadata\u001b[38;5;241m.\u001b[39mmark_error()\n",
      "File \u001b[0;32m/opt/conda/lib/python3.10/site-packages/tensorflow_datasets/core/load.py:174\u001b[0m, in \u001b[0;36mbuilder\u001b[0;34m(name, try_gcs, **builder_kwargs)\u001b[0m\n\u001b[1;32m    140\u001b[0m \u001b[38;5;250m\u001b[39m\u001b[38;5;124;03m\"\"\"Fetches a `tfds.core.DatasetBuilder` by string name.\u001b[39;00m\n\u001b[1;32m    141\u001b[0m \n\u001b[1;32m    142\u001b[0m \u001b[38;5;124;03mArgs:\u001b[39;00m\n\u001b[0;32m   (...)\u001b[0m\n\u001b[1;32m    169\u001b[0m \u001b[38;5;124;03m  DatasetNotFoundError: if `name` is unrecognized.\u001b[39;00m\n\u001b[1;32m    170\u001b[0m \u001b[38;5;124;03m\"\"\"\u001b[39;00m\n\u001b[1;32m    171\u001b[0m \u001b[38;5;66;03m# 'kaggle:my_ds/config:1.0.0' -> (\u001b[39;00m\n\u001b[1;32m    172\u001b[0m \u001b[38;5;66;03m#     DatasetName('kaggle:my_ds'), {'version': '1.0.0', 'config': 'conf0'}\u001b[39;00m\n\u001b[1;32m    173\u001b[0m \u001b[38;5;66;03m# )\u001b[39;00m\n\u001b[0;32m--> 174\u001b[0m name, builder_kwargs \u001b[38;5;241m=\u001b[39m \u001b[43mnaming\u001b[49m\u001b[38;5;241;43m.\u001b[39;49m\u001b[43mparse_builder_name_kwargs\u001b[49m\u001b[43m(\u001b[49m\n\u001b[1;32m    175\u001b[0m \u001b[43m    \u001b[49m\u001b[43mname\u001b[49m\u001b[43m,\u001b[49m\u001b[43m \u001b[49m\u001b[38;5;241;43m*\u001b[39;49m\u001b[38;5;241;43m*\u001b[39;49m\u001b[43mbuilder_kwargs\u001b[49m\n\u001b[1;32m    176\u001b[0m \u001b[43m\u001b[49m\u001b[43m)\u001b[49m\n\u001b[1;32m    178\u001b[0m \u001b[38;5;28;01mdef\u001b[39;00m \u001b[38;5;21mget_dataset_repr\u001b[39m() \u001b[38;5;241m-\u001b[39m\u001b[38;5;241m>\u001b[39m \u001b[38;5;28mstr\u001b[39m:\n\u001b[1;32m    179\u001b[0m   \u001b[38;5;28;01mreturn\u001b[39;00m \u001b[38;5;124mf\u001b[39m\u001b[38;5;124m'\u001b[39m\u001b[38;5;124mdataset \u001b[39m\u001b[38;5;124m\"\u001b[39m\u001b[38;5;132;01m{\u001b[39;00mname\u001b[38;5;132;01m}\u001b[39;00m\u001b[38;5;124m\"\u001b[39m\u001b[38;5;124m, builder_kwargs \u001b[39m\u001b[38;5;124m\"\u001b[39m\u001b[38;5;132;01m{\u001b[39;00mbuilder_kwargs\u001b[38;5;132;01m}\u001b[39;00m\u001b[38;5;124m\"\u001b[39m\u001b[38;5;124m'\u001b[39m\n",
      "File \u001b[0;32m/opt/conda/lib/python3.10/site-packages/tensorflow_datasets/core/naming.py:141\u001b[0m, in \u001b[0;36mparse_builder_name_kwargs\u001b[0;34m(name, **builder_kwargs)\u001b[0m\n\u001b[1;32m    116\u001b[0m \u001b[38;5;28;01mdef\u001b[39;00m \u001b[38;5;21mparse_builder_name_kwargs\u001b[39m(\n\u001b[1;32m    117\u001b[0m     name: \u001b[38;5;28mstr\u001b[39m,\n\u001b[1;32m    118\u001b[0m     \u001b[38;5;241m*\u001b[39m\u001b[38;5;241m*\u001b[39mbuilder_kwargs: Any,\n\u001b[1;32m    119\u001b[0m ) \u001b[38;5;241m-\u001b[39m\u001b[38;5;241m>\u001b[39m Tuple[DatasetName, Dict[\u001b[38;5;28mstr\u001b[39m, Any]]:\n\u001b[1;32m    120\u001b[0m \u001b[38;5;250m  \u001b[39m\u001b[38;5;124;03m\"\"\"Normalize builder kwargs.\u001b[39;00m\n\u001b[1;32m    121\u001b[0m \n\u001b[1;32m    122\u001b[0m \u001b[38;5;124;03m  Example:\u001b[39;00m\n\u001b[0;32m   (...)\u001b[0m\n\u001b[1;32m    139\u001b[0m \u001b[38;5;124;03m    builder_kwargs: Builder kwargs (version, config, data_dir,...)\u001b[39;00m\n\u001b[1;32m    140\u001b[0m \u001b[38;5;124;03m  \"\"\"\u001b[39;00m\n\u001b[0;32m--> 141\u001b[0m   name, parsed_builder_kwargs \u001b[38;5;241m=\u001b[39m \u001b[43m_dataset_name_and_kwargs_from_name_str\u001b[49m\u001b[43m(\u001b[49m\u001b[43mname\u001b[49m\u001b[43m)\u001b[49m\n\u001b[1;32m    142\u001b[0m   builder_kwargs \u001b[38;5;241m=\u001b[39m \u001b[38;5;28mdict\u001b[39m(\u001b[38;5;241m*\u001b[39m\u001b[38;5;241m*\u001b[39mparsed_builder_kwargs, \u001b[38;5;241m*\u001b[39m\u001b[38;5;241m*\u001b[39mbuilder_kwargs)\n\u001b[1;32m    143\u001b[0m   \u001b[38;5;28;01mreturn\u001b[39;00m DatasetName(name), builder_kwargs\n",
      "File \u001b[0;32m/opt/conda/lib/python3.10/site-packages/tensorflow_datasets/core/naming.py:173\u001b[0m, in \u001b[0;36m_dataset_name_and_kwargs_from_name_str\u001b[0;34m(name_str)\u001b[0m\n\u001b[1;32m    171\u001b[0m res \u001b[38;5;241m=\u001b[39m _NAME_REG\u001b[38;5;241m.\u001b[39mmatch(name_str)\n\u001b[1;32m    172\u001b[0m \u001b[38;5;28;01mif\u001b[39;00m \u001b[38;5;129;01mnot\u001b[39;00m res:\n\u001b[0;32m--> 173\u001b[0m   \u001b[38;5;28;01mraise\u001b[39;00m \u001b[38;5;167;01mValueError\u001b[39;00m(err_msg)\n\u001b[1;32m    174\u001b[0m name \u001b[38;5;241m=\u001b[39m res\u001b[38;5;241m.\u001b[39mgroup(\u001b[38;5;124m'\u001b[39m\u001b[38;5;124mdataset_name\u001b[39m\u001b[38;5;124m'\u001b[39m)\n\u001b[1;32m    175\u001b[0m \u001b[38;5;66;03m# Normalize the name to accept CamelCase\u001b[39;00m\n",
      "\u001b[0;31mValueError\u001b[0m: Parsing builder name string tensorflow_datasets/oxford_flowers102/2.1.1 failed.\nThe builder name string must be of the following format:\n  dataset_name[/config_name][:version][/kwargs]\n\n  Where:\n\n    * dataset_name and config_name are string following python variable naming.\n    * version is of the form x.y.z where {x,y,z} can be any digit or *.\n    * kwargs is a comma list separated of arguments and values to pass to\n      builder.\n\n  Examples:\n    my_dataset\n    my_dataset:1.2.*\n    my_dataset/config1\n    my_dataset/config1:1.*.*\n    my_dataset/config1/arg1=val1,arg2=val2\n    my_dataset/config1:1.2.3/right=True,foo=bar,rate=1.2\n"
     ]
    }
   ],
   "source": [
    "dataset, dataset_info = tfds.load('tensorflow_datasets/oxford_flowers102/2.1.1', with_info=True, as_supervised=True)\n",
    "dataset_info\n",
    "\n",
    "test_set, training_set, validation_set = dataset['test'], dataset['train'], dataset['validation']\n",
    "\n",
    "num_training_examples = 0\n",
    "num_validation_examples = 0\n",
    "num_test_examples = 0\n",
    "\n",
    "for example in training_set:\n",
    "  num_training_examples += 1\n",
    "\n",
    "for example in validation_set:\n",
    "  num_validation_examples += 1\n",
    "\n",
    "for example in test_set:\n",
    "  num_test_examples += 1\n",
    "\n",
    "print('Total Number of Training Images: {}'.format(num_training_examples))\n",
    "print('Total Number of Validation Images: {}'.format(num_validation_examples))\n",
    "print('Total Number of Test Images: {} \\n'.format(num_test_examples))\n",
    "num_classes = dataset_info.features['label'].num_classes\n",
    "print('Total Number of Classes: {}'.format(num_classes))\n",
    "\n",
    "desired_training_size = 6552\n",
    "desired_validation_size = 819\n",
    "desired_test_size = 818\n",
    "\n",
    "test_set = test_set.shuffle(buffer_size=6149)\n",
    "remaining_test_instances = test_set.skip(5532).take(617)\n",
    "instances_for_training = test_set.take(5532)\n",
    "\n",
    "training_set = training_set.concatenate(instances_for_training)\n",
    "training_set = training_set.shuffle(buffer_size=desired_training_size)\n",
    "\n",
    "validation_set = validation_set.shuffle(buffer_size=1020)\n",
    "instances_for_test = validation_set.skip(819).take(201)\n",
    "\n",
    "validation_set = validation_set.take(819)\n",
    "\n",
    "test_set = remaining_test_instances.concatenate(instances_for_test)\n",
    "test_set = test_set.shuffle(818)\n",
    "\n",
    "IMAGE_RES = 224\n",
    "BATCH_SIZE = 32\n",
    "\n",
    "def format_image(image, label):\n",
    "  image = tf.image.resize(image, (IMAGE_RES, IMAGE_RES))/255.0\n",
    "  return image, label\n",
    "\n",
    "training_set = training_set.map(format_image).batch(BATCH_SIZE).prefetch(1)\n",
    "validation_set = validation_set.map(format_image).batch(BATCH_SIZE).prefetch(1)\n",
    "test_set = test_set.map(format_image).batch(BATCH_SIZE).prefetch(1)\n",
    "\n",
    "num_training_batches = tf.data.experimental.cardinality(training_set).numpy()\n",
    "num_validation_batches = tf.data.experimental.cardinality(validation_set).numpy()\n",
    "num_test_batches = tf.data.experimental.cardinality(test_set).numpy()\n",
    "\n",
    "print(\"Number of batches in the training set:\", num_training_batches)\n",
    "print(\"Number of batches in the validation set:\", num_validation_batches)\n",
    "print(\"Number of batches in the test set:\", num_test_batches)"
   ]
  },
  {
   "cell_type": "code",
   "execution_count": 11,
   "id": "6e8de3cc-4cc8-403b-ae00-a5b84db0eecf",
   "metadata": {
    "tags": []
   },
   "outputs": [
    {
     "name": "stdout",
     "output_type": "stream",
     "text": [
      "Total Number of Training Images: 1020\n",
      "Total Number of Validation Images: 1020\n",
      "Total Number of Test Images: 6149 \n",
      "\n",
      "Total Number of Classes: 102\n",
      "Number of batches in the training set: 205\n",
      "Number of batches in the validation set: 26\n",
      "Number of batches in the test set: 26\n",
      "Model: \"model_3\"\n",
      "_________________________________________________________________\n",
      " Layer (type)                Output Shape              Param #   \n",
      "=================================================================\n",
      " input_8 (InputLayer)        [(None, 224, 224, 3)]     0         \n",
      "                                                                 \n",
      " sequential_13 (Sequential)  (None, 224, 224, 3)       0         \n",
      "                                                                 \n",
      " mobilenetv2_1.00_224 (Funct  (None, 7, 7, 1280)       2257984   \n",
      " ional)                                                          \n",
      "                                                                 \n",
      " dense_14 (Dense)            (None, 7, 7, 150)         192150    \n",
      "                                                                 \n",
      " dropout_9 (Dropout)         (None, 7, 7, 150)         0         \n",
      "                                                                 \n",
      " dense_15 (Dense)            (None, 7, 7, 102)         15402     \n",
      "                                                                 \n",
      "=================================================================\n",
      "Total params: 2,465,536\n",
      "Trainable params: 207,552\n",
      "Non-trainable params: 2,257,984\n",
      "_________________________________________________________________\n"
     ]
    }
   ],
   "source": [
    "dataset, dataset_info = tfds.load('oxford_flowers102', with_info=True, as_supervised=True)\n",
    "dataset_info\n",
    "\n",
    "test_set, training_set, validation_set = dataset['test'], dataset['train'], dataset['validation']\n",
    "\n",
    "num_training_examples = 0\n",
    "num_validation_examples = 0\n",
    "num_test_examples = 0\n",
    "\n",
    "for example in training_set:\n",
    "  num_training_examples += 1\n",
    "\n",
    "for example in validation_set:\n",
    "  num_validation_examples += 1\n",
    "\n",
    "for example in test_set:\n",
    "  num_test_examples += 1\n",
    "\n",
    "print('Total Number of Training Images: {}'.format(num_training_examples))\n",
    "print('Total Number of Validation Images: {}'.format(num_validation_examples))\n",
    "print('Total Number of Test Images: {} \\n'.format(num_test_examples))\n",
    "num_classes = dataset_info.features['label'].num_classes\n",
    "print('Total Number of Classes: {}'.format(num_classes))\n",
    "\n",
    "\n",
    "desired_training_size = 6552\n",
    "desired_validation_size = 819\n",
    "desired_test_size = 818\n",
    "\n",
    "test_set = test_set.shuffle(buffer_size=6149)\n",
    "remaining_test_instances = test_set.skip(5532).take(617)\n",
    "instances_for_training = test_set.take(5532)\n",
    "\n",
    "training_set = training_set.concatenate(instances_for_training)\n",
    "training_set = training_set.shuffle(buffer_size=desired_training_size)\n",
    "\n",
    "validation_set = validation_set.shuffle(buffer_size=1020)\n",
    "instances_for_test = validation_set.skip(819).take(201)\n",
    "\n",
    "validation_set = validation_set.take(819)\n",
    "\n",
    "test_set = remaining_test_instances.concatenate(instances_for_test)\n",
    "test_set = test_set.shuffle(818)\n",
    "\n",
    "IMAGE_RES = 224\n",
    "BATCH_SIZE = 32\n",
    "\n",
    "def format_image(image, label):\n",
    "  image = tf.image.resize(image, (IMAGE_RES, IMAGE_RES))/255.0\n",
    "  return image, label\n",
    "\n",
    "training_set = training_set.map(format_image).batch(BATCH_SIZE).prefetch(1)\n",
    "validation_set = validation_set.map(format_image).batch(BATCH_SIZE).prefetch(1)\n",
    "test_set = test_set.map(format_image).batch(BATCH_SIZE).prefetch(1)\n",
    "\n",
    "num_training_batches = tf.data.experimental.cardinality(training_set).numpy()\n",
    "num_validation_batches = tf.data.experimental.cardinality(validation_set).numpy()\n",
    "num_test_batches = tf.data.experimental.cardinality(test_set).numpy()\n",
    "\n",
    "print(\"Number of batches in the training set:\", num_training_batches)\n",
    "print(\"Number of batches in the validation set:\", num_validation_batches)\n",
    "print(\"Number of batches in the test set:\", num_test_batches)\n",
    "\n",
    "data_augmentation = tf.keras.Sequential([\n",
    "    tf.keras.layers.RandomFlip('horizontal'),\n",
    "    tf.keras.layers.RandomRotation(0.2),\n",
    "])\n",
    "\n",
    "\n",
    "from tensorflow.keras import layers\n",
    "# URL = \"https://tfhub.dev/google/tf2-preview/mobilenet_v2/feature_vector/4\"\n",
    "# feature_extractor = hub.KerasLayer(URL,\n",
    "#                                    input_shape=(IMAGE_RES, IMAGE_RES, 3))\n",
    "\n",
    "base_model = tf.keras.applications.MobileNetV2(input_shape=(IMAGE_RES, IMAGE_RES, 3),\n",
    "                                               include_top=False,\n",
    "                                               weights='imagenet')\n",
    "\n",
    "\n",
    "for image_batch, label_batch in training_set.take(1):\n",
    "    pass\n",
    "image_batch.shape\n",
    "\n",
    "feature_batch = base_model(image_batch)\n",
    "print(feature_batch.shape)\n",
    "\n",
    "base_model.trainable = False\n",
    "\n",
    "global_average_layer = tf.keras.layers.GlobalAveragePooling2D()\n",
    "feature_batch_average = global_average_layer(feature_batch)\n",
    "print(feature_batch_average.shape)\n",
    "\n",
    "prediction_layer = tf.keras.layers.Dense(102, activation='softmax')\n",
    "prediction_batch = prediction_layer(feature_batch_average)\n",
    "print(prediction_batch.shape)\n",
    "\n",
    "dropout_rate = 0.2\n",
    "\n",
    "inputs = tf.keras.Input(shape=(224, 224, 3))\n",
    "x = data_augmentation(inputs)\n",
    "x = base_model(x, training=False)\n",
    "x = global_average_layer(x)\n",
    "x = layers.Dropout(dropout_rate)(x)\n",
    "outputs = prediction_layer(x)\n",
    "model = tf.keras.Model(inputs, outputs)\n",
    "\n",
    "# %%\n",
    "\n",
    "\n",
    "import pandas as pd\n",
    "\n",
    "model.compile(\n",
    "  optimizer='adam',\n",
    "  loss='sparse_categorical_crossentropy',\n",
    "  metrics=['accuracy'])\n",
    "\n",
    "model.summary()"
   ]
  },
  {
   "cell_type": "code",
   "execution_count": 13,
   "id": "61ac6ec1-5f7f-4091-9d53-9d103cb724ea",
   "metadata": {
    "tags": []
   },
   "outputs": [
    {
     "data": {
      "text/plain": [
       "TensorShape([32, 224, 224, 3])"
      ]
     },
     "execution_count": 13,
     "metadata": {},
     "output_type": "execute_result"
    }
   ],
   "source": [
    "for image_batch, label_batch in training_set.take(1):\n",
    "    pass\n",
    "image_batch.shape\n",
    "\n",
    "feature_batch = base_model(image_batch)\n",
    "print(feature_batch.shape)\n",
    "\n",
    "base_model.trainable = False\n",
    "\n",
    "global_average_layer = tf.keras.layers.GlobalAveragePooling2D()\n",
    "feature_batch_average = global_average_layer(feature_batch)\n",
    "print(feature_batch_average.shape)\n",
    "\n",
    "prediction_layer = tf.keras.layers.Dense(102, activation='softmax')\n",
    "prediction_batch = prediction_layer(feature_batch_average)\n",
    "print(prediction_batch.shape)"
   ]
  },
  {
   "cell_type": "code",
   "execution_count": 13,
   "id": "d1600fac-e7f9-457e-83ed-c850b601c281",
   "metadata": {
    "tags": []
   },
   "outputs": [],
   "source": [
    "saved_model.get_layer(name='mobilenetv2_1.00_160').trainable = True"
   ]
  },
  {
   "cell_type": "code",
   "execution_count": 7,
   "id": "46745659-138a-4835-98b0-96345deec3cd",
   "metadata": {
    "tags": []
   },
   "outputs": [
    {
     "ename": "AttributeError",
     "evalue": "'KerasLayer' object has no attribute 'layers'",
     "output_type": "error",
     "traceback": [
      "\u001b[0;31m---------------------------------------------------------------------------\u001b[0m",
      "\u001b[0;31mAttributeError\u001b[0m                            Traceback (most recent call last)",
      "Cell \u001b[0;32mIn[7], line 4\u001b[0m\n\u001b[1;32m      1\u001b[0m base_model \u001b[38;5;241m=\u001b[39m saved_model\u001b[38;5;241m.\u001b[39mget_layer(name\u001b[38;5;241m=\u001b[39m\u001b[38;5;124m'\u001b[39m\u001b[38;5;124mkeras_layer\u001b[39m\u001b[38;5;124m'\u001b[39m)\n\u001b[1;32m      3\u001b[0m \u001b[38;5;66;03m# Let's take a look to see how many layers are in the base model\u001b[39;00m\n\u001b[0;32m----> 4\u001b[0m \u001b[38;5;28mprint\u001b[39m(\u001b[38;5;124m\"\u001b[39m\u001b[38;5;124mNumber of layers in the base model: \u001b[39m\u001b[38;5;124m\"\u001b[39m, \u001b[38;5;28mlen\u001b[39m(\u001b[43mbase_model\u001b[49m\u001b[38;5;241;43m.\u001b[39;49m\u001b[43mlayers\u001b[49m))\n\u001b[1;32m      6\u001b[0m \u001b[38;5;66;03m# Fine-tune from this layer onwards\u001b[39;00m\n\u001b[1;32m      7\u001b[0m fine_tune_at \u001b[38;5;241m=\u001b[39m \u001b[38;5;241m130\u001b[39m\n",
      "\u001b[0;31mAttributeError\u001b[0m: 'KerasLayer' object has no attribute 'layers'"
     ]
    }
   ],
   "source": [
    "base_model = saved_model.get_layer(name='keras_layer')\n",
    "\n",
    "print(\"Number of layers in the base model: \", len(base_model.layers))\n",
    "\n",
    "fine_tune_at = 130\n",
    "\n",
    "for layer in base_model.layers[:fine_tune_at]:\n",
    "  layer.trainable = False"
   ]
  },
  {
   "cell_type": "code",
   "execution_count": 27,
   "id": "2709d675-bcfe-4a0a-a478-eaf765d7e783",
   "metadata": {
    "tags": []
   },
   "outputs": [],
   "source": [
    "if base_model.layers[100].trainable != True:\n",
    "     raise ValueError(\"Base model is not trainable\")"
   ]
  },
  {
   "cell_type": "code",
   "execution_count": 15,
   "id": "14956a38-de99-4c2b-8c30-196e4e52a9be",
   "metadata": {
    "tags": []
   },
   "outputs": [
    {
     "name": "stdout",
     "output_type": "stream",
     "text": [
      "Model: \"model\"\n",
      "____________________________________________________________________________\n",
      " Layer (type)                Output Shape              Param #   Trainable  \n",
      "============================================================================\n",
      " input_2 (InputLayer)        [(None, 160, 160, 3)]     0         Y          \n",
      "                                                                            \n",
      " tf.math.truediv (TFOpLambda  (None, 160, 160, 3)      0         Y          \n",
      " )                                                                          \n",
      "                                                                            \n",
      " tf.math.subtract (TFOpLambd  (None, 160, 160, 3)      0         Y          \n",
      " a)                                                                         \n",
      "                                                                            \n",
      " mobilenetv2_1.00_160 (Funct  (None, 5, 5, 1280)       2257984   Y          \n",
      " ional)                                                                     \n",
      "                                                                            \n",
      " global_average_pooling2d (G  (None, 1280)             0         Y          \n",
      " lobalAveragePooling2D)                                                     \n",
      "                                                                            \n",
      " dropout (Dropout)           (None, 1280)              0         Y          \n",
      "                                                                            \n",
      " dense (Dense)               (None, 4271)              5471151   Y          \n",
      "                                                                            \n",
      "============================================================================\n",
      "Total params: 7,729,135\n",
      "Trainable params: 7,695,023\n",
      "Non-trainable params: 34,112\n",
      "____________________________________________________________________________\n"
     ]
    }
   ],
   "source": [
    "saved_model.summary(show_trainable=True)"
   ]
  },
  {
   "cell_type": "code",
   "execution_count": 12,
   "id": "a4a4789f-5290-43d0-95ee-0bdbc53ea296",
   "metadata": {
    "tags": []
   },
   "outputs": [
    {
     "data": {
      "text/plain": [
       "False"
      ]
     },
     "execution_count": 12,
     "metadata": {},
     "output_type": "execute_result"
    }
   ],
   "source": [
    "flower_model.get_layer(name='dense').output_shape != (None, 4271)"
   ]
  },
  {
   "cell_type": "code",
   "execution_count": 1,
   "id": "bdbf81a9-d002-4d78-be07-7a07e116ccf3",
   "metadata": {
    "tags": []
   },
   "outputs": [],
   "source": [
    "import pandas as pd"
   ]
  },
  {
   "cell_type": "code",
   "execution_count": 2,
   "id": "c99a8a0c-7cb6-4452-ae79-1938fbe102fd",
   "metadata": {
    "tags": []
   },
   "outputs": [
    {
     "name": "stdout",
     "output_type": "stream",
     "text": [
      "Training Accuracy: 0     0.719209\n",
      "1     0.722566\n",
      "2     0.725563\n",
      "3     0.727783\n",
      "4     0.730405\n",
      "5     0.733880\n",
      "6     0.735069\n",
      "7     0.739504\n",
      "8     0.740159\n",
      "9     0.742711\n",
      "10    0.745507\n",
      "11    0.747801\n",
      "12    0.748406\n",
      "13    0.751548\n",
      "14    0.751702\n",
      "Name: accuracy, dtype: float64\n",
      "Validation Accuracy: 0     0.154891\n",
      "1     0.155535\n",
      "2     0.155242\n",
      "3     0.155418\n",
      "4     0.155125\n",
      "5     0.155271\n",
      "6     0.155535\n",
      "7     0.155945\n",
      "8     0.156266\n",
      "9     0.155213\n",
      "10    0.155301\n",
      "11    0.155154\n",
      "12    0.155066\n",
      "13    0.155388\n",
      "14    0.155798\n",
      "Name: val_accuracy, dtype: float64\n",
      "Training Loss: 0     1.191868\n",
      "1     1.162548\n",
      "2     1.137489\n",
      "3     1.123207\n",
      "4     1.110076\n",
      "5     1.087077\n",
      "6     1.081575\n",
      "7     1.055641\n",
      "8     1.046512\n",
      "9     1.031640\n",
      "10    1.016346\n",
      "11    1.004816\n",
      "12    0.995385\n",
      "13    0.982793\n",
      "14    0.973492\n",
      "Name: loss, dtype: float64\n",
      "Validation Loss: 0     10.654334\n",
      "1     10.644898\n",
      "2     10.642955\n",
      "3     10.637609\n",
      "4     10.627039\n",
      "5     10.622716\n",
      "6     10.626637\n",
      "7     10.627917\n",
      "8     10.634846\n",
      "9     10.643703\n",
      "10    10.635178\n",
      "11    10.626200\n",
      "12    10.630555\n",
      "13    10.637563\n",
      "14    10.636086\n",
      "Name: val_loss, dtype: float64\n"
     ]
    }
   ],
   "source": [
    "history = pd.read_csv('gs://plant-buddy-bucket/histories/history2.csv')\n",
    "\n",
    "training_accuracy = history['accuracy']\n",
    "validation_accuracy = history['val_accuracy']\n",
    "\n",
    "training_loss = history['loss']\n",
    "validation_loss = history['val_loss']\n",
    "\n",
    "print(\"Training Accuracy:\", training_accuracy)\n",
    "print(\"Validation Accuracy:\", validation_accuracy)\n",
    "print(\"Training Loss:\", training_loss)\n",
    "print(\"Validation Loss:\", validation_loss)"
   ]
  },
  {
   "cell_type": "code",
   "execution_count": 5,
   "id": "1c71b904-da89-4643-9944-ebf6087c4fc3",
   "metadata": {
    "tags": []
   },
   "outputs": [
    {
     "data": {
      "image/png": "[encoded data removed]",
      "text/plain": [
       "<Figure size 800x800 with 2 Axes>"
      ]
     },
     "metadata": {},
     "output_type": "display_data"
    }
   ],
   "source": [
    "acc = history['accuracy']\n",
    "val_acc = history['val_accuracy']\n",
    "\n",
    "loss = history['loss']\n",
    "val_loss = history['val_loss']\n",
    "\n",
    "plt.figure(figsize=(8, 8))\n",
    "plt.subplot(2, 1, 1)\n",
    "plt.plot(acc, label='Training Accuracy')\n",
    "plt.plot(val_acc, label='Validation Accuracy')\n",
    "plt.legend(loc='lower right')\n",
    "plt.ylabel('Accuracy')\n",
    "plt.ylim([min(plt.ylim()),1])\n",
    "plt.title('Training and Validation Accuracy')\n",
    "\n",
    "plt.subplot(2, 1, 2)\n",
    "plt.plot(loss, label='Training Loss')\n",
    "plt.plot(val_loss, label='Validation Loss')\n",
    "plt.legend(loc='upper right')\n",
    "plt.ylabel('Cross Entropy')\n",
    "plt.ylim([0,1.0])\n",
    "plt.title('Training and Validation Loss')\n",
    "plt.xlabel('epoch')\n",
    "plt.show()"
   ]
  },
  {
   "cell_type": "code",
   "execution_count": 4,
   "id": "4e3c141a-04ed-4aa8-a7bf-04b734f9bbef",
   "metadata": {
    "tags": []
   },
   "outputs": [],
   "source": [
    "import matplotlib.pyplot as plt"
   ]
  },
  {
   "cell_type": "code",
   "execution_count": 6,
   "id": "441f2f8e-527c-479d-a113-03ef9efb07c1",
   "metadata": {
    "tags": []
   },
   "outputs": [
    {
     "ename": "AttributeError",
     "evalue": "'DataFrame' object has no attribute 'epoch'",
     "output_type": "error",
     "traceback": [
      "\u001b[0;31m---------------------------------------------------------------------------\u001b[0m",
      "\u001b[0;31mAttributeError\u001b[0m                            Traceback (most recent call last)",
      "\u001b[0;32m/tmp/ipykernel_1/2068246101.py\u001b[0m in \u001b[0;36m?\u001b[0;34m()\u001b[0m\n\u001b[0;32m----> 1\u001b[0;31m \u001b[0mhistory\u001b[0m\u001b[0;34m.\u001b[0m\u001b[0mepoch\u001b[0m\u001b[0;34m\u001b[0m\u001b[0;34m\u001b[0m\u001b[0m\n\u001b[0m",
      "\u001b[0;32m/opt/conda/lib/python3.10/site-packages/pandas/core/generic.py\u001b[0m in \u001b[0;36m?\u001b[0;34m(self, name)\u001b[0m\n\u001b[1;32m   6289\u001b[0m             \u001b[0;32mand\u001b[0m \u001b[0mname\u001b[0m \u001b[0;32mnot\u001b[0m \u001b[0;32min\u001b[0m \u001b[0mself\u001b[0m\u001b[0;34m.\u001b[0m\u001b[0m_accessors\u001b[0m\u001b[0;34m\u001b[0m\u001b[0;34m\u001b[0m\u001b[0m\n\u001b[1;32m   6290\u001b[0m             \u001b[0;32mand\u001b[0m \u001b[0mself\u001b[0m\u001b[0;34m.\u001b[0m\u001b[0m_info_axis\u001b[0m\u001b[0;34m.\u001b[0m\u001b[0m_can_hold_identifiers_and_holds_name\u001b[0m\u001b[0;34m(\u001b[0m\u001b[0mname\u001b[0m\u001b[0;34m)\u001b[0m\u001b[0;34m\u001b[0m\u001b[0;34m\u001b[0m\u001b[0m\n\u001b[1;32m   6291\u001b[0m         ):\n\u001b[1;32m   6292\u001b[0m             \u001b[0;32mreturn\u001b[0m \u001b[0mself\u001b[0m\u001b[0;34m[\u001b[0m\u001b[0mname\u001b[0m\u001b[0;34m]\u001b[0m\u001b[0;34m\u001b[0m\u001b[0;34m\u001b[0m\u001b[0m\n\u001b[0;32m-> 6293\u001b[0;31m         \u001b[0;32mreturn\u001b[0m \u001b[0mobject\u001b[0m\u001b[0;34m.\u001b[0m\u001b[0m__getattribute__\u001b[0m\u001b[0;34m(\u001b[0m\u001b[0mself\u001b[0m\u001b[0;34m,\u001b[0m \u001b[0mname\u001b[0m\u001b[0;34m)\u001b[0m\u001b[0;34m\u001b[0m\u001b[0;34m\u001b[0m\u001b[0m\n\u001b[0m",
      "\u001b[0;31mAttributeError\u001b[0m: 'DataFrame' object has no attribute 'epoch'"
     ]
    }
   ],
   "source": [
    "history.epoch"
   ]
  },
  {
   "cell_type": "code",
   "execution_count": 7,
   "id": "befeab94-9367-4735-9d38-eaafbea72616",
   "metadata": {
    "tags": []
   },
   "outputs": [
    {
     "ename": "KeyError",
     "evalue": "'epoch'",
     "output_type": "error",
     "traceback": [
      "\u001b[0;31m---------------------------------------------------------------------------\u001b[0m",
      "\u001b[0;31mKeyError\u001b[0m                                  Traceback (most recent call last)",
      "File \u001b[0;32m/opt/conda/lib/python3.10/site-packages/pandas/core/indexes/base.py:3802\u001b[0m, in \u001b[0;36mIndex.get_loc\u001b[0;34m(self, key)\u001b[0m\n\u001b[1;32m   3801\u001b[0m \u001b[38;5;28;01mtry\u001b[39;00m:\n\u001b[0;32m-> 3802\u001b[0m     \u001b[38;5;28;01mreturn\u001b[39;00m \u001b[38;5;28;43mself\u001b[39;49m\u001b[38;5;241;43m.\u001b[39;49m\u001b[43m_engine\u001b[49m\u001b[38;5;241;43m.\u001b[39;49m\u001b[43mget_loc\u001b[49m\u001b[43m(\u001b[49m\u001b[43mcasted_key\u001b[49m\u001b[43m)\u001b[49m\n\u001b[1;32m   3803\u001b[0m \u001b[38;5;28;01mexcept\u001b[39;00m \u001b[38;5;167;01mKeyError\u001b[39;00m \u001b[38;5;28;01mas\u001b[39;00m err:\n",
      "File \u001b[0;32mindex.pyx:153\u001b[0m, in \u001b[0;36mpandas._libs.index.IndexEngine.get_loc\u001b[0;34m()\u001b[0m\n",
      "File \u001b[0;32mindex.pyx:182\u001b[0m, in \u001b[0;36mpandas._libs.index.IndexEngine.get_loc\u001b[0;34m()\u001b[0m\n",
      "File \u001b[0;32mpandas/_libs/hashtable_class_helper.pxi:7081\u001b[0m, in \u001b[0;36mpandas._libs.hashtable.PyObjectHashTable.get_item\u001b[0;34m()\u001b[0m\n",
      "File \u001b[0;32mpandas/_libs/hashtable_class_helper.pxi:7089\u001b[0m, in \u001b[0;36mpandas._libs.hashtable.PyObjectHashTable.get_item\u001b[0;34m()\u001b[0m\n",
      "\u001b[0;31mKeyError\u001b[0m: 'epoch'",
      "\nThe above exception was the direct cause of the following exception:\n",
      "\u001b[0;31mKeyError\u001b[0m                                  Traceback (most recent call last)",
      "Cell \u001b[0;32mIn[7], line 1\u001b[0m\n\u001b[0;32m----> 1\u001b[0m \u001b[43mhistory\u001b[49m\u001b[43m[\u001b[49m\u001b[38;5;124;43m'\u001b[39;49m\u001b[38;5;124;43mepoch\u001b[39;49m\u001b[38;5;124;43m'\u001b[39;49m\u001b[43m]\u001b[49m\n",
      "File \u001b[0;32m/opt/conda/lib/python3.10/site-packages/pandas/core/frame.py:4090\u001b[0m, in \u001b[0;36mDataFrame.__getitem__\u001b[0;34m(self, key)\u001b[0m\n\u001b[1;32m   4088\u001b[0m \u001b[38;5;28;01mif\u001b[39;00m \u001b[38;5;28mself\u001b[39m\u001b[38;5;241m.\u001b[39mcolumns\u001b[38;5;241m.\u001b[39mnlevels \u001b[38;5;241m>\u001b[39m \u001b[38;5;241m1\u001b[39m:\n\u001b[1;32m   4089\u001b[0m     \u001b[38;5;28;01mreturn\u001b[39;00m \u001b[38;5;28mself\u001b[39m\u001b[38;5;241m.\u001b[39m_getitem_multilevel(key)\n\u001b[0;32m-> 4090\u001b[0m indexer \u001b[38;5;241m=\u001b[39m \u001b[38;5;28;43mself\u001b[39;49m\u001b[38;5;241;43m.\u001b[39;49m\u001b[43mcolumns\u001b[49m\u001b[38;5;241;43m.\u001b[39;49m\u001b[43mget_loc\u001b[49m\u001b[43m(\u001b[49m\u001b[43mkey\u001b[49m\u001b[43m)\u001b[49m\n\u001b[1;32m   4091\u001b[0m \u001b[38;5;28;01mif\u001b[39;00m is_integer(indexer):\n\u001b[1;32m   4092\u001b[0m     indexer \u001b[38;5;241m=\u001b[39m [indexer]\n",
      "File \u001b[0;32m/opt/conda/lib/python3.10/site-packages/pandas/core/indexes/base.py:3809\u001b[0m, in \u001b[0;36mIndex.get_loc\u001b[0;34m(self, key)\u001b[0m\n\u001b[1;32m   3804\u001b[0m     \u001b[38;5;28;01mif\u001b[39;00m \u001b[38;5;28misinstance\u001b[39m(casted_key, \u001b[38;5;28mslice\u001b[39m) \u001b[38;5;129;01mor\u001b[39;00m (\n\u001b[1;32m   3805\u001b[0m         \u001b[38;5;28misinstance\u001b[39m(casted_key, abc\u001b[38;5;241m.\u001b[39mIterable)\n\u001b[1;32m   3806\u001b[0m         \u001b[38;5;129;01mand\u001b[39;00m \u001b[38;5;28many\u001b[39m(\u001b[38;5;28misinstance\u001b[39m(x, \u001b[38;5;28mslice\u001b[39m) \u001b[38;5;28;01mfor\u001b[39;00m x \u001b[38;5;129;01min\u001b[39;00m casted_key)\n\u001b[1;32m   3807\u001b[0m     ):\n\u001b[1;32m   3808\u001b[0m         \u001b[38;5;28;01mraise\u001b[39;00m InvalidIndexError(key)\n\u001b[0;32m-> 3809\u001b[0m     \u001b[38;5;28;01mraise\u001b[39;00m \u001b[38;5;167;01mKeyError\u001b[39;00m(key) \u001b[38;5;28;01mfrom\u001b[39;00m \u001b[38;5;21;01merr\u001b[39;00m\n\u001b[1;32m   3810\u001b[0m \u001b[38;5;28;01mexcept\u001b[39;00m \u001b[38;5;167;01mTypeError\u001b[39;00m:\n\u001b[1;32m   3811\u001b[0m     \u001b[38;5;66;03m# If we have a listlike key, _check_indexing_error will raise\u001b[39;00m\n\u001b[1;32m   3812\u001b[0m     \u001b[38;5;66;03m#  InvalidIndexError. Otherwise we fall through and re-raise\u001b[39;00m\n\u001b[1;32m   3813\u001b[0m     \u001b[38;5;66;03m#  the TypeError.\u001b[39;00m\n\u001b[1;32m   3814\u001b[0m     \u001b[38;5;28mself\u001b[39m\u001b[38;5;241m.\u001b[39m_check_indexing_error(key)\n",
      "\u001b[0;31mKeyError\u001b[0m: 'epoch'"
     ]
    }
   ],
   "source": [
    "history['epoch']"
   ]
  }
 ],
 "metadata": {
  "kernelspec": {
   "display_name": "TensorFlow 2.12 (Local)",
   "language": "python",
   "name": "tf2-2-12"
  },
  "language_info": {
   "codemirror_mode": {
    "name": "ipython",
    "version": 3
   },
   "file_extension": ".py",
   "mimetype": "text/x-python",
   "name": "python",
   "nbconvert_exporter": "python",
   "pygments_lexer": "ipython3",
   "version": "3.10.13"
  }
 },
 "nbformat": 4,
 "nbformat_minor": 5
}
