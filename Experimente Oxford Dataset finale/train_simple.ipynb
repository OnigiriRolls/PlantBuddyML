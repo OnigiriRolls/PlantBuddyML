{
 "cells": [
  {
   "cell_type": "code",
   "execution_count": 1,
   "id": "73044c07-3f56-4662-9042-8f876a05c6af",
   "metadata": {
    "tags": []
   },
   "outputs": [
    {
     "name": "stdout",
     "output_type": "stream",
     "text": [
      "Collecting codecarbon\n",
      "  Using cached codecarbon-2.3.5-py3-none-any.whl.metadata (6.6 kB)\n",
      "Requirement already satisfied: arrow in /opt/conda/lib/python3.10/site-packages (from codecarbon) (1.3.0)\n",
      "Requirement already satisfied: pandas in /opt/conda/lib/python3.10/site-packages (from codecarbon) (2.0.3)\n",
      "Collecting pynvml (from codecarbon)\n",
      "  Using cached pynvml-11.5.0-py3-none-any.whl.metadata (7.8 kB)\n",
      "Requirement already satisfied: requests in /opt/conda/lib/python3.10/site-packages (from codecarbon) (2.31.0)\n",
      "Requirement already satisfied: psutil in /opt/conda/lib/python3.10/site-packages (from codecarbon) (5.9.3)\n",
      "Collecting py-cpuinfo (from codecarbon)\n",
      "  Using cached py_cpuinfo-9.0.0-py3-none-any.whl.metadata (794 bytes)\n",
      "Collecting rapidfuzz (from codecarbon)\n",
      "  Using cached rapidfuzz-3.8.1-cp310-cp310-manylinux_2_17_x86_64.manylinux2014_x86_64.whl.metadata (11 kB)\n",
      "Requirement already satisfied: click in /opt/conda/lib/python3.10/site-packages (from codecarbon) (8.1.7)\n",
      "Requirement already satisfied: prometheus-client in /opt/conda/lib/python3.10/site-packages (from codecarbon) (0.20.0)\n",
      "Requirement already satisfied: python-dateutil>=2.7.0 in /opt/conda/lib/python3.10/site-packages (from arrow->codecarbon) (2.9.0)\n",
      "Requirement already satisfied: types-python-dateutil>=2.8.10 in /opt/conda/lib/python3.10/site-packages (from arrow->codecarbon) (2.8.19.20240311)\n",
      "Requirement already satisfied: pytz>=2020.1 in /opt/conda/lib/python3.10/site-packages (from pandas->codecarbon) (2024.1)\n",
      "Requirement already satisfied: tzdata>=2022.1 in /opt/conda/lib/python3.10/site-packages (from pandas->codecarbon) (2024.1)\n",
      "Requirement already satisfied: numpy>=1.21.0 in /opt/conda/lib/python3.10/site-packages (from pandas->codecarbon) (1.23.5)\n",
      "Requirement already satisfied: charset-normalizer<4,>=2 in /opt/conda/lib/python3.10/site-packages (from requests->codecarbon) (3.3.2)\n",
      "Requirement already satisfied: idna<4,>=2.5 in /opt/conda/lib/python3.10/site-packages (from requests->codecarbon) (3.6)\n",
      "Requirement already satisfied: urllib3<3,>=1.21.1 in /opt/conda/lib/python3.10/site-packages (from requests->codecarbon) (1.26.18)\n",
      "Requirement already satisfied: certifi>=2017.4.17 in /opt/conda/lib/python3.10/site-packages (from requests->codecarbon) (2024.2.2)\n",
      "Requirement already satisfied: six>=1.5 in /opt/conda/lib/python3.10/site-packages (from python-dateutil>=2.7.0->arrow->codecarbon) (1.16.0)\n",
      "Using cached codecarbon-2.3.5-py3-none-any.whl (174 kB)\n",
      "Using cached py_cpuinfo-9.0.0-py3-none-any.whl (22 kB)\n",
      "Using cached pynvml-11.5.0-py3-none-any.whl (53 kB)\n",
      "Using cached rapidfuzz-3.8.1-cp310-cp310-manylinux_2_17_x86_64.manylinux2014_x86_64.whl (3.4 MB)\n",
      "Installing collected packages: py-cpuinfo, rapidfuzz, pynvml, codecarbon\n",
      "Successfully installed codecarbon-2.3.5 py-cpuinfo-9.0.0 pynvml-11.5.0 rapidfuzz-3.8.1\n",
      "Note: you may need to restart the kernel to use updated packages.\n"
     ]
    }
   ],
   "source": [
    "pip install codecarbon"
   ]
  },
  {
   "cell_type": "code",
   "execution_count": 2,
   "id": "2fa330bb-f0aa-416b-b082-1603a844ebf2",
   "metadata": {
    "tags": []
   },
   "outputs": [
    {
     "name": "stderr",
     "output_type": "stream",
     "text": [
      "2024-04-24 12:14:41.750165: I tensorflow/core/platform/cpu_feature_guard.cc:182] This TensorFlow binary is optimized to use available CPU instructions in performance-critical operations.\n",
      "To enable the following instructions: AVX2 FMA, in other operations, rebuild TensorFlow with the appropriate compiler flags.\n",
      "2024-04-24 12:14:58.386300: W tensorflow/compiler/tf2tensorrt/utils/py_utils.cc:38] TF-TRT Warning: Could not find TensorRT\n",
      "/opt/conda/lib/python3.10/site-packages/tensorflow_io/python/ops/__init__.py:98: UserWarning: unable to load libtensorflow_io_plugins.so: unable to open file: libtensorflow_io_plugins.so, from paths: ['/opt/conda/lib/python3.10/site-packages/tensorflow_io/python/ops/libtensorflow_io_plugins.so']\n",
      "caused by: ['/opt/conda/lib/python3.10/site-packages/tensorflow_io/python/ops/libtensorflow_io_plugins.so: undefined symbol: _ZN3tsl6StatusC1EN10tensorflow5error4CodeESt17basic_string_viewIcSt11char_traitsIcEENS_14SourceLocationE']\n",
      "  warnings.warn(f\"unable to load libtensorflow_io_plugins.so: {e}\")\n",
      "/opt/conda/lib/python3.10/site-packages/tensorflow_io/python/ops/__init__.py:104: UserWarning: file system plugins are not loaded: unable to open file: libtensorflow_io.so, from paths: ['/opt/conda/lib/python3.10/site-packages/tensorflow_io/python/ops/libtensorflow_io.so']\n",
      "caused by: ['/opt/conda/lib/python3.10/site-packages/tensorflow_io/python/ops/libtensorflow_io.so: undefined symbol: _ZTVN10tensorflow13GcsFileSystemE']\n",
      "  warnings.warn(f\"file system plugins are not loaded: {e}\")\n"
     ]
    }
   ],
   "source": [
    "import time\n",
    "import numpy as np\n",
    "import matplotlib.pyplot as plt\n",
    "\n",
    "import tensorflow as tf\n",
    "import tensorflow_hub as hub\n",
    "import tensorflow_datasets as tfds\n",
    "import pandas as pd\n",
    "from codecarbon import OfflineEmissionsTracker"
   ]
  },
  {
   "cell_type": "code",
   "execution_count": 3,
   "id": "ab49af2e-c676-4c93-8c38-9cf48ceed5c5",
   "metadata": {
    "tags": []
   },
   "outputs": [],
   "source": [
    "training_set=tf.data.Dataset.load('tensorflow_datasets/training_set')\n",
    "validation_set=tf.data.Dataset.load('tensorflow_datasets/validation_set')\n",
    "test_set=tf.data.Dataset.load('tensorflow_datasets/test_set')\n",
    "\n",
    "training_class_counts = {}\n",
    "validation_class_counts = {}\n",
    "test_class_counts = {}\n",
    "\n",
    "for images, labels in training_set:\n",
    "    for label in labels.numpy():\n",
    "        label = label.item() \n",
    "        if label in training_class_counts:\n",
    "            training_class_counts[label] += 1\n",
    "        else:\n",
    "            training_class_counts[label] = 1\n",
    "\n",
    "for images, labels in validation_set:\n",
    "    for label in labels.numpy():\n",
    "        label = label.item()  \n",
    "        if label in validation_class_counts:\n",
    "            validation_class_counts[label] += 1\n",
    "        else:\n",
    "            validation_class_counts[label] = 1\n",
    "\n",
    "for images, labels in test_set:\n",
    "    for label in labels.numpy():\n",
    "        label = label.item() \n",
    "        if label in test_class_counts:\n",
    "            test_class_counts[label] += 1\n",
    "        else:\n",
    "            test_class_counts[label] = 1\n"
   ]
  },
  {
   "cell_type": "code",
   "execution_count": 4,
   "id": "44f468d4-b162-4d46-be52-1e0d4252685f",
   "metadata": {
    "tags": []
   },
   "outputs": [
    {
     "name": "stdout",
     "output_type": "stream",
     "text": [
      "Training set labels:\n",
      "25\n",
      "100\n",
      "66\n",
      "17\n",
      "72\n",
      "95\n",
      "43\n",
      "26\n",
      "93\n",
      "88\n",
      "23\n",
      "11\n",
      "90\n",
      "28\n",
      "59\n",
      "64\n",
      "68\n",
      "55\n",
      "69\n",
      "81\n",
      "78\n",
      "70\n",
      "6\n",
      "14\n",
      "12\n",
      "19\n",
      "27\n",
      "3\n",
      "76\n",
      "22\n",
      "56\n",
      "75\n",
      "42\n",
      "74\n",
      "5\n",
      "94\n",
      "7\n",
      "33\n",
      "38\n",
      "73\n",
      "34\n",
      "35\n",
      "18\n",
      "80\n",
      "29\n",
      "97\n",
      "84\n",
      "60\n",
      "82\n",
      "63\n",
      "2\n",
      "86\n",
      "65\n",
      "15\n",
      "87\n",
      "20\n",
      "47\n",
      "50\n",
      "4\n",
      "46\n",
      "45\n",
      "89\n",
      "21\n",
      "0\n",
      "36\n",
      "52\n",
      "49\n",
      "61\n",
      "57\n",
      "24\n",
      "16\n",
      "99\n",
      "85\n",
      "54\n",
      "48\n",
      "71\n",
      "40\n",
      "79\n",
      "83\n",
      "1\n",
      "96\n",
      "92\n",
      "101\n",
      "10\n",
      "77\n",
      "91\n",
      "32\n",
      "41\n",
      "98\n",
      "8\n",
      "62\n",
      "51\n",
      "53\n",
      "67\n",
      "31\n",
      "58\n",
      "39\n",
      "30\n",
      "13\n",
      "37\n",
      "44\n",
      "9\n",
      "Training set:\n",
      "27\n",
      "46\n",
      "30\n",
      "62\n",
      "166\n",
      "70\n",
      "77\n",
      "26\n",
      "143\n",
      "158\n",
      "31\n",
      "73\n",
      "60\n",
      "61\n",
      "90\n",
      "86\n",
      "41\n",
      "86\n",
      "46\n",
      "94\n",
      "27\n",
      "64\n",
      "27\n",
      "36\n",
      "35\n",
      "43\n",
      "49\n",
      "44\n",
      "217\n",
      "74\n",
      "53\n",
      "89\n",
      "116\n",
      "101\n",
      "30\n",
      "107\n",
      "69\n",
      "29\n",
      "29\n",
      "151\n",
      "33\n",
      "57\n",
      "34\n",
      "137\n",
      "67\n",
      "68\n",
      "46\n",
      "32\n",
      "106\n",
      "38\n",
      "29\n",
      "50\n",
      "49\n",
      "31\n",
      "131\n",
      "28\n",
      "57\n",
      "228\n",
      "53\n",
      "54\n",
      "167\n",
      "64\n",
      "46\n",
      "28\n",
      "89\n",
      "73\n",
      "76\n",
      "45\n",
      "97\n",
      "29\n",
      "66\n",
      "33\n",
      "46\n",
      "54\n",
      "37\n",
      "76\n",
      "106\n",
      "88\n",
      "70\n",
      "47\n",
      "49\n",
      "32\n",
      "38\n",
      "70\n",
      "118\n",
      "50\n",
      "33\n",
      "44\n",
      "51\n",
      "33\n",
      "41\n",
      "68\n",
      "48\n",
      "41\n",
      "35\n",
      "52\n",
      "51\n",
      "36\n",
      "32\n",
      "42\n",
      "28\n",
      "32\n",
      "\n",
      "Validation set labels:\n",
      "44\n",
      "8\n",
      "65\n",
      "93\n",
      "92\n",
      "5\n",
      "40\n",
      "85\n",
      "63\n",
      "51\n",
      "46\n",
      "39\n",
      "38\n",
      "21\n",
      "27\n",
      "47\n",
      "99\n",
      "75\n",
      "101\n",
      "37\n",
      "96\n",
      "69\n",
      "11\n",
      "72\n",
      "48\n",
      "74\n",
      "14\n",
      "55\n",
      "57\n",
      "79\n",
      "42\n",
      "76\n",
      "41\n",
      "36\n",
      "54\n",
      "32\n",
      "71\n",
      "94\n",
      "1\n",
      "91\n",
      "53\n",
      "80\n",
      "70\n",
      "50\n",
      "56\n",
      "43\n",
      "34\n",
      "26\n",
      "31\n",
      "3\n",
      "2\n",
      "60\n",
      "81\n",
      "16\n",
      "12\n",
      "78\n",
      "13\n",
      "23\n",
      "62\n",
      "82\n",
      "18\n",
      "68\n",
      "17\n",
      "29\n",
      "49\n",
      "4\n",
      "24\n",
      "59\n",
      "77\n",
      "90\n",
      "100\n",
      "15\n",
      "19\n",
      "6\n",
      "45\n",
      "33\n",
      "35\n",
      "95\n",
      "30\n",
      "84\n",
      "67\n",
      "83\n",
      "97\n",
      "87\n",
      "58\n",
      "52\n",
      "20\n",
      "9\n",
      "28\n",
      "98\n",
      "0\n",
      "22\n",
      "61\n",
      "86\n",
      "88\n",
      "10\n",
      "89\n",
      "64\n",
      "7\n",
      "73\n",
      "66\n",
      "25\n",
      "\n",
      "Validation set:\n",
      "9\n",
      "9\n",
      "6\n",
      "8\n",
      "9\n",
      "10\n",
      "10\n",
      "6\n",
      "7\n",
      "8\n",
      "10\n",
      "8\n",
      "5\n",
      "9\n",
      "8\n",
      "9\n",
      "8\n",
      "5\n",
      "8\n",
      "7\n",
      "8\n",
      "9\n",
      "9\n",
      "9\n",
      "9\n",
      "9\n",
      "9\n",
      "6\n",
      "8\n",
      "10\n",
      "9\n",
      "10\n",
      "8\n",
      "8\n",
      "8\n",
      "9\n",
      "10\n",
      "7\n",
      "8\n",
      "8\n",
      "6\n",
      "10\n",
      "8\n",
      "8\n",
      "7\n",
      "7\n",
      "7\n",
      "8\n",
      "8\n",
      "7\n",
      "9\n",
      "7\n",
      "5\n",
      "9\n",
      "9\n",
      "6\n",
      "8\n",
      "8\n",
      "7\n",
      "7\n",
      "9\n",
      "8\n",
      "8\n",
      "9\n",
      "9\n",
      "7\n",
      "8\n",
      "8\n",
      "8\n",
      "10\n",
      "10\n",
      "8\n",
      "8\n",
      "9\n",
      "8\n",
      "6\n",
      "9\n",
      "10\n",
      "8\n",
      "7\n",
      "9\n",
      "6\n",
      "6\n",
      "10\n",
      "9\n",
      "8\n",
      "5\n",
      "7\n",
      "7\n",
      "8\n",
      "8\n",
      "8\n",
      "8\n",
      "8\n",
      "7\n",
      "9\n",
      "9\n",
      "5\n",
      "8\n",
      "9\n",
      "9\n",
      "8\n",
      "\n",
      "Test set labels:\n",
      "29\n",
      "50\n",
      "94\n",
      "51\n",
      "19\n",
      "27\n",
      "46\n",
      "53\n",
      "59\n",
      "64\n",
      "85\n",
      "63\n",
      "72\n",
      "80\n",
      "84\n",
      "76\n",
      "13\n",
      "92\n",
      "9\n",
      "88\n",
      "87\n",
      "86\n",
      "52\n",
      "3\n",
      "56\n",
      "93\n",
      "45\n",
      "7\n",
      "91\n",
      "74\n",
      "96\n",
      "23\n",
      "38\n",
      "11\n",
      "71\n",
      "83\n",
      "61\n",
      "42\n",
      "22\n",
      "57\n",
      "79\n",
      "41\n",
      "48\n",
      "16\n",
      "32\n",
      "73\n",
      "77\n",
      "95\n",
      "89\n",
      "69\n",
      "66\n",
      "47\n",
      "58\n",
      "54\n",
      "14\n",
      "65\n",
      "4\n",
      "55\n",
      "78\n",
      "70\n",
      "24\n",
      "67\n",
      "101\n",
      "15\n",
      "10\n",
      "97\n",
      "60\n",
      "98\n",
      "81\n",
      "36\n",
      "82\n",
      "20\n",
      "37\n",
      "18\n",
      "21\n",
      "90\n",
      "62\n",
      "31\n",
      "8\n",
      "1\n",
      "12\n",
      "40\n",
      "6\n",
      "99\n",
      "2\n",
      "17\n",
      "34\n",
      "49\n",
      "43\n",
      "35\n",
      "33\n",
      "28\n",
      "75\n",
      "25\n",
      "68\n",
      "0\n",
      "26\n",
      "39\n",
      "5\n",
      "44\n",
      "100\n",
      "30\n",
      "\n",
      "Test set:\n",
      "11\n",
      "22\n",
      "8\n",
      "9\n",
      "12\n",
      "6\n",
      "8\n",
      "7\n",
      "7\n",
      "13\n",
      "6\n",
      "3\n",
      "19\n",
      "10\n",
      "10\n",
      "29\n",
      "8\n",
      "5\n",
      "3\n",
      "17\n",
      "14\n",
      "6\n",
      "7\n",
      "5\n",
      "7\n",
      "15\n",
      "19\n",
      "12\n",
      "5\n",
      "12\n",
      "9\n",
      "3\n",
      "3\n",
      "10\n",
      "14\n",
      "8\n",
      "9\n",
      "10\n",
      "11\n",
      "11\n",
      "11\n",
      "9\n",
      "9\n",
      "8\n",
      "4\n",
      "11\n",
      "15\n",
      "11\n",
      "9\n",
      "5\n",
      "5\n",
      "11\n",
      "7\n",
      "4\n",
      "4\n",
      "8\n",
      "7\n",
      "11\n",
      "2\n",
      "12\n",
      "5\n",
      "8\n",
      "8\n",
      "5\n",
      "13\n",
      "4\n",
      "6\n",
      "8\n",
      "8\n",
      "20\n",
      "10\n",
      "4\n",
      "2\n",
      "7\n",
      "7\n",
      "12\n",
      "8\n",
      "2\n",
      "2\n",
      "8\n",
      "2\n",
      "11\n",
      "1\n",
      "3\n",
      "5\n",
      "8\n",
      "4\n",
      "7\n",
      "6\n",
      "5\n",
      "3\n",
      "11\n",
      "7\n",
      "2\n",
      "5\n",
      "5\n",
      "3\n",
      "6\n",
      "4\n",
      "1\n",
      "5\n",
      "1\n"
     ]
    }
   ],
   "source": [
    "\n",
    "print(\"Training set labels:\")\n",
    "for label, count in training_class_counts.items():\n",
    "    print(\"{}\".format(label))\n",
    "\n",
    "print(\"Training set:\")\n",
    "for label, count in training_class_counts.items():\n",
    "    print(\"{}\".format(count))\n",
    "\n",
    "print(\"\\nValidation set labels:\")\n",
    "for label, count in validation_class_counts.items():\n",
    "    print(\"{}\".format(label))\n",
    "\n",
    "print(\"\\nValidation set:\")\n",
    "for label, count in validation_class_counts.items():\n",
    "    print(\"{}\".format(count))\n",
    "\n",
    "print(\"\\nTest set labels:\")\n",
    "for label, count in test_class_counts.items():\n",
    "    print(\"{}\".format(label))\n",
    "\n",
    "print(\"\\nTest set:\")\n",
    "for label, count in test_class_counts.items():\n",
    "    print(\"{}\".format(count))"
   ]
  },
  {
   "cell_type": "code",
   "execution_count": 5,
   "id": "35207ba6-a052-4bda-ab3a-c928acdef023",
   "metadata": {
    "tags": []
   },
   "outputs": [
    {
     "name": "stdout",
     "output_type": "stream",
     "text": [
      "Total Number of Training Images: 205\n",
      "Total Number of Validation Images: 26\n",
      "Total Number of Test Images: 26 \n",
      "\n"
     ]
    },
    {
     "ename": "NameError",
     "evalue": "name 'dataset_info' is not defined",
     "output_type": "error",
     "traceback": [
      "\u001b[0;31m---------------------------------------------------------------------------\u001b[0m",
      "\u001b[0;31mNameError\u001b[0m                                 Traceback (most recent call last)",
      "Cell \u001b[0;32mIn[5], line 19\u001b[0m\n\u001b[1;32m     17\u001b[0m \u001b[38;5;28mprint\u001b[39m(\u001b[38;5;124m'\u001b[39m\u001b[38;5;124mTotal Number of Test Images: \u001b[39m\u001b[38;5;132;01m{}\u001b[39;00m\u001b[38;5;124m \u001b[39m\u001b[38;5;130;01m\\n\u001b[39;00m\u001b[38;5;124m'\u001b[39m\u001b[38;5;241m.\u001b[39mformat(num_test_examples))\n\u001b[1;32m     18\u001b[0m \u001b[38;5;66;03m# TODO: Get the number of classes in the dataset from the dataset info.\u001b[39;00m\n\u001b[0;32m---> 19\u001b[0m num_classes \u001b[38;5;241m=\u001b[39m \u001b[43mdataset_info\u001b[49m\u001b[38;5;241m.\u001b[39mfeatures[\u001b[38;5;124m'\u001b[39m\u001b[38;5;124mlabel\u001b[39m\u001b[38;5;124m'\u001b[39m]\u001b[38;5;241m.\u001b[39mnum_classes\n\u001b[1;32m     20\u001b[0m \u001b[38;5;28mprint\u001b[39m(\u001b[38;5;124m'\u001b[39m\u001b[38;5;124mTotal Number of Classes: \u001b[39m\u001b[38;5;132;01m{}\u001b[39;00m\u001b[38;5;124m'\u001b[39m\u001b[38;5;241m.\u001b[39mformat(num_classes))\n\u001b[1;32m     23\u001b[0m \u001b[38;5;66;03m# In[4]:\u001b[39;00m\n\u001b[1;32m     24\u001b[0m \n\u001b[1;32m     25\u001b[0m \u001b[38;5;66;03m# Inspect the sizes of the sets\u001b[39;00m\n",
      "\u001b[0;31mNameError\u001b[0m: name 'dataset_info' is not defined"
     ]
    }
   ],
   "source": [
    "\n",
    "\n",
    "num_training_examples = 0\n",
    "num_validation_examples = 0\n",
    "num_test_examples = 0\n",
    "\n",
    "for example in training_set:\n",
    "  num_training_examples += 1\n",
    "\n",
    "for example in validation_set:\n",
    "  num_validation_examples += 1\n",
    "\n",
    "for example in test_set:\n",
    "  num_test_examples += 1\n",
    "\n",
    "print('Total Number of Training Images: {}'.format(num_training_examples))\n",
    "print('Total Number of Validation Images: {}'.format(num_validation_examples))\n",
    "print('Total Number of Test Images: {} \\n'.format(num_test_examples))\n",
    "\n",
    "num_classes = 102\n",
    "print('Total Number of Classes: {}'.format(num_classes))\n",
    "\n",
    "\n",
    "# In[4]:\n",
    "\n",
    "\n",
    "num_training_batches = tf.data.experimental.cardinality(training_set).numpy()\n",
    "num_validation_batches = tf.data.experimental.cardinality(validation_set).numpy()\n",
    "num_test_batches = tf.data.experimental.cardinality(test_set).numpy()\n",
    "\n",
    "print(\"Number of batches in the training set:\", num_training_batches)\n",
    "print(\"Number of batches in the validation set:\", num_validation_batches)\n",
    "print(\"Number of batches in the test set:\", num_test_batches)"
   ]
  },
  {
   "cell_type": "code",
   "execution_count": 6,
   "id": "36254e72-2c57-4450-af0e-2f129e08298a",
   "metadata": {
    "tags": []
   },
   "outputs": [
    {
     "name": "stdout",
     "output_type": "stream",
     "text": [
      "Model: \"sequential_1\"\n",
      "_________________________________________________________________\n",
      " Layer (type)                Output Shape              Param #   \n",
      "=================================================================\n",
      " sequential (Sequential)     (None, 224, 224, 3)       0         \n",
      "                                                                 \n",
      " conv2d (Conv2D)             (None, 224, 224, 64)      832       \n",
      "                                                                 \n",
      " activation (Activation)     (None, 224, 224, 64)      0         \n",
      "                                                                 \n",
      " max_pooling2d (MaxPooling2D  (None, 112, 112, 64)     0         \n",
      " )                                                               \n",
      "                                                                 \n",
      " conv2d_1 (Conv2D)           (None, 112, 112, 128)     32896     \n",
      "                                                                 \n",
      " max_pooling2d_1 (MaxPooling  (None, 56, 56, 128)      0         \n",
      " 2D)                                                             \n",
      "                                                                 \n",
      " conv2d_2 (Conv2D)           (None, 56, 56, 128)       65664     \n",
      "                                                                 \n",
      " max_pooling2d_2 (MaxPooling  (None, 28, 28, 128)      0         \n",
      " 2D)                                                             \n",
      "                                                                 \n",
      " conv2d_3 (Conv2D)           (None, 28, 28, 256)       131328    \n",
      "                                                                 \n",
      " max_pooling2d_3 (MaxPooling  (None, 14, 14, 256)      0         \n",
      " 2D)                                                             \n",
      "                                                                 \n",
      " conv2d_4 (Conv2D)           (None, 14, 14, 256)       262400    \n",
      "                                                                 \n",
      " max_pooling2d_4 (MaxPooling  (None, 7, 7, 256)        0         \n",
      " 2D)                                                             \n",
      "                                                                 \n",
      " conv2d_5 (Conv2D)           (None, 7, 7, 512)         524800    \n",
      "                                                                 \n",
      " max_pooling2d_5 (MaxPooling  (None, 3, 3, 512)        0         \n",
      " 2D)                                                             \n",
      "                                                                 \n",
      " conv2d_6 (Conv2D)           (None, 3, 3, 512)         1049088   \n",
      "                                                                 \n",
      " max_pooling2d_6 (MaxPooling  (None, 1, 1, 512)        0         \n",
      " 2D)                                                             \n",
      "                                                                 \n",
      " dropout (Dropout)           (None, 1, 1, 512)         0         \n",
      "                                                                 \n",
      " flatten (Flatten)           (None, 512)               0         \n",
      "                                                                 \n",
      " dense (Dense)               (None, 150)               76950     \n",
      "                                                                 \n",
      " activation_1 (Activation)   (None, 150)               0         \n",
      "                                                                 \n",
      " dropout_1 (Dropout)         (None, 150)               0         \n",
      "                                                                 \n",
      " dense_1 (Dense)             (None, 102)               15402     \n",
      "                                                                 \n",
      "=================================================================\n",
      "Total params: 2,159,360\n",
      "Trainable params: 2,159,360\n",
      "Non-trainable params: 0\n",
      "_________________________________________________________________\n"
     ]
    }
   ],
   "source": [
    "input_shape = (224, 224, 3)\n",
    "model = tf.keras.models.load_model('gs://plant_buddy/models/models/model12_8conv_17', compile=False)\n",
    "\n",
    "# model.compile(loss='sparse_categorical_crossentropy', optimizer='Adam', metrics=['accuracy']) \n",
    "base_learning_rate = 0.001\n",
    "model.compile(loss='sparse_categorical_crossentropy', optimizer=tf.keras.optimizers.Adam(learning_rate=base_learning_rate), metrics=['accuracy']) \n",
    "\n",
    "model.summary()"
   ]
  },
  {
   "cell_type": "code",
   "execution_count": 5,
   "id": "eecec95a-376e-48ed-95e3-a5828b8d902a",
   "metadata": {
    "tags": []
   },
   "outputs": [],
   "source": [
    "from tensorflow.keras.layers import Conv2D,MaxPooling2D\n",
    "from tensorflow.keras.layers import Activation, Dense, Flatten, Dropout, Reshape\n",
    "from tensorflow.keras import layers, Sequential\n",
    "\n",
    "input_shape = (224, 224, 3)\n",
    "\n",
    "data_augmentation = tf.keras.Sequential([\n",
    "    tf.keras.layers.RandomFlip('horizontal'),\n",
    "    tf.keras.layers.RandomRotation(0.4),\n",
    "])\n",
    "\n",
    "\n",
    "def tensorflow_based_model():\n",
    "    model = Sequential() \n",
    "    \n",
    "    model.add(data_augmentation) \n",
    "    \n",
    "    model.add(Conv2D(filters=64, kernel_size=2, input_shape=(224,224,3), padding='same')) \n",
    "    model.add(Activation('relu')) \n",
    "    model.add(MaxPooling2D(pool_size=2)) \n",
    "\n",
    "#     model.add(Conv2D(filters=32, kernel_size=2, activation='relu', padding='same')) \n",
    "#     model.add(MaxPooling2D(pool_size=2))  \n",
    "    \n",
    "#     model.add(Conv2D(filters=64, kernel_size=2, activation='relu', padding='same')) \n",
    "#     model.add(MaxPooling2D(pool_size=2))  \n",
    "    \n",
    "    model.add(Conv2D(filters=128, kernel_size=2, activation='relu', padding='same')) \n",
    "    model.add(MaxPooling2D(pool_size=2))  \n",
    "    \n",
    "    model.add(Conv2D(filters=128, kernel_size=2, activation='relu', padding='same')) \n",
    "    model.add(MaxPooling2D(pool_size=2))  \n",
    "    \n",
    "    model.add(Conv2D(filters=256, kernel_size=2, activation='relu', padding='same'))  \n",
    "    model.add(MaxPooling2D(pool_size=2))  \n",
    "    \n",
    "    model.add(Conv2D(filters=256, kernel_size=2, activation='relu', padding='same')) \n",
    "    model.add(MaxPooling2D(pool_size=2)) \n",
    "    \n",
    "    model.add(Conv2D(filters=512, kernel_size=2, activation='relu', padding='same')) \n",
    "    model.add(MaxPooling2D(pool_size=2)) \n",
    "        \n",
    "    model.add(Conv2D(filters=512, kernel_size=2, activation='relu', padding='same'))  \n",
    "    model.add(MaxPooling2D(pool_size=2)) \n",
    "\n",
    "    model.add(Dropout(0.2))  \n",
    "    model.add(Flatten())  \n",
    "    model.add(Dense(150))  \n",
    "    model.add(Activation('relu'))  \n",
    "    model.add(Dropout(0.2))  \n",
    "    model.add(Dense(102, activation='softmax'))  \n",
    "\n",
    "    return model"
   ]
  },
  {
   "cell_type": "code",
   "execution_count": 6,
   "id": "e31e10ac-1d3b-49a9-ab21-30459c5a7be6",
   "metadata": {
    "tags": []
   },
   "outputs": [],
   "source": [
    "model = tensorflow_based_model()\n",
    "model.compile(loss='sparse_categorical_crossentropy', optimizer='Adam', metrics=['accuracy']) "
   ]
  },
  {
   "cell_type": "code",
   "execution_count": null,
   "id": "847be603-0001-41eb-ab2e-296e4b726840",
   "metadata": {
    "tags": []
   },
   "outputs": [
    {
     "name": "stderr",
     "output_type": "stream",
     "text": [
      "[codecarbon INFO @ 12:22:58] offline tracker init\n",
      "[codecarbon INFO @ 12:22:58] [setup] RAM Tracking...\n",
      "[codecarbon INFO @ 12:22:58] [setup] GPU Tracking...\n",
      "[codecarbon INFO @ 12:22:58] No GPU found.\n",
      "[codecarbon INFO @ 12:22:58] [setup] CPU Tracking...\n",
      "[codecarbon WARNING @ 12:22:58] No CPU tracking mode found. Falling back on CPU constant mode.\n",
      "[codecarbon WARNING @ 12:23:00] We saw that you have a Intel(R) Xeon(R) CPU @ 2.30GHz but we don't know it. Please contact us.\n",
      "[codecarbon INFO @ 12:23:00] CPU Model on constant consumption mode: Intel(R) Xeon(R) CPU @ 2.30GHz\n",
      "[codecarbon INFO @ 12:23:00] >>> Tracker's metadata:\n",
      "[codecarbon INFO @ 12:23:00]   Platform system: Linux-5.10.0-28-cloud-amd64-x86_64-with-glibc2.35\n",
      "[codecarbon INFO @ 12:23:00]   Python version: 3.10.13\n",
      "[codecarbon INFO @ 12:23:00]   CodeCarbon version: 2.3.5\n",
      "[codecarbon INFO @ 12:23:00]   Available RAM : 29.390 GB\n",
      "[codecarbon INFO @ 12:23:00]   CPU count: 8\n",
      "[codecarbon INFO @ 12:23:00]   CPU model: Intel(R) Xeon(R) CPU @ 2.30GHz\n",
      "[codecarbon INFO @ 12:23:00]   GPU count: None\n",
      "[codecarbon INFO @ 12:23:00]   GPU model: None\n"
     ]
    },
    {
     "name": "stdout",
     "output_type": "stream",
     "text": [
      "Epoch 1/70\n",
      " 78/205 [==========>...................] - ETA: 3:03 - loss: 4.5565 - accuracy: 0.0317"
     ]
    },
    {
     "name": "stderr",
     "output_type": "stream",
     "text": [
      "[codecarbon INFO @ 12:25:00] Energy consumed for RAM : 0.000367 kWh. RAM Power : 11.0212082862854 W\n",
      "[codecarbon INFO @ 12:25:00] Energy consumed for all CPUs : 0.001417 kWh. Total CPU Power : 42.5 W\n",
      "[codecarbon INFO @ 12:25:00] 0.001784 kWh of electricity used since the beginning.\n"
     ]
    },
    {
     "name": "stdout",
     "output_type": "stream",
     "text": [
      "163/205 [======================>.......] - ETA: 59s - loss: 4.5197 - accuracy: 0.0301 "
     ]
    },
    {
     "name": "stderr",
     "output_type": "stream",
     "text": [
      "[codecarbon INFO @ 12:27:00] Energy consumed for RAM : 0.000735 kWh. RAM Power : 11.0212082862854 W\n",
      "[codecarbon INFO @ 12:27:00] Energy consumed for all CPUs : 0.002834 kWh. Total CPU Power : 42.5 W\n",
      "[codecarbon INFO @ 12:27:00] 0.003568 kWh of electricity used since the beginning.\n"
     ]
    },
    {
     "name": "stdout",
     "output_type": "stream",
     "text": [
      "205/205 [==============================] - 306s 1s/step - loss: 4.5025 - accuracy: 0.0322 - val_loss: 4.6364 - val_accuracy: 0.0195\n",
      "Epoch 2/70\n",
      " 38/205 [====>.........................] - ETA: 3:52 - loss: 4.3868 - accuracy: 0.0469"
     ]
    },
    {
     "name": "stderr",
     "output_type": "stream",
     "text": [
      "[codecarbon INFO @ 12:29:00] Energy consumed for RAM : 0.001102 kWh. RAM Power : 11.0212082862854 W\n",
      "[codecarbon INFO @ 12:29:00] Energy consumed for all CPUs : 0.004250 kWh. Total CPU Power : 42.5 W\n",
      "[codecarbon INFO @ 12:29:00] 0.005352 kWh of electricity used since the beginning.\n"
     ]
    },
    {
     "name": "stdout",
     "output_type": "stream",
     "text": [
      "123/205 [=================>............] - ETA: 1:54 - loss: 4.3114 - accuracy: 0.0457"
     ]
    },
    {
     "name": "stderr",
     "output_type": "stream",
     "text": [
      "[codecarbon INFO @ 12:31:00] Energy consumed for RAM : 0.001470 kWh. RAM Power : 11.0212082862854 W\n",
      "[codecarbon INFO @ 12:31:00] Energy consumed for all CPUs : 0.005667 kWh. Total CPU Power : 42.5 W\n",
      "[codecarbon INFO @ 12:31:00] 0.007136 kWh of electricity used since the beginning.\n"
     ]
    },
    {
     "name": "stdout",
     "output_type": "stream",
     "text": [
      "205/205 [==============================] - ETA: 0s - loss: 4.2476 - accuracy: 0.0511"
     ]
    },
    {
     "name": "stderr",
     "output_type": "stream",
     "text": [
      "[codecarbon INFO @ 12:33:00] Energy consumed for RAM : 0.001837 kWh. RAM Power : 11.0212082862854 W\n",
      "[codecarbon INFO @ 12:33:00] Energy consumed for all CPUs : 0.007084 kWh. Total CPU Power : 42.5 W\n",
      "[codecarbon INFO @ 12:33:00] 0.008920 kWh of electricity used since the beginning.\n"
     ]
    },
    {
     "name": "stdout",
     "output_type": "stream",
     "text": [
      "205/205 [==============================] - 295s 1s/step - loss: 4.2476 - accuracy: 0.0511 - val_loss: 4.3044 - val_accuracy: 0.0244\n",
      "Epoch 3/70\n",
      " 85/205 [===========>..................] - ETA: 2:45 - loss: 4.0633 - accuracy: 0.0632"
     ]
    },
    {
     "name": "stderr",
     "output_type": "stream",
     "text": [
      "[codecarbon INFO @ 12:35:00] Energy consumed for RAM : 0.002204 kWh. RAM Power : 11.0212082862854 W\n",
      "[codecarbon INFO @ 12:35:00] Energy consumed for all CPUs : 0.008500 kWh. Total CPU Power : 42.5 W\n",
      "[codecarbon INFO @ 12:35:00] 0.010705 kWh of electricity used since the beginning.\n"
     ]
    },
    {
     "name": "stdout",
     "output_type": "stream",
     "text": [
      "172/205 [========================>.....] - ETA: 45s - loss: 4.0103 - accuracy: 0.0669"
     ]
    },
    {
     "name": "stderr",
     "output_type": "stream",
     "text": [
      "[codecarbon INFO @ 12:37:00] Energy consumed for RAM : 0.002572 kWh. RAM Power : 11.0212082862854 W\n",
      "[codecarbon INFO @ 12:37:00] Energy consumed for all CPUs : 0.009917 kWh. Total CPU Power : 42.5 W\n",
      "[codecarbon INFO @ 12:37:00] 0.012489 kWh of electricity used since the beginning.\n"
     ]
    },
    {
     "name": "stdout",
     "output_type": "stream",
     "text": [
      "205/205 [==============================] - 291s 1s/step - loss: 3.9968 - accuracy: 0.0675 - val_loss: 4.1023 - val_accuracy: 0.0317\n",
      "Epoch 4/70\n",
      " 49/205 [======>.......................] - ETA: 3:35 - loss: 3.8806 - accuracy: 0.0791"
     ]
    },
    {
     "name": "stderr",
     "output_type": "stream",
     "text": [
      "[codecarbon INFO @ 12:39:00] Energy consumed for RAM : 0.002939 kWh. RAM Power : 11.0212082862854 W\n",
      "[codecarbon INFO @ 12:39:00] Energy consumed for all CPUs : 0.011334 kWh. Total CPU Power : 42.5 W\n",
      "[codecarbon INFO @ 12:39:00] 0.014273 kWh of electricity used since the beginning.\n"
     ]
    },
    {
     "name": "stdout",
     "output_type": "stream",
     "text": [
      "136/205 [==================>...........] - ETA: 1:35 - loss: 3.8837 - accuracy: 0.0758"
     ]
    },
    {
     "name": "stderr",
     "output_type": "stream",
     "text": [
      "[codecarbon INFO @ 12:41:00] Energy consumed for RAM : 0.003306 kWh. RAM Power : 11.0212082862854 W\n",
      "[codecarbon INFO @ 12:41:00] Energy consumed for all CPUs : 0.012750 kWh. Total CPU Power : 42.5 W\n",
      "[codecarbon INFO @ 12:41:00] 0.016057 kWh of electricity used since the beginning.\n"
     ]
    },
    {
     "name": "stdout",
     "output_type": "stream",
     "text": [
      "205/205 [==============================] - 292s 1s/step - loss: 3.8409 - accuracy: 0.0794 - val_loss: 3.9202 - val_accuracy: 0.0659\n",
      "Epoch 5/70\n",
      " 11/205 [>.............................] - ETA: 4:26 - loss: 3.7549 - accuracy: 0.0824"
     ]
    },
    {
     "name": "stderr",
     "output_type": "stream",
     "text": [
      "[codecarbon INFO @ 12:43:00] Energy consumed for RAM : 0.003674 kWh. RAM Power : 11.0212082862854 W\n",
      "[codecarbon INFO @ 12:43:00] Energy consumed for all CPUs : 0.014167 kWh. Total CPU Power : 42.5 W\n",
      "[codecarbon INFO @ 12:43:00] 0.017841 kWh of electricity used since the beginning.\n"
     ]
    },
    {
     "name": "stdout",
     "output_type": "stream",
     "text": [
      "145/205 [====================>.........] - ETA: 1:23 - loss: 3.4199 - accuracy: 0.1399"
     ]
    },
    {
     "name": "stderr",
     "output_type": "stream",
     "text": [
      "[codecarbon INFO @ 12:51:00] Energy consumed for RAM : 0.005143 kWh. RAM Power : 11.0212082862854 W\n",
      "[codecarbon INFO @ 12:51:00] Energy consumed for all CPUs : 0.019834 kWh. Total CPU Power : 42.5 W\n",
      "[codecarbon INFO @ 12:51:00] 0.024977 kWh of electricity used since the beginning.\n"
     ]
    },
    {
     "name": "stdout",
     "output_type": "stream",
     "text": [
      "205/205 [==============================] - 293s 1s/step - loss: 3.3695 - accuracy: 0.1445 - val_loss: 3.4090 - val_accuracy: 0.1392\n",
      "Epoch 7/70\n",
      " 21/205 [==>...........................] - ETA: 4:15 - loss: 3.1662 - accuracy: 0.1830"
     ]
    },
    {
     "name": "stderr",
     "output_type": "stream",
     "text": [
      "[codecarbon INFO @ 12:53:00] Energy consumed for RAM : 0.005511 kWh. RAM Power : 11.0212082862854 W\n",
      "[codecarbon INFO @ 12:53:00] Energy consumed for all CPUs : 0.021251 kWh. Total CPU Power : 42.5 W\n",
      "[codecarbon INFO @ 12:53:00] 0.026761 kWh of electricity used since the beginning.\n"
     ]
    },
    {
     "name": "stdout",
     "output_type": "stream",
     "text": [
      "107/205 [==============>...............] - ETA: 2:16 - loss: 3.1689 - accuracy: 0.1898"
     ]
    },
    {
     "name": "stderr",
     "output_type": "stream",
     "text": [
      "[codecarbon INFO @ 12:55:00] Energy consumed for RAM : 0.005878 kWh. RAM Power : 11.0212082862854 W\n",
      "[codecarbon INFO @ 12:55:00] Energy consumed for all CPUs : 0.022667 kWh. Total CPU Power : 42.5 W\n",
      "[codecarbon INFO @ 12:55:00] 0.028545 kWh of electricity used since the beginning.\n"
     ]
    },
    {
     "name": "stdout",
     "output_type": "stream",
     "text": [
      "192/205 [===========================>..] - ETA: 18s - loss: 3.1189 - accuracy: 0.1938"
     ]
    },
    {
     "name": "stderr",
     "output_type": "stream",
     "text": [
      "[codecarbon INFO @ 12:57:00] Energy consumed for RAM : 0.006245 kWh. RAM Power : 11.0212082862854 W\n",
      "[codecarbon INFO @ 12:57:00] Energy consumed for all CPUs : 0.024084 kWh. Total CPU Power : 42.5 W\n",
      "[codecarbon INFO @ 12:57:00] 0.030330 kWh of electricity used since the beginning.\n"
     ]
    },
    {
     "name": "stdout",
     "output_type": "stream",
     "text": [
      "205/205 [==============================] - 295s 1s/step - loss: 3.1212 - accuracy: 0.1914 - val_loss: 3.1745 - val_accuracy: 0.1648\n",
      "Epoch 8/70\n",
      " 67/205 [========>.....................] - ETA: 3:12 - loss: 2.9758 - accuracy: 0.2201"
     ]
    },
    {
     "name": "stderr",
     "output_type": "stream",
     "text": [
      "[codecarbon INFO @ 12:59:00] Energy consumed for RAM : 0.006613 kWh. RAM Power : 11.0212082862854 W\n",
      "[codecarbon INFO @ 12:59:00] Energy consumed for all CPUs : 0.025501 kWh. Total CPU Power : 42.5 W\n",
      "[codecarbon INFO @ 12:59:00] 0.032114 kWh of electricity used since the beginning.\n"
     ]
    },
    {
     "name": "stdout",
     "output_type": "stream",
     "text": [
      "205/205 [==============================] - 294s 1s/step - loss: 1.1323 - accuracy: 0.6601 - val_loss: 1.6232 - val_accuracy: 0.5653\n",
      "Epoch 40/70\n",
      " 17/205 [=>............................] - ETA: 4:17 - loss: 1.1193 - accuracy: 0.6581"
     ]
    },
    {
     "name": "stderr",
     "output_type": "stream",
     "text": [
      "[codecarbon INFO @ 15:35:01] Energy consumed for RAM : 0.035268 kWh. RAM Power : 11.0212082862854 W\n",
      "[codecarbon INFO @ 15:35:01] Energy consumed for all CPUs : 0.136003 kWh. Total CPU Power : 42.5 W\n",
      "[codecarbon INFO @ 15:35:01] 0.171270 kWh of electricity used since the beginning.\n"
     ]
    },
    {
     "name": "stdout",
     "output_type": "stream",
     "text": [
      " 99/205 [=============>................] - ETA: 2:33 - loss: 1.1153 - accuracy: 0.6651"
     ]
    },
    {
     "name": "stderr",
     "output_type": "stream",
     "text": [
      "[codecarbon INFO @ 15:37:01] Energy consumed for RAM : 0.035635 kWh. RAM Power : 11.0212082862854 W\n",
      "[codecarbon INFO @ 15:37:01] Energy consumed for all CPUs : 0.137420 kWh. Total CPU Power : 42.5 W\n",
      "[codecarbon INFO @ 15:37:01] 0.173055 kWh of electricity used since the beginning.\n"
     ]
    },
    {
     "name": "stdout",
     "output_type": "stream",
     "text": [
      "185/205 [==========================>...] - ETA: 28s - loss: 1.1148 - accuracy: 0.6689"
     ]
    },
    {
     "name": "stderr",
     "output_type": "stream",
     "text": [
      "[codecarbon INFO @ 15:39:01] Energy consumed for RAM : 0.036002 kWh. RAM Power : 11.0212082862854 W\n",
      "[codecarbon INFO @ 15:39:01] Energy consumed for all CPUs : 0.138836 kWh. Total CPU Power : 42.5 W\n",
      "[codecarbon INFO @ 15:39:01] 0.174839 kWh of electricity used since the beginning.\n"
     ]
    },
    {
     "name": "stdout",
     "output_type": "stream",
     "text": [
      "205/205 [==============================] - 299s 1s/step - loss: 1.1226 - accuracy: 0.6668 - val_loss: 1.8223 - val_accuracy: 0.5287\n",
      "Epoch 41/70\n",
      " 60/205 [=======>......................] - ETA: 3:22 - loss: 1.0774 - accuracy: 0.6729"
     ]
    },
    {
     "name": "stderr",
     "output_type": "stream",
     "text": [
      "[codecarbon INFO @ 15:41:01] Energy consumed for RAM : 0.036370 kWh. RAM Power : 11.0212082862854 W\n",
      "[codecarbon INFO @ 15:41:01] Energy consumed for all CPUs : 0.140253 kWh. Total CPU Power : 42.5 W\n",
      "[codecarbon INFO @ 15:41:01] 0.176623 kWh of electricity used since the beginning.\n"
     ]
    },
    {
     "name": "stdout",
     "output_type": "stream",
     "text": [
      "146/205 [====================>.........] - ETA: 1:22 - loss: 1.0852 - accuracy: 0.6734"
     ]
    },
    {
     "name": "stderr",
     "output_type": "stream",
     "text": [
      "[codecarbon INFO @ 15:43:01] Energy consumed for RAM : 0.036737 kWh. RAM Power : 11.0212082862854 W\n",
      "[codecarbon INFO @ 15:43:01] Energy consumed for all CPUs : 0.141670 kWh. Total CPU Power : 42.5 W\n",
      "[codecarbon INFO @ 15:43:01] 0.178407 kWh of electricity used since the beginning.\n"
     ]
    },
    {
     "name": "stdout",
     "output_type": "stream",
     "text": [
      "205/205 [==============================] - 294s 1s/step - loss: 1.1002 - accuracy: 0.6694 - val_loss: 1.7883 - val_accuracy: 0.5372\n",
      "Epoch 42/70\n",
      " 22/205 [==>...........................] - ETA: 4:14 - loss: 1.0945 - accuracy: 0.6790"
     ]
    },
    {
     "name": "stderr",
     "output_type": "stream",
     "text": [
      "[codecarbon INFO @ 15:45:01] Energy consumed for RAM : 0.037104 kWh. RAM Power : 11.0212082862854 W\n",
      "[codecarbon INFO @ 15:45:01] Energy consumed for all CPUs : 0.143086 kWh. Total CPU Power : 42.5 W\n",
      "[codecarbon INFO @ 15:45:01] 0.180191 kWh of electricity used since the beginning.\n"
     ]
    },
    {
     "name": "stdout",
     "output_type": "stream",
     "text": [
      "108/205 [==============>...............] - ETA: 2:14 - loss: 1.1182 - accuracy: 0.6612"
     ]
    },
    {
     "name": "stderr",
     "output_type": "stream",
     "text": [
      "[codecarbon INFO @ 15:47:01] Energy consumed for RAM : 0.037472 kWh. RAM Power : 11.0212082862854 W\n",
      "[codecarbon INFO @ 15:47:01] Energy consumed for all CPUs : 0.144503 kWh. Total CPU Power : 42.5 W\n",
      "[codecarbon INFO @ 15:47:01] 0.181975 kWh of electricity used since the beginning.\n"
     ]
    },
    {
     "name": "stdout",
     "output_type": "stream",
     "text": [
      "194/205 [===========================>..] - ETA: 15s - loss: 1.1011 - accuracy: 0.6654"
     ]
    },
    {
     "name": "stderr",
     "output_type": "stream",
     "text": [
      "[codecarbon INFO @ 15:49:01] Energy consumed for RAM : 0.037839 kWh. RAM Power : 11.0212082862854 W\n",
      "[codecarbon INFO @ 15:49:01] Energy consumed for all CPUs : 0.145920 kWh. Total CPU Power : 42.5 W\n",
      "[codecarbon INFO @ 15:49:01] 0.183759 kWh of electricity used since the beginning.\n"
     ]
    },
    {
     "name": "stdout",
     "output_type": "stream",
     "text": [
      "205/205 [==============================] - 294s 1s/step - loss: 1.1027 - accuracy: 0.6662 - val_loss: 1.6409 - val_accuracy: 0.5775\n",
      "Epoch 43/70\n",
      " 69/205 [=========>....................] - ETA: 3:09 - loss: 1.0821 - accuracy: 0.6825"
     ]
    },
    {
     "name": "stderr",
     "output_type": "stream",
     "text": [
      "[codecarbon INFO @ 15:51:01] Energy consumed for RAM : 0.038207 kWh. RAM Power : 11.0212082862854 W\n",
      "[codecarbon INFO @ 15:51:01] Energy consumed for all CPUs : 0.147336 kWh. Total CPU Power : 42.5 W\n",
      "[codecarbon INFO @ 15:51:01] 0.185543 kWh of electricity used since the beginning.\n"
     ]
    },
    {
     "name": "stdout",
     "output_type": "stream",
     "text": [
      "156/205 [=====================>........] - ETA: 1:08 - loss: 1.1064 - accuracy: 0.6733"
     ]
    },
    {
     "name": "stderr",
     "output_type": "stream",
     "text": [
      "[codecarbon INFO @ 15:53:01] Energy consumed for RAM : 0.038574 kWh. RAM Power : 11.0212082862854 W\n",
      "[codecarbon INFO @ 15:53:01] Energy consumed for all CPUs : 0.148753 kWh. Total CPU Power : 42.5 W\n",
      "[codecarbon INFO @ 15:53:01] 0.187327 kWh of electricity used since the beginning.\n"
     ]
    },
    {
     "name": "stdout",
     "output_type": "stream",
     "text": [
      "205/205 [==============================] - 293s 1s/step - loss: 1.0952 - accuracy: 0.6772 - val_loss: 1.7750 - val_accuracy: 0.5397\n",
      "Epoch 44/70\n",
      " 30/205 [===>..........................] - ETA: 4:08 - loss: 1.0516 - accuracy: 0.6750"
     ]
    },
    {
     "name": "stderr",
     "output_type": "stream",
     "text": [
      "[codecarbon INFO @ 15:55:01] Energy consumed for RAM : 0.038941 kWh. RAM Power : 11.0212082862854 W\n",
      "[codecarbon INFO @ 15:55:01] Energy consumed for all CPUs : 0.150170 kWh. Total CPU Power : 42.5 W\n",
      "[codecarbon INFO @ 15:55:01] 0.189111 kWh of electricity used since the beginning.\n"
     ]
    },
    {
     "name": "stdout",
     "output_type": "stream",
     "text": [
      "116/205 [===============>..............] - ETA: 2:05 - loss: 1.0422 - accuracy: 0.6791"
     ]
    },
    {
     "name": "stderr",
     "output_type": "stream",
     "text": [
      "[codecarbon INFO @ 15:57:01] Energy consumed for RAM : 0.039309 kWh. RAM Power : 11.0212082862854 W\n",
      "[codecarbon INFO @ 15:57:01] Energy consumed for all CPUs : 0.151587 kWh. Total CPU Power : 42.5 W\n",
      "[codecarbon INFO @ 15:57:01] 0.190895 kWh of electricity used since the beginning.\n"
     ]
    },
    {
     "name": "stdout",
     "output_type": "stream",
     "text": [
      "199/205 [============================>.] - ETA: 8s - loss: 1.0492 - accuracy: 0.6779"
     ]
    },
    {
     "name": "stderr",
     "output_type": "stream",
     "text": [
      "[codecarbon INFO @ 15:59:01] Energy consumed for RAM : 0.039676 kWh. RAM Power : 11.0212082862854 W\n",
      "[codecarbon INFO @ 15:59:01] Energy consumed for all CPUs : 0.153003 kWh. Total CPU Power : 42.5 W\n",
      "[codecarbon INFO @ 15:59:01] 0.192679 kWh of electricity used since the beginning.\n"
     ]
    },
    {
     "name": "stdout",
     "output_type": "stream",
     "text": [
      "205/205 [==============================] - 301s 1s/step - loss: 1.0447 - accuracy: 0.6793 - val_loss: 1.5985 - val_accuracy: 0.5971\n",
      "Epoch 45/70\n",
      " 73/205 [=========>....................] - ETA: 3:05 - loss: 1.0193 - accuracy: 0.6866"
     ]
    },
    {
     "name": "stderr",
     "output_type": "stream",
     "text": [
      "[codecarbon INFO @ 16:01:01] Energy consumed for RAM : 0.040043 kWh. RAM Power : 11.0212082862854 W\n",
      "[codecarbon INFO @ 16:01:01] Energy consumed for all CPUs : 0.154420 kWh. Total CPU Power : 42.5 W\n",
      "[codecarbon INFO @ 16:01:01] 0.194464 kWh of electricity used since the beginning.\n"
     ]
    },
    {
     "name": "stdout",
     "output_type": "stream",
     "text": [
      "205/205 [==============================] - 293s 1s/step - loss: 1.0437 - accuracy: 0.6865 - val_loss: 1.6000 - val_accuracy: 0.5922\n",
      "Epoch 48/70\n",
      " 42/205 [=====>........................] - ETA: 3:47 - loss: 0.9622 - accuracy: 0.6987"
     ]
    },
    {
     "name": "stderr",
     "output_type": "stream",
     "text": [
      "[codecarbon INFO @ 16:15:01] Energy consumed for RAM : 0.042615 kWh. RAM Power : 11.0212082862854 W\n",
      "[codecarbon INFO @ 16:15:01] Energy consumed for all CPUs : 0.164337 kWh. Total CPU Power : 42.5 W\n",
      "[codecarbon INFO @ 16:15:01] 0.206952 kWh of electricity used since the beginning.\n"
     ]
    },
    {
     "name": "stdout",
     "output_type": "stream",
     "text": [
      "128/205 [=================>............] - ETA: 1:47 - loss: 0.9874 - accuracy: 0.6990"
     ]
    },
    {
     "name": "stderr",
     "output_type": "stream",
     "text": [
      "[codecarbon INFO @ 16:17:01] Energy consumed for RAM : 0.042982 kWh. RAM Power : 11.0212082862854 W\n",
      "[codecarbon INFO @ 16:17:01] Energy consumed for all CPUs : 0.165753 kWh. Total CPU Power : 42.5 W\n",
      "[codecarbon INFO @ 16:17:01] 0.208736 kWh of electricity used since the beginning.\n"
     ]
    },
    {
     "name": "stdout",
     "output_type": "stream",
     "text": [
      "205/205 [==============================] - 295s 1s/step - loss: 0.9851 - accuracy: 0.7004 - val_loss: 1.6979 - val_accuracy: 0.5702\n",
      "Epoch 49/70\n",
      "  3/205 [..............................] - ETA: 4:40 - loss: 1.1594 - accuracy: 0.7083"
     ]
    },
    {
     "name": "stderr",
     "output_type": "stream",
     "text": [
      "[codecarbon INFO @ 16:19:01] Energy consumed for RAM : 0.043350 kWh. RAM Power : 11.0212082862854 W\n",
      "[codecarbon INFO @ 16:19:01] Energy consumed for all CPUs : 0.167170 kWh. Total CPU Power : 42.5 W\n",
      "[codecarbon INFO @ 16:19:01] 0.210520 kWh of electricity used since the beginning.\n"
     ]
    },
    {
     "name": "stdout",
     "output_type": "stream",
     "text": [
      " 87/205 [===========>..................] - ETA: 2:46 - loss: 0.9300 - accuracy: 0.7162"
     ]
    },
    {
     "name": "stderr",
     "output_type": "stream",
     "text": [
      "[codecarbon INFO @ 16:21:01] Energy consumed for RAM : 0.043717 kWh. RAM Power : 11.0212082862854 W\n",
      "[codecarbon INFO @ 16:21:01] Energy consumed for all CPUs : 0.168587 kWh. Total CPU Power : 42.5 W\n",
      "[codecarbon INFO @ 16:21:01] 0.212304 kWh of electricity used since the beginning.\n"
     ]
    },
    {
     "name": "stdout",
     "output_type": "stream",
     "text": [
      "173/205 [========================>.....] - ETA: 45s - loss: 0.9496 - accuracy: 0.7088"
     ]
    },
    {
     "name": "stderr",
     "output_type": "stream",
     "text": [
      "[codecarbon INFO @ 16:23:01] Energy consumed for RAM : 0.044084 kWh. RAM Power : 11.0212082862854 W\n",
      "[codecarbon INFO @ 16:23:01] Energy consumed for all CPUs : 0.170004 kWh. Total CPU Power : 42.5 W\n",
      "[codecarbon INFO @ 16:23:01] 0.214088 kWh of electricity used since the beginning.\n"
     ]
    },
    {
     "name": "stdout",
     "output_type": "stream",
     "text": [
      "205/205 [==============================] - 297s 1s/step - loss: 0.9621 - accuracy: 0.7065 - val_loss: 1.5061 - val_accuracy: 0.6081\n",
      "Epoch 50/70\n",
      " 48/205 [======>.......................] - ETA: 3:39 - loss: 0.9863 - accuracy: 0.6895"
     ]
    },
    {
     "name": "stderr",
     "output_type": "stream",
     "text": [
      "[codecarbon INFO @ 16:25:01] Energy consumed for RAM : 0.044452 kWh. RAM Power : 11.0212082862854 W\n",
      "[codecarbon INFO @ 16:25:01] Energy consumed for all CPUs : 0.171421 kWh. Total CPU Power : 42.5 W\n",
      "[codecarbon INFO @ 16:25:01] 0.215872 kWh of electricity used since the beginning.\n"
     ]
    },
    {
     "name": "stdout",
     "output_type": "stream",
     "text": [
      "133/205 [==================>...........] - ETA: 1:40 - loss: 0.9619 - accuracy: 0.7021"
     ]
    },
    {
     "name": "stderr",
     "output_type": "stream",
     "text": [
      "[codecarbon INFO @ 16:27:01] Energy consumed for RAM : 0.044819 kWh. RAM Power : 11.0212082862854 W\n",
      "[codecarbon INFO @ 16:27:01] Energy consumed for all CPUs : 0.172837 kWh. Total CPU Power : 42.5 W\n",
      "[codecarbon INFO @ 16:27:01] 0.217656 kWh of electricity used since the beginning.\n"
     ]
    },
    {
     "name": "stdout",
     "output_type": "stream",
     "text": [
      "205/205 [==============================] - 294s 1s/step - loss: 0.9625 - accuracy: 0.7031 - val_loss: 1.6841 - val_accuracy: 0.5958\n",
      "Epoch 51/70\n",
      "  9/205 [>.............................] - ETA: 4:28 - loss: 0.9253 - accuracy: 0.6979"
     ]
    },
    {
     "name": "stderr",
     "output_type": "stream",
     "text": [
      "[codecarbon INFO @ 16:29:01] Energy consumed for RAM : 0.045187 kWh. RAM Power : 11.0212082862854 W\n",
      "[codecarbon INFO @ 16:29:01] Energy consumed for all CPUs : 0.174254 kWh. Total CPU Power : 42.5 W\n",
      "[codecarbon INFO @ 16:29:01] 0.219440 kWh of electricity used since the beginning.\n"
     ]
    },
    {
     "name": "stdout",
     "output_type": "stream",
     "text": [
      " 95/205 [============>.................] - ETA: 2:33 - loss: 0.9446 - accuracy: 0.7132"
     ]
    },
    {
     "name": "stderr",
     "output_type": "stream",
     "text": [
      "[codecarbon INFO @ 16:31:01] Energy consumed for RAM : 0.045554 kWh. RAM Power : 11.0212082862854 W\n",
      "[codecarbon INFO @ 16:31:01] Energy consumed for all CPUs : 0.175671 kWh. Total CPU Power : 42.5 W\n",
      "[codecarbon INFO @ 16:31:01] 0.221225 kWh of electricity used since the beginning.\n"
     ]
    },
    {
     "name": "stdout",
     "output_type": "stream",
     "text": [
      "181/205 [=========================>....] - ETA: 33s - loss: 0.9178 - accuracy: 0.7222"
     ]
    },
    {
     "name": "stderr",
     "output_type": "stream",
     "text": [
      "[codecarbon INFO @ 16:33:01] Energy consumed for RAM : 0.045921 kWh. RAM Power : 11.0212082862854 W\n",
      "[codecarbon INFO @ 16:33:01] Energy consumed for all CPUs : 0.177087 kWh. Total CPU Power : 42.5 W\n",
      "[codecarbon INFO @ 16:33:01] 0.223009 kWh of electricity used since the beginning.\n"
     ]
    },
    {
     "name": "stdout",
     "output_type": "stream",
     "text": [
      "205/205 [==============================] - 294s 1s/step - loss: 0.9179 - accuracy: 0.7237 - val_loss: 1.6526 - val_accuracy: 0.6081\n",
      "Epoch 52/70\n",
      " 57/205 [=======>......................] - ETA: 3:26 - loss: 0.9408 - accuracy: 0.7078"
     ]
    },
    {
     "name": "stderr",
     "output_type": "stream",
     "text": [
      "[codecarbon INFO @ 16:35:01] Energy consumed for RAM : 0.046289 kWh. RAM Power : 11.0212082862854 W\n",
      "[codecarbon INFO @ 16:35:01] Energy consumed for all CPUs : 0.178504 kWh. Total CPU Power : 42.5 W\n",
      "[codecarbon INFO @ 16:35:01] 0.224793 kWh of electricity used since the beginning.\n"
     ]
    },
    {
     "name": "stdout",
     "output_type": "stream",
     "text": [
      "139/205 [===================>..........] - ETA: 1:34 - loss: 0.9247 - accuracy: 0.7127"
     ]
    },
    {
     "name": "stderr",
     "output_type": "stream",
     "text": [
      "[codecarbon INFO @ 16:37:01] Energy consumed for RAM : 0.046656 kWh. RAM Power : 11.0212082862854 W\n",
      "[codecarbon INFO @ 16:37:01] Energy consumed for all CPUs : 0.179921 kWh. Total CPU Power : 42.5 W\n",
      "[codecarbon INFO @ 16:37:01] 0.226577 kWh of electricity used since the beginning.\n"
     ]
    },
    {
     "name": "stdout",
     "output_type": "stream",
     "text": [
      "205/205 [==============================] - 300s 1s/step - loss: 0.9386 - accuracy: 0.7111 - val_loss: 1.5064 - val_accuracy: 0.6215\n",
      "Epoch 53/70\n",
      " 13/205 [>.............................] - ETA: 4:25 - loss: 0.8991 - accuracy: 0.7067"
     ]
    },
    {
     "name": "stderr",
     "output_type": "stream",
     "text": [
      "[codecarbon INFO @ 16:39:01] Energy consumed for RAM : 0.047024 kWh. RAM Power : 11.0212082862854 W\n",
      "[codecarbon INFO @ 16:39:01] Energy consumed for all CPUs : 0.181338 kWh. Total CPU Power : 42.5 W\n",
      "[codecarbon INFO @ 16:39:01] 0.228361 kWh of electricity used since the beginning.\n"
     ]
    },
    {
     "name": "stdout",
     "output_type": "stream",
     "text": [
      " 99/205 [=============>................] - ETA: 2:27 - loss: 0.9314 - accuracy: 0.7118"
     ]
    },
    {
     "name": "stderr",
     "output_type": "stream",
     "text": [
      "[codecarbon INFO @ 16:41:01] Energy consumed for RAM : 0.047391 kWh. RAM Power : 11.0212082862854 W\n",
      "[codecarbon INFO @ 16:41:01] Energy consumed for all CPUs : 0.182755 kWh. Total CPU Power : 42.5 W\n",
      "[codecarbon INFO @ 16:41:01] 0.230145 kWh of electricity used since the beginning.\n"
     ]
    },
    {
     "name": "stdout",
     "output_type": "stream",
     "text": [
      "186/205 [==========================>...] - ETA: 26s - loss: 0.9046 - accuracy: 0.7211"
     ]
    },
    {
     "name": "stderr",
     "output_type": "stream",
     "text": [
      "[codecarbon INFO @ 16:43:01] Energy consumed for RAM : 0.047758 kWh. RAM Power : 11.0212082862854 W\n",
      "[codecarbon INFO @ 16:43:01] Energy consumed for all CPUs : 0.184171 kWh. Total CPU Power : 42.5 W\n",
      "[codecarbon INFO @ 16:43:01] 0.231930 kWh of electricity used since the beginning.\n"
     ]
    },
    {
     "name": "stdout",
     "output_type": "stream",
     "text": [
      "205/205 [==============================] - 294s 1s/step - loss: 0.8977 - accuracy: 0.7233 - val_loss: 1.5343 - val_accuracy: 0.5995\n",
      "Epoch 54/70\n",
      " 61/205 [=======>......................] - ETA: 3:20 - loss: 0.8742 - accuracy: 0.7362"
     ]
    },
    {
     "name": "stderr",
     "output_type": "stream",
     "text": [
      "[codecarbon INFO @ 16:45:01] Energy consumed for RAM : 0.048126 kWh. RAM Power : 11.0212082862854 W\n",
      "[codecarbon INFO @ 16:45:01] Energy consumed for all CPUs : 0.185588 kWh. Total CPU Power : 42.5 W\n",
      "[codecarbon INFO @ 16:45:01] 0.233714 kWh of electricity used since the beginning.\n"
     ]
    },
    {
     "name": "stdout",
     "output_type": "stream",
     "text": [
      "146/205 [====================>.........] - ETA: 1:22 - loss: 0.8941 - accuracy: 0.7209"
     ]
    },
    {
     "name": "stderr",
     "output_type": "stream",
     "text": [
      "[codecarbon INFO @ 16:47:01] Energy consumed for RAM : 0.048493 kWh. RAM Power : 11.0212082862854 W\n",
      "[codecarbon INFO @ 16:47:01] Energy consumed for all CPUs : 0.187005 kWh. Total CPU Power : 42.5 W\n",
      "[codecarbon INFO @ 16:47:01] 0.235498 kWh of electricity used since the beginning.\n"
     ]
    },
    {
     "name": "stdout",
     "output_type": "stream",
     "text": [
      "205/205 [==============================] - 296s 1s/step - loss: 0.9051 - accuracy: 0.7189 - val_loss: 1.6209 - val_accuracy: 0.6081\n",
      "Epoch 55/70\n",
      " 21/205 [==>...........................] - ETA: 4:13 - loss: 0.9237 - accuracy: 0.7188"
     ]
    },
    {
     "name": "stderr",
     "output_type": "stream",
     "text": [
      "[codecarbon INFO @ 16:49:01] Energy consumed for RAM : 0.048860 kWh. RAM Power : 11.0212082862854 W\n",
      "[codecarbon INFO @ 16:49:01] Energy consumed for all CPUs : 0.188422 kWh. Total CPU Power : 42.5 W\n",
      "[codecarbon INFO @ 16:49:01] 0.237282 kWh of electricity used since the beginning.\n"
     ]
    },
    {
     "name": "stdout",
     "output_type": "stream",
     "text": [
      "107/205 [==============>...............] - ETA: 2:16 - loss: 0.9048 - accuracy: 0.7278"
     ]
    },
    {
     "name": "stderr",
     "output_type": "stream",
     "text": [
      "[codecarbon INFO @ 16:51:01] Energy consumed for RAM : 0.049228 kWh. RAM Power : 11.0212082862854 W\n",
      "[codecarbon INFO @ 16:51:01] Energy consumed for all CPUs : 0.189838 kWh. Total CPU Power : 42.5 W\n",
      "[codecarbon INFO @ 16:51:01] 0.239066 kWh of electricity used since the beginning.\n"
     ]
    },
    {
     "name": "stdout",
     "output_type": "stream",
     "text": [
      "192/205 [===========================>..] - ETA: 18s - loss: 0.9112 - accuracy: 0.7236"
     ]
    },
    {
     "name": "stderr",
     "output_type": "stream",
     "text": [
      "[codecarbon INFO @ 16:53:01] Energy consumed for RAM : 0.049595 kWh. RAM Power : 11.0212082862854 W\n",
      "[codecarbon INFO @ 16:53:01] Energy consumed for all CPUs : 0.191255 kWh. Total CPU Power : 42.5 W\n",
      "[codecarbon INFO @ 16:53:01] 0.240850 kWh of electricity used since the beginning.\n"
     ]
    },
    {
     "name": "stdout",
     "output_type": "stream",
     "text": [
      "205/205 [==============================] - 294s 1s/step - loss: 0.9144 - accuracy: 0.7237 - val_loss: 1.7357 - val_accuracy: 0.5971\n",
      "Epoch 56/70\n",
      " 67/205 [========>.....................] - ETA: 3:14 - loss: 0.8345 - accuracy: 0.7551"
     ]
    },
    {
     "name": "stderr",
     "output_type": "stream",
     "text": [
      "[codecarbon INFO @ 16:55:01] Energy consumed for RAM : 0.049963 kWh. RAM Power : 11.0212082862854 W\n",
      "[codecarbon INFO @ 16:55:01] Energy consumed for all CPUs : 0.192672 kWh. Total CPU Power : 42.5 W\n",
      "[codecarbon INFO @ 16:55:01] 0.242634 kWh of electricity used since the beginning.\n"
     ]
    },
    {
     "name": "stdout",
     "output_type": "stream",
     "text": [
      "152/205 [=====================>........] - ETA: 1:14 - loss: 0.8413 - accuracy: 0.7451"
     ]
    },
    {
     "name": "stderr",
     "output_type": "stream",
     "text": [
      "[codecarbon INFO @ 16:57:01] Energy consumed for RAM : 0.050330 kWh. RAM Power : 11.0212082862854 W\n",
      "[codecarbon INFO @ 16:57:01] Energy consumed for all CPUs : 0.194088 kWh. Total CPU Power : 42.5 W\n",
      "[codecarbon INFO @ 16:57:01] 0.244418 kWh of electricity used since the beginning.\n"
     ]
    },
    {
     "name": "stdout",
     "output_type": "stream",
     "text": [
      "205/205 [==============================] - 297s 1s/step - loss: 0.8388 - accuracy: 0.7408 - val_loss: 1.6057 - val_accuracy: 0.6105\n",
      "Epoch 57/70\n",
      " 26/205 [==>...........................] - ETA: 4:08 - loss: 0.8423 - accuracy: 0.7464"
     ]
    },
    {
     "name": "stderr",
     "output_type": "stream",
     "text": [
      "[codecarbon INFO @ 16:59:01] Energy consumed for RAM : 0.050697 kWh. RAM Power : 11.0212082862854 W\n",
      "[codecarbon INFO @ 16:59:01] Energy consumed for all CPUs : 0.195505 kWh. Total CPU Power : 42.5 W\n",
      "[codecarbon INFO @ 16:59:01] 0.246202 kWh of electricity used since the beginning.\n"
     ]
    },
    {
     "name": "stdout",
     "output_type": "stream",
     "text": [
      "112/205 [===============>..............] - ETA: 2:09 - loss: 0.8745 - accuracy: 0.7324"
     ]
    },
    {
     "name": "stderr",
     "output_type": "stream",
     "text": [
      "[codecarbon INFO @ 17:01:01] Energy consumed for RAM : 0.051065 kWh. RAM Power : 11.0212082862854 W\n",
      "[codecarbon INFO @ 17:01:01] Energy consumed for all CPUs : 0.196922 kWh. Total CPU Power : 42.5 W\n",
      "[codecarbon INFO @ 17:01:01] 0.247986 kWh of electricity used since the beginning.\n"
     ]
    },
    {
     "name": "stdout",
     "output_type": "stream",
     "text": [
      "198/205 [===========================>..] - ETA: 9s - loss: 0.8584 - accuracy: 0.7366 "
     ]
    },
    {
     "name": "stderr",
     "output_type": "stream",
     "text": [
      "[codecarbon INFO @ 17:03:01] Energy consumed for RAM : 0.051432 kWh. RAM Power : 11.0212082862854 W\n",
      "[codecarbon INFO @ 17:03:01] Energy consumed for all CPUs : 0.198338 kWh. Total CPU Power : 42.5 W\n",
      "[codecarbon INFO @ 17:03:01] 0.249770 kWh of electricity used since the beginning.\n"
     ]
    },
    {
     "name": "stdout",
     "output_type": "stream",
     "text": [
      "205/205 [==============================] - 295s 1s/step - loss: 0.8568 - accuracy: 0.7369 - val_loss: 1.5686 - val_accuracy: 0.6129\n",
      "Epoch 58/70\n",
      " 73/205 [=========>....................] - ETA: 3:05 - loss: 0.8691 - accuracy: 0.7329"
     ]
    },
    {
     "name": "stderr",
     "output_type": "stream",
     "text": [
      "[codecarbon INFO @ 17:05:01] Energy consumed for RAM : 0.051799 kWh. RAM Power : 11.0212082862854 W\n",
      "[codecarbon INFO @ 17:05:01] Energy consumed for all CPUs : 0.199755 kWh. Total CPU Power : 42.5 W\n",
      "[codecarbon INFO @ 17:05:01] 0.251554 kWh of electricity used since the beginning.\n"
     ]
    },
    {
     "name": "stdout",
     "output_type": "stream",
     "text": [
      "158/205 [======================>.......] - ETA: 1:05 - loss: 0.8847 - accuracy: 0.7261"
     ]
    },
    {
     "name": "stderr",
     "output_type": "stream",
     "text": [
      "[codecarbon INFO @ 17:07:01] Energy consumed for RAM : 0.052167 kWh. RAM Power : 11.0212082862854 W\n",
      "[codecarbon INFO @ 17:07:01] Energy consumed for all CPUs : 0.201172 kWh. Total CPU Power : 42.5 W\n",
      "[codecarbon INFO @ 17:07:01] 0.253339 kWh of electricity used since the beginning.\n"
     ]
    },
    {
     "name": "stdout",
     "output_type": "stream",
     "text": [
      "205/205 [==============================] - 298s 1s/step - loss: 0.8741 - accuracy: 0.7311 - val_loss: 1.5486 - val_accuracy: 0.6178\n",
      "Epoch 59/70\n",
      " 31/205 [===>..........................] - ETA: 4:01 - loss: 0.8474 - accuracy: 0.7339"
     ]
    },
    {
     "name": "stderr",
     "output_type": "stream",
     "text": [
      "[codecarbon INFO @ 17:09:01] Energy consumed for RAM : 0.052534 kWh. RAM Power : 11.0212082862854 W\n",
      "[codecarbon INFO @ 17:09:01] Energy consumed for all CPUs : 0.202588 kWh. Total CPU Power : 42.5 W\n",
      "[codecarbon INFO @ 17:09:01] 0.255122 kWh of electricity used since the beginning.\n"
     ]
    },
    {
     "name": "stdout",
     "output_type": "stream",
     "text": [
      "117/205 [================>.............] - ETA: 2:02 - loss: 0.8405 - accuracy: 0.7358"
     ]
    },
    {
     "name": "stderr",
     "output_type": "stream",
     "text": [
      "[codecarbon INFO @ 17:11:01] Energy consumed for RAM : 0.052901 kWh. RAM Power : 11.0212082862854 W\n",
      "[codecarbon INFO @ 17:11:01] Energy consumed for all CPUs : 0.204005 kWh. Total CPU Power : 42.5 W\n",
      "[codecarbon INFO @ 17:11:01] 0.256907 kWh of electricity used since the beginning.\n"
     ]
    },
    {
     "name": "stdout",
     "output_type": "stream",
     "text": [
      " 78/205 [==========>...................] - ETA: 2:57 - loss: 0.8432 - accuracy: 0.7384"
     ]
    },
    {
     "name": "stderr",
     "output_type": "stream",
     "text": [
      "[codecarbon INFO @ 17:15:01] Energy consumed for RAM : 0.053636 kWh. RAM Power : 11.0212082862854 W\n",
      "[codecarbon INFO @ 17:15:01] Energy consumed for all CPUs : 0.206839 kWh. Total CPU Power : 42.5 W\n",
      "[codecarbon INFO @ 17:15:01] 0.260475 kWh of electricity used since the beginning.\n"
     ]
    },
    {
     "name": "stdout",
     "output_type": "stream",
     "text": [
      "164/205 [=======================>......] - ETA: 57s - loss: 0.8268 - accuracy: 0.7403"
     ]
    },
    {
     "name": "stderr",
     "output_type": "stream",
     "text": [
      "[codecarbon INFO @ 17:17:01] Energy consumed for RAM : 0.054003 kWh. RAM Power : 11.0212082862854 W\n",
      "[codecarbon INFO @ 17:17:01] Energy consumed for all CPUs : 0.208255 kWh. Total CPU Power : 42.5 W\n",
      "[codecarbon INFO @ 17:17:01] 0.262259 kWh of electricity used since the beginning.\n"
     ]
    },
    {
     "name": "stdout",
     "output_type": "stream",
     "text": [
      "205/205 [==============================] - 295s 1s/step - loss: 0.8232 - accuracy: 0.7415 - val_loss: 1.6292 - val_accuracy: 0.6227\n",
      "Epoch 61/70\n",
      " 39/205 [====>.........................] - ETA: 3:48 - loss: 0.8309 - accuracy: 0.7404"
     ]
    },
    {
     "name": "stderr",
     "output_type": "stream",
     "text": [
      "[codecarbon INFO @ 17:19:01] Energy consumed for RAM : 0.054371 kWh. RAM Power : 11.0212082862854 W\n",
      "[codecarbon INFO @ 17:19:01] Energy consumed for all CPUs : 0.209672 kWh. Total CPU Power : 42.5 W\n",
      "[codecarbon INFO @ 17:19:01] 0.264043 kWh of electricity used since the beginning.\n"
     ]
    },
    {
     "name": "stdout",
     "output_type": "stream",
     "text": [
      "125/205 [=================>............] - ETA: 1:50 - loss: 0.8378 - accuracy: 0.7455"
     ]
    },
    {
     "name": "stderr",
     "output_type": "stream",
     "text": [
      "[codecarbon INFO @ 17:21:01] Energy consumed for RAM : 0.054738 kWh. RAM Power : 11.0212082862854 W\n",
      "[codecarbon INFO @ 17:21:01] Energy consumed for all CPUs : 0.211089 kWh. Total CPU Power : 42.5 W\n",
      "[codecarbon INFO @ 17:21:01] 0.265827 kWh of electricity used since the beginning.\n"
     ]
    },
    {
     "name": "stdout",
     "output_type": "stream",
     "text": [
      "205/205 [==============================] - 294s 1s/step - loss: 0.8058 - accuracy: 0.7518 - val_loss: 1.4929 - val_accuracy: 0.6288\n",
      "Epoch 62/70\n"
     ]
    },
    {
     "name": "stderr",
     "output_type": "stream",
     "text": [
      "[codecarbon INFO @ 17:23:01] Energy consumed for RAM : 0.055106 kWh. RAM Power : 11.0212082862854 W\n",
      "[codecarbon INFO @ 17:23:01] Energy consumed for all CPUs : 0.212505 kWh. Total CPU Power : 42.5 W\n",
      "[codecarbon INFO @ 17:23:01] 0.267611 kWh of electricity used since the beginning.\n"
     ]
    },
    {
     "name": "stdout",
     "output_type": "stream",
     "text": [
      " 86/205 [===========>..................] - ETA: 2:45 - loss: 0.8308 - accuracy: 0.7398"
     ]
    },
    {
     "name": "stderr",
     "output_type": "stream",
     "text": [
      "[codecarbon INFO @ 17:25:01] Energy consumed for RAM : 0.055473 kWh. RAM Power : 11.0212082862854 W\n",
      "[codecarbon INFO @ 17:25:01] Energy consumed for all CPUs : 0.213922 kWh. Total CPU Power : 42.5 W\n",
      "[codecarbon INFO @ 17:25:01] 0.269395 kWh of electricity used since the beginning.\n"
     ]
    },
    {
     "name": "stdout",
     "output_type": "stream",
     "text": [
      "171/205 [========================>.....] - ETA: 47s - loss: 0.8321 - accuracy: 0.7378"
     ]
    },
    {
     "name": "stderr",
     "output_type": "stream",
     "text": [
      "[codecarbon INFO @ 17:27:01] Energy consumed for RAM : 0.055840 kWh. RAM Power : 11.0212082862854 W\n",
      "[codecarbon INFO @ 17:27:01] Energy consumed for all CPUs : 0.215339 kWh. Total CPU Power : 42.5 W\n",
      "[codecarbon INFO @ 17:27:01] 0.271179 kWh of electricity used since the beginning.\n"
     ]
    },
    {
     "name": "stdout",
     "output_type": "stream",
     "text": [
      "205/205 [==============================] - 298s 1s/step - loss: 0.8234 - accuracy: 0.7419 - val_loss: 1.5565 - val_accuracy: 0.6313\n",
      "Epoch 63/70\n",
      " 44/205 [=====>........................] - ETA: 3:46 - loss: 0.7226 - accuracy: 0.7827"
     ]
    },
    {
     "name": "stderr",
     "output_type": "stream",
     "text": [
      "[codecarbon INFO @ 17:29:01] Energy consumed for RAM : 0.056208 kWh. RAM Power : 11.0212082862854 W\n",
      "[codecarbon INFO @ 17:29:01] Energy consumed for all CPUs : 0.216755 kWh. Total CPU Power : 42.5 W\n",
      "[codecarbon INFO @ 17:29:01] 0.272963 kWh of electricity used since the beginning.\n"
     ]
    },
    {
     "name": "stdout",
     "output_type": "stream",
     "text": [
      "129/205 [=================>............] - ETA: 1:46 - loss: 0.7882 - accuracy: 0.7580"
     ]
    },
    {
     "name": "stderr",
     "output_type": "stream",
     "text": [
      "[codecarbon INFO @ 17:31:01] Energy consumed for RAM : 0.056575 kWh. RAM Power : 11.0212082862854 W\n",
      "[codecarbon INFO @ 17:31:01] Energy consumed for all CPUs : 0.218172 kWh. Total CPU Power : 42.5 W\n",
      "[codecarbon INFO @ 17:31:01] 0.274747 kWh of electricity used since the beginning.\n"
     ]
    },
    {
     "name": "stdout",
     "output_type": "stream",
     "text": [
      "205/205 [==============================] - 296s 1s/step - loss: 0.7898 - accuracy: 0.7592 - val_loss: 1.5051 - val_accuracy: 0.6520\n",
      "Epoch 64/70\n",
      "  4/205 [..............................] - ETA: 4:40 - loss: 0.7737 - accuracy: 0.7578"
     ]
    },
    {
     "name": "stderr",
     "output_type": "stream",
     "text": [
      "[codecarbon INFO @ 17:33:01] Energy consumed for RAM : 0.056942 kWh. RAM Power : 11.0212082862854 W\n",
      "[codecarbon INFO @ 17:33:01] Energy consumed for all CPUs : 0.219589 kWh. Total CPU Power : 42.5 W\n",
      "[codecarbon INFO @ 17:33:01] 0.276531 kWh of electricity used since the beginning.\n"
     ]
    },
    {
     "name": "stdout",
     "output_type": "stream",
     "text": [
      " 89/205 [============>.................] - ETA: 2:43 - loss: 0.7692 - accuracy: 0.7623"
     ]
    },
    {
     "name": "stderr",
     "output_type": "stream",
     "text": [
      "[codecarbon INFO @ 17:35:01] Energy consumed for RAM : 0.057310 kWh. RAM Power : 11.0212082862854 W\n",
      "[codecarbon INFO @ 17:35:01] Energy consumed for all CPUs : 0.221005 kWh. Total CPU Power : 42.5 W\n",
      "[codecarbon INFO @ 17:35:01] 0.278315 kWh of electricity used since the beginning.\n"
     ]
    },
    {
     "name": "stdout",
     "output_type": "stream",
     "text": [
      "175/205 [========================>.....] - ETA: 42s - loss: 0.7818 - accuracy: 0.7627"
     ]
    },
    {
     "name": "stderr",
     "output_type": "stream",
     "text": [
      "[codecarbon INFO @ 17:37:01] Energy consumed for RAM : 0.057677 kWh. RAM Power : 11.0212082862854 W\n",
      "[codecarbon INFO @ 17:37:01] Energy consumed for all CPUs : 0.222422 kWh. Total CPU Power : 42.5 W\n",
      "[codecarbon INFO @ 17:37:01] 0.280099 kWh of electricity used since the beginning.\n"
     ]
    },
    {
     "name": "stdout",
     "output_type": "stream",
     "text": [
      "205/205 [==============================] - 296s 1s/step - loss: 0.7805 - accuracy: 0.7642 - val_loss: 1.5146 - val_accuracy: 0.6532\n",
      "Epoch 65/70\n",
      " 50/205 [======>.......................] - ETA: 3:36 - loss: 0.7534 - accuracy: 0.7619"
     ]
    },
    {
     "name": "stderr",
     "output_type": "stream",
     "text": [
      "[codecarbon INFO @ 17:39:01] Energy consumed for RAM : 0.058045 kWh. RAM Power : 11.0212082862854 W\n",
      "[codecarbon INFO @ 17:39:01] Energy consumed for all CPUs : 0.223839 kWh. Total CPU Power : 42.5 W\n",
      "[codecarbon INFO @ 17:39:01] 0.281883 kWh of electricity used since the beginning.\n"
     ]
    },
    {
     "name": "stdout",
     "output_type": "stream",
     "text": [
      "136/205 [==================>...........] - ETA: 1:36 - loss: 0.7723 - accuracy: 0.7587"
     ]
    },
    {
     "name": "stderr",
     "output_type": "stream",
     "text": [
      "[codecarbon INFO @ 17:41:01] Energy consumed for RAM : 0.058412 kWh. RAM Power : 11.0212082862854 W\n",
      "[codecarbon INFO @ 17:41:01] Energy consumed for all CPUs : 0.225255 kWh. Total CPU Power : 42.5 W\n",
      "[codecarbon INFO @ 17:41:01] 0.283667 kWh of electricity used since the beginning.\n"
     ]
    },
    {
     "name": "stdout",
     "output_type": "stream",
     "text": [
      "205/205 [==============================] - 295s 1s/step - loss: 0.7680 - accuracy: 0.7570 - val_loss: 1.7419 - val_accuracy: 0.5983\n",
      "Epoch 66/70\n",
      " 10/205 [>.............................] - ETA: 4:34 - loss: 0.8385 - accuracy: 0.7437"
     ]
    },
    {
     "name": "stderr",
     "output_type": "stream",
     "text": [
      "[codecarbon INFO @ 17:43:01] Energy consumed for RAM : 0.058779 kWh. RAM Power : 11.0212082862854 W\n",
      "[codecarbon INFO @ 17:43:01] Energy consumed for all CPUs : 0.226672 kWh. Total CPU Power : 42.5 W\n",
      "[codecarbon INFO @ 17:43:01] 0.285451 kWh of electricity used since the beginning.\n"
     ]
    },
    {
     "name": "stdout",
     "output_type": "stream",
     "text": [
      " 95/205 [============>.................] - ETA: 2:34 - loss: 0.8202 - accuracy: 0.7484"
     ]
    },
    {
     "name": "stderr",
     "output_type": "stream",
     "text": [
      "[codecarbon INFO @ 17:45:01] Energy consumed for RAM : 0.059147 kWh. RAM Power : 11.0212082862854 W\n",
      "[codecarbon INFO @ 17:45:01] Energy consumed for all CPUs : 0.228089 kWh. Total CPU Power : 42.5 W\n",
      "[codecarbon INFO @ 17:45:01] 0.287235 kWh of electricity used since the beginning.\n"
     ]
    },
    {
     "name": "stdout",
     "output_type": "stream",
     "text": [
      "181/205 [=========================>....] - ETA: 33s - loss: 0.7934 - accuracy: 0.7524"
     ]
    },
    {
     "name": "stderr",
     "output_type": "stream",
     "text": [
      "[codecarbon INFO @ 17:47:01] Energy consumed for RAM : 0.059514 kWh. RAM Power : 11.0212082862854 W\n",
      "[codecarbon INFO @ 17:47:01] Energy consumed for all CPUs : 0.229505 kWh. Total CPU Power : 42.5 W\n",
      "[codecarbon INFO @ 17:47:01] 0.289019 kWh of electricity used since the beginning.\n"
     ]
    },
    {
     "name": "stdout",
     "output_type": "stream",
     "text": [
      "205/205 [==============================] - 296s 1s/step - loss: 0.7874 - accuracy: 0.7538 - val_loss: 1.4557 - val_accuracy: 0.6581\n",
      "Epoch 67/70\n",
      " 55/205 [=======>......................] - ETA: 3:33 - loss: 0.7614 - accuracy: 0.7545"
     ]
    },
    {
     "name": "stderr",
     "output_type": "stream",
     "text": [
      "[codecarbon INFO @ 17:49:01] Energy consumed for RAM : 0.059881 kWh. RAM Power : 11.0212082862854 W\n",
      "[codecarbon INFO @ 17:49:01] Energy consumed for all CPUs : 0.230922 kWh. Total CPU Power : 42.5 W\n",
      "[codecarbon INFO @ 17:49:01] 0.290803 kWh of electricity used since the beginning.\n"
     ]
    },
    {
     "name": "stdout",
     "output_type": "stream",
     "text": [
      "139/205 [===================>..........] - ETA: 1:33 - loss: 0.7505 - accuracy: 0.7662"
     ]
    },
    {
     "name": "stderr",
     "output_type": "stream",
     "text": [
      "[codecarbon INFO @ 17:51:01] Energy consumed for RAM : 0.060249 kWh. RAM Power : 11.0212082862854 W\n",
      "[codecarbon INFO @ 17:51:01] Energy consumed for all CPUs : 0.232339 kWh. Total CPU Power : 42.5 W\n",
      "[codecarbon INFO @ 17:51:01] 0.292587 kWh of electricity used since the beginning.\n"
     ]
    },
    {
     "name": "stdout",
     "output_type": "stream",
     "text": [
      "205/205 [==============================] - 298s 1s/step - loss: 0.7476 - accuracy: 0.7689 - val_loss: 1.6434 - val_accuracy: 0.6105\n",
      "Epoch 68/70\n",
      " 14/205 [=>............................] - ETA: 4:24 - loss: 0.7599 - accuracy: 0.7879"
     ]
    },
    {
     "name": "stderr",
     "output_type": "stream",
     "text": [
      "[codecarbon INFO @ 17:53:01] Energy consumed for RAM : 0.060616 kWh. RAM Power : 11.0212082862854 W\n",
      "[codecarbon INFO @ 17:53:01] Energy consumed for all CPUs : 0.233755 kWh. Total CPU Power : 42.5 W\n",
      "[codecarbon INFO @ 17:53:01] 0.294371 kWh of electricity used since the beginning.\n"
     ]
    },
    {
     "name": "stdout",
     "output_type": "stream",
     "text": [
      " 99/205 [=============>................] - ETA: 2:28 - loss: 0.7426 - accuracy: 0.7708"
     ]
    },
    {
     "name": "stderr",
     "output_type": "stream",
     "text": [
      "[codecarbon INFO @ 17:55:01] Energy consumed for RAM : 0.060983 kWh. RAM Power : 11.0212082862854 W\n",
      "[codecarbon INFO @ 17:55:01] Energy consumed for all CPUs : 0.235172 kWh. Total CPU Power : 42.5 W\n",
      "[codecarbon INFO @ 17:55:01] 0.296155 kWh of electricity used since the beginning.\n"
     ]
    },
    {
     "name": "stdout",
     "output_type": "stream",
     "text": [
      "186/205 [==========================>...] - ETA: 26s - loss: 0.7371 - accuracy: 0.7690"
     ]
    },
    {
     "name": "stderr",
     "output_type": "stream",
     "text": [
      "[codecarbon INFO @ 17:57:01] Energy consumed for RAM : 0.061351 kWh. RAM Power : 11.0212082862854 W\n",
      "[codecarbon INFO @ 17:57:01] Energy consumed for all CPUs : 0.236589 kWh. Total CPU Power : 42.5 W\n",
      "[codecarbon INFO @ 17:57:01] 0.297940 kWh of electricity used since the beginning.\n"
     ]
    },
    {
     "name": "stdout",
     "output_type": "stream",
     "text": [
      "205/205 [==============================] - 295s 1s/step - loss: 0.7329 - accuracy: 0.7689 - val_loss: 1.6089 - val_accuracy: 0.6154\n",
      "Epoch 69/70\n",
      " 61/205 [=======>......................] - ETA: 3:19 - loss: 0.7517 - accuracy: 0.7705"
     ]
    },
    {
     "name": "stderr",
     "output_type": "stream",
     "text": [
      "[codecarbon INFO @ 17:59:01] Energy consumed for RAM : 0.061718 kWh. RAM Power : 11.0212082862854 W\n",
      "[codecarbon INFO @ 17:59:01] Energy consumed for all CPUs : 0.238006 kWh. Total CPU Power : 42.5 W\n",
      "[codecarbon INFO @ 17:59:01] 0.299724 kWh of electricity used since the beginning.\n"
     ]
    },
    {
     "name": "stdout",
     "output_type": "stream",
     "text": [
      "146/205 [====================>.........] - ETA: 1:22 - loss: 0.7291 - accuracy: 0.7776"
     ]
    },
    {
     "name": "stderr",
     "output_type": "stream",
     "text": [
      "[codecarbon INFO @ 18:01:01] Energy consumed for RAM : 0.062086 kWh. RAM Power : 11.0212082862854 W\n",
      "[codecarbon INFO @ 18:01:01] Energy consumed for all CPUs : 0.239422 kWh. Total CPU Power : 42.5 W\n",
      "[codecarbon INFO @ 18:01:01] 0.301508 kWh of electricity used since the beginning.\n"
     ]
    },
    {
     "name": "stdout",
     "output_type": "stream",
     "text": [
      "205/205 [==============================] - 296s 1s/step - loss: 0.7196 - accuracy: 0.7793 - val_loss: 1.7091 - val_accuracy: 0.6203\n",
      "Epoch 70/70\n",
      " 21/205 [==>...........................] - ETA: 4:16 - loss: 0.6559 - accuracy: 0.7857"
     ]
    },
    {
     "name": "stderr",
     "output_type": "stream",
     "text": [
      "[codecarbon INFO @ 18:03:01] Energy consumed for RAM : 0.062453 kWh. RAM Power : 11.0212082862854 W\n",
      "[codecarbon INFO @ 18:03:01] Energy consumed for all CPUs : 0.240839 kWh. Total CPU Power : 42.5 W\n",
      "[codecarbon INFO @ 18:03:01] 0.303292 kWh of electricity used since the beginning.\n"
     ]
    },
    {
     "name": "stdout",
     "output_type": "stream",
     "text": [
      "106/205 [==============>...............] - ETA: 2:18 - loss: 0.7101 - accuracy: 0.7768"
     ]
    },
    {
     "name": "stderr",
     "output_type": "stream",
     "text": [
      "[codecarbon INFO @ 18:05:01] Energy consumed for RAM : 0.062820 kWh. RAM Power : 11.0212082862854 W\n",
      "[codecarbon INFO @ 18:05:01] Energy consumed for all CPUs : 0.242255 kWh. Total CPU Power : 42.5 W\n",
      "[codecarbon INFO @ 18:05:01] 0.305076 kWh of electricity used since the beginning.\n"
     ]
    },
    {
     "name": "stdout",
     "output_type": "stream",
     "text": [
      "193/205 [===========================>..] - ETA: 16s - loss: 0.7020 - accuracy: 0.7749"
     ]
    },
    {
     "name": "stderr",
     "output_type": "stream",
     "text": [
      "[codecarbon INFO @ 18:07:01] Energy consumed for RAM : 0.063187 kWh. RAM Power : 11.0212082862854 W\n",
      "[codecarbon INFO @ 18:07:01] Energy consumed for all CPUs : 0.243672 kWh. Total CPU Power : 42.5 W\n",
      "[codecarbon INFO @ 18:07:01] 0.306860 kWh of electricity used since the beginning.\n"
     ]
    },
    {
     "name": "stdout",
     "output_type": "stream",
     "text": [
      "205/205 [==============================] - 294s 1s/step - loss: 0.7032 - accuracy: 0.7741 - val_loss: 1.7339 - val_accuracy: 0.6056\n"
     ]
    },
    {
     "name": "stderr",
     "output_type": "stream",
     "text": [
      "[codecarbon INFO @ 18:07:26] Energy consumed for RAM : 0.063262 kWh. RAM Power : 11.0212082862854 W\n",
      "[codecarbon INFO @ 18:07:26] Energy consumed for all CPUs : 0.243960 kWh. Total CPU Power : 42.5 W\n",
      "[codecarbon INFO @ 18:07:26] 0.307222 kWh of electricity used since the beginning.\n"
     ]
    },
    {
     "name": "stdout",
     "output_type": "stream",
     "text": [
      "0.11308907500782303\n"
     ]
    },
    {
     "name": "stderr",
     "output_type": "stream",
     "text": [
      "2024-04-24 18:07:28.679887: I tensorflow/core/common_runtime/executor.cc:1197] [/device:CPU:0] (DEBUG INFO) Executor start aborting (this does not indicate an error and you can ignore this message): INVALID_ARGUMENT: You must feed a value for placeholder tensor 'random_flip_input' with dtype float and shape [?,224,224,3]\n",
      "\t [[{{node random_flip_input}}]]\n",
      "2024-04-24 18:07:28.798682: I tensorflow/core/common_runtime/executor.cc:1197] [/device:CPU:0] (DEBUG INFO) Executor start aborting (this does not indicate an error and you can ignore this message): INVALID_ARGUMENT: You must feed a value for placeholder tensor 'inputs' with dtype float and shape [?,224,224,3]\n",
      "\t [[{{node inputs}}]]\n",
      "2024-04-24 18:07:28.812470: I tensorflow/core/common_runtime/executor.cc:1197] [/device:CPU:0] (DEBUG INFO) Executor start aborting (this does not indicate an error and you can ignore this message): INVALID_ARGUMENT: You must feed a value for placeholder tensor 'random_flip_input' with dtype float and shape [?,224,224,3]\n",
      "\t [[{{node random_flip_input}}]]\n",
      "2024-04-24 18:07:28.836777: I tensorflow/core/common_runtime/executor.cc:1197] [/device:CPU:0] (DEBUG INFO) Executor start aborting (this does not indicate an error and you can ignore this message): INVALID_ARGUMENT: You must feed a value for placeholder tensor 'inputs' with dtype float and shape [?,224,224,3]\n",
      "\t [[{{node inputs}}]]\n",
      "2024-04-24 18:07:28.854775: I tensorflow/core/common_runtime/executor.cc:1197] [/device:CPU:0] (DEBUG INFO) Executor start aborting (this does not indicate an error and you can ignore this message): INVALID_ARGUMENT: You must feed a value for placeholder tensor 'inputs' with dtype float and shape [?,224,224,3]\n",
      "\t [[{{node inputs}}]]\n",
      "2024-04-24 18:07:28.876634: I tensorflow/core/common_runtime/executor.cc:1197] [/device:CPU:0] (DEBUG INFO) Executor start aborting (this does not indicate an error and you can ignore this message): INVALID_ARGUMENT: You must feed a value for placeholder tensor 'inputs' with dtype float and shape [?,224,224,3]\n",
      "\t [[{{node inputs}}]]\n",
      "2024-04-24 18:07:29.030816: I tensorflow/core/common_runtime/executor.cc:1197] [/device:CPU:0] (DEBUG INFO) Executor start aborting (this does not indicate an error and you can ignore this message): INVALID_ARGUMENT: You must feed a value for placeholder tensor 'sequential_input' with dtype float and shape [?,224,224,3]\n",
      "\t [[{{node sequential_input}}]]\n",
      "2024-04-24 18:07:29.293514: I tensorflow/core/common_runtime/executor.cc:1197] [/device:CPU:0] (DEBUG INFO) Executor start aborting (this does not indicate an error and you can ignore this message): INVALID_ARGUMENT: You must feed a value for placeholder tensor 'inputs' with dtype float and shape [?,224,224,3]\n",
      "\t [[{{node inputs}}]]\n",
      "2024-04-24 18:07:29.360902: I tensorflow/core/common_runtime/executor.cc:1197] [/device:CPU:0] (DEBUG INFO) Executor start aborting (this does not indicate an error and you can ignore this message): INVALID_ARGUMENT: You must feed a value for placeholder tensor 'sequential_input' with dtype float and shape [?,224,224,3]\n",
      "\t [[{{node sequential_input}}]]\n",
      "2024-04-24 18:07:29.517820: I tensorflow/core/common_runtime/executor.cc:1197] [/device:CPU:0] (DEBUG INFO) Executor start aborting (this does not indicate an error and you can ignore this message): INVALID_ARGUMENT: You must feed a value for placeholder tensor 'inputs' with dtype float and shape [?,1,1,512]\n",
      "\t [[{{node inputs}}]]\n",
      "2024-04-24 18:07:29.551660: I tensorflow/core/common_runtime/executor.cc:1197] [/device:CPU:0] (DEBUG INFO) Executor start aborting (this does not indicate an error and you can ignore this message): INVALID_ARGUMENT: You must feed a value for placeholder tensor 'inputs' with dtype float and shape [?,150]\n",
      "\t [[{{node inputs}}]]\n",
      "2024-04-24 18:07:29.601082: I tensorflow/core/common_runtime/executor.cc:1197] [/device:CPU:0] (DEBUG INFO) Executor start aborting (this does not indicate an error and you can ignore this message): INVALID_ARGUMENT: You must feed a value for placeholder tensor 'inputs' with dtype float and shape [?,224,224,3]\n",
      "\t [[{{node inputs}}]]\n",
      "2024-04-24 18:07:29.830463: I tensorflow/core/common_runtime/executor.cc:1197] [/device:CPU:0] (DEBUG INFO) Executor start aborting (this does not indicate an error and you can ignore this message): INVALID_ARGUMENT: You must feed a value for placeholder tensor 'inputs' with dtype float and shape [?,224,224,3]\n",
      "\t [[{{node inputs}}]]\n",
      "2024-04-24 18:07:30.136978: I tensorflow/core/common_runtime/executor.cc:1197] [/device:CPU:0] (DEBUG INFO) Executor start aborting (this does not indicate an error and you can ignore this message): INVALID_ARGUMENT: You must feed a value for placeholder tensor 'inputs' with dtype float and shape [?,224,224,3]\n",
      "\t [[{{node inputs}}]]\n",
      "2024-04-24 18:07:30.504760: I tensorflow/core/common_runtime/executor.cc:1197] [/device:CPU:0] (DEBUG INFO) Executor start aborting (this does not indicate an error and you can ignore this message): INVALID_ARGUMENT: You must feed a value for placeholder tensor 'inputs' with dtype float and shape [?,1,1,512]\n",
      "\t [[{{node inputs}}]]\n",
      "2024-04-24 18:07:30.577149: I tensorflow/core/common_runtime/executor.cc:1197] [/device:CPU:0] (DEBUG INFO) Executor start aborting (this does not indicate an error and you can ignore this message): INVALID_ARGUMENT: You must feed a value for placeholder tensor 'inputs' with dtype float and shape [?,150]\n",
      "\t [[{{node inputs}}]]\n",
      "2024-04-24 18:07:30.627840: I tensorflow/core/common_runtime/executor.cc:1197] [/device:CPU:0] (DEBUG INFO) Executor start aborting (this does not indicate an error and you can ignore this message): INVALID_ARGUMENT: You must feed a value for placeholder tensor 'inputs' with dtype float and shape [?,224,224,3]\n",
      "\t [[{{node inputs}}]]\n",
      "2024-04-24 18:07:30.690309: I tensorflow/core/common_runtime/executor.cc:1197] [/device:CPU:0] (DEBUG INFO) Executor start aborting (this does not indicate an error and you can ignore this message): INVALID_ARGUMENT: You must feed a value for placeholder tensor 'inputs' with dtype float and shape [?,224,224,3]\n",
      "\t [[{{node inputs}}]]\n",
      "WARNING:absl:Found untraced functions such as _jit_compiled_convolution_op, _jit_compiled_convolution_op, _jit_compiled_convolution_op, _jit_compiled_convolution_op, _jit_compiled_convolution_op while saving (showing 5 of 8). These functions will not be directly callable after loading.\n"
     ]
    },
    {
     "name": "stdout",
     "output_type": "stream",
     "text": [
      "INFO:tensorflow:Assets written to: gs://plant_buddy/models/models/model12_8conv1_apr/assets\n"
     ]
    },
    {
     "name": "stderr",
     "output_type": "stream",
     "text": [
      "INFO:tensorflow:Assets written to: gs://plant_buddy/models/models/model12_8conv1_apr/assets\n"
     ]
    }
   ],
   "source": [
    "tracker = OfflineEmissionsTracker(country_iso_code=\"USA\", measure_power_secs=120, output_dir=\"gs://plant_buddy/energy\", output_file=\"emissions12_8conv1_apr.csv\")\n",
    "tracker.start()\n",
    "\n",
    "history = model.fit(training_set,\n",
    "        batch_size = 32,\n",
    "        epochs=70,\n",
    "        validation_data=validation_set)\n",
    "\n",
    "emissions: float = tracker.stop()\n",
    "print(emissions)\n",
    "\n",
    "model.save('gs://plant_buddy/models/models/model12_8conv1_apr')\n",
    "pd.DataFrame.from_dict(history.history).to_csv('gs://plant_buddy/histories/history12_8conv1_apr.csv',index=False)"
   ]
  },
  {
   "cell_type": "code",
   "execution_count": null,
   "id": "b79a3fca-45fc-4a98-b15e-abfdd326f5ab",
   "metadata": {},
   "outputs": [],
   "source": [
    "tracker = OfflineEmissionsTracker(country_iso_code=\"USA\", measure_power_secs=30, output_dir=\"gs://plant_buddy/energy\", output_file=\"emissions12_8conv_17_re_eval.csv\")\n",
    "tracker.start()\n",
    "\n",
    "loss, accuracy = model.evaluate(test_set)\n",
    "print('Test accuracy :', accuracy)\n",
    "print('Test loss :', loss)\n",
    "\n",
    "emissions: float = tracker.stop()\n",
    "print(emissions)"
   ]
  },
  {
   "cell_type": "code",
   "execution_count": null,
   "id": "7cee9f1a-de23-420d-9eec-1d3b03e622d1",
   "metadata": {},
   "outputs": [],
   "source": [
    "# converter = tf.lite.TFLiteConverter.from_saved_model('effnet2_apr')\n",
    "# converter.optimizations = [tf.lite.Optimize.DEFAULT]\n",
    "# tflite_quant_model = converter.convert()\n",
    "\n",
    "converter = tf.lite.TFLiteConverter.from_saved_model('gs://plant_buddy/models/models/model12_9conv17_re2_ad1')\n",
    "tflite_model = converter.convert()\n",
    "\n",
    "with open('model12_9conv17_re2_ad1.tflite', 'wb') as f:\n",
    "  f.write(tflite_model)"
   ]
  }
 ],
 "metadata": {
  "kernelspec": {
   "display_name": "TensorFlow 2.12 (Local)",
   "language": "python",
   "name": "tf2-2-12"
  },
  "language_info": {
   "codemirror_mode": {
    "name": "ipython",
    "version": 3
   },
   "file_extension": ".py",
   "mimetype": "text/x-python",
   "name": "python",
   "nbconvert_exporter": "python",
   "pygments_lexer": "ipython3",
   "version": "3.10.13"
  }
 },
 "nbformat": 4,
 "nbformat_minor": 5
}
